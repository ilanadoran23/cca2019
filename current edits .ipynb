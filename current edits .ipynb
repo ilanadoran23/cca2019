{
 "cells": [
  {
   "cell_type": "code",
   "execution_count": 85,
   "metadata": {},
   "outputs": [],
   "source": [
    "from solartwins import *\n",
    "from scipy import optimize"
   ]
  },
  {
   "cell_type": "code",
   "execution_count": 97,
   "metadata": {},
   "outputs": [],
   "source": [
    "def covmatrix(x, y, error): #Hogg 2010 eq 18  : [σb^2  σmb  σmb σm^2] = [A^T C^−1 A]^−1\n",
    "    #removing nan data  \n",
    "    for h, txt in enumerate(y):\n",
    "        if (math.isnan(txt) == True):\n",
    "            del x[h]\n",
    "            del y[h]\n",
    "            del error[h]\n",
    "            \n",
    "    #C \n",
    "    errororsq = np.square(error)\n",
    "    errororC = np.diag(errororsq)\n",
    "    abu = ([1] * len(x))\n",
    "\n",
    "    #A  \n",
    "    axer = np.copy(x)\n",
    "    matri = []\n",
    "    for z, txt in enumerate(axer):\n",
    "        matri.append(axer[z])\n",
    "        matri.append(abu[z])\n",
    "    aa= np.matrix(matri).reshape((len(x), 2))\n",
    "\n",
    "    #transpose of A and inverse of C, then plugged in \n",
    "    Att = np.transpose(aa)\n",
    "    inverrororC = np.linalg.inv(errororC)\n",
    "    inbrackets = np.dot(Att, np.dot(inverrororC, aa))\n",
    "\n",
    "    covmatrix = np.linalg.inv(inbrackets)\n",
    "    #covmatrix = [σ^2m, σmb, σmb, σ^2b]\n",
    "    return covmatrix"
   ]
  },
  {
   "cell_type": "code",
   "execution_count": 98,
   "metadata": {},
   "outputs": [
    {
     "data": {
      "text/plain": [
       "matrix([[ 1.63994941e-11, -2.22504882e-08],\n",
       "        [-2.22504882e-08,  3.11346864e-05]])"
      ]
     },
     "execution_count": 98,
     "metadata": {},
     "output_type": "execute_result"
    }
   ],
   "source": [
    "HIP10175table = star_table('HIP10175')\n",
    "abundance = np.array(HIP10175table.columns[1])\n",
    "error = np.array(HIP10175table.columns[2]) \n",
    "temperature = np.array(HIP10175table.columns[3])\n",
    "\n",
    "jackk = find_m_b(temperature, abundance, error)\n",
    "s = covmatrix(temperature,abundance,error)\n",
    "s"
   ]
  },
  {
   "cell_type": "code",
   "execution_count": 88,
   "metadata": {},
   "outputs": [],
   "source": [
    "def lnL(param, x, y, error): # Hogg: lnL = -1/2 sum [(y- (mx+b))^2/(err^2 + d^2)] -1/2 sum ln(err^2 + d^2)\n",
    "    x = np.array(x)\n",
    "    y = np.array(y)\n",
    "    error = np.array(error)\n",
    "    (m,b,d) = param \n",
    "\n",
    "    sum1 = 0\n",
    "    for j, val in enumerate(x):\n",
    "        mxb = m*val + b\n",
    "        value = ((y[j] - mxb)**2)/((error[j]**2) + (d**2))\n",
    "        sum1 = sum1 + value \n",
    "    sum1 = sum1 *(-1/2)\n",
    "    \n",
    "    num = 0\n",
    "    for e, ooh in enumerate(error):\n",
    "        val2 = np.log((ooh**2) + (d**2))\n",
    "        num = num + val2 \n",
    "    num = num * (-1/2)\n",
    "    \n",
    "    lnL = sum1 + num\n",
    "    return lnL"
   ]
  },
  {
   "cell_type": "code",
   "execution_count": 99,
   "metadata": {},
   "outputs": [
    {
     "data": {
      "text/plain": [
       "      fun: -539393271252597.7\n",
       " hess_inv: array([[ 1.27944883e-01, -6.36601761e+01, -1.94231584e-04],\n",
       "       [-6.36601761e+01,  3.16747175e+04,  9.66417457e-02],\n",
       "       [-1.94231584e-04,  9.66417457e-02,  2.94860626e-07]])\n",
       "      jac: array([4.60289170e+13, 3.21032028e+10, 1.97989336e+16])\n",
       "  message: 'Desired error not necessarily achieved due to precision loss.'\n",
       "     nfev: 627\n",
       "      nit: 8\n",
       "     njev: 123\n",
       "   status: 2\n",
       "  success: False\n",
       "        x: array([-4.05404823e+01,  2.45220570e+04,  1.99162387e-04])"
      ]
     },
     "execution_count": 99,
     "metadata": {},
     "output_type": "execute_result"
    }
   ],
   "source": [
    "x0 = (jackk[0], jackk[1], -0.001) #initial guess\n",
    "res = scipy.optimize.minimize(lnL, x0, args = (temperature, abundance, error))\n",
    "res"
   ]
  },
  {
   "cell_type": "code",
   "execution_count": 90,
   "metadata": {},
   "outputs": [],
   "source": [
    "def delta(param, x, y): # Hogg 2010 eqn 30 : ∆i = (vˆT Zi) − b cos θ \n",
    "    (m,b,d) = param\n",
    "    theta = np.arctan(m)\n",
    "    v = np.array([- np.sin(theta), np.cos(theta)]) # v = [− sin θ  cos θ]\n",
    "    \n",
    "    bcostheta = b * np.cos(theta)\n",
    "    zi = np.array([x, y])\n",
    "    delta = np.dot(np.transpose(v), zi) - bcostheta\n",
    "    return delta"
   ]
  },
  {
   "cell_type": "code",
   "execution_count": 91,
   "metadata": {},
   "outputs": [],
   "source": [
    "#2D uncertainties: lnL = K -  sum [delta^2 / 2* sum^2]\n",
    "def twoduncertain(param, x, y, err):\n",
    "    K = 0\n",
    "    d = delta(param, x, y)\n",
    "    (m,b,d) = param\n",
    "    s = covmatrix(x,y,err)\n",
    "    \n",
    "    #Σ^2 = vˆT Si vˆ \n",
    "    theta = np.arctan(m)\n",
    "    v = np.array([- np.sin(theta), np.cos(theta)]) # v = [− sin θ,  cos θ]\n",
    "    vT = np.transpose(v)\n",
    "    vTs= np.dot(vT, s)\n",
    "    vTsv= np.dot(vTs, v)\n",
    "    \n",
    "    lnl = K - (d**2)/(2*vTsv)\n",
    "    return lnl"
   ]
  },
  {
   "cell_type": "code",
   "execution_count": 92,
   "metadata": {},
   "outputs": [
    {
     "data": {
      "text/plain": [
       "matrix([[-0.0234805]])"
      ]
     },
     "execution_count": 92,
     "metadata": {},
     "output_type": "execute_result"
    }
   ],
   "source": [
    "twoduncertain(x0, temperature, abundance, error)"
   ]
  },
  {
   "cell_type": "code",
   "execution_count": 93,
   "metadata": {},
   "outputs": [],
   "source": [
    "def dm(param, x, y, error):\n",
    "    x = np.array(x)\n",
    "    y = np.array(y)\n",
    "    error = np.array(error)\n",
    "    (m,b,d) = param \n",
    "\n",
    "    sum1 = 0\n",
    "    for c, valu in enumerate(x): # sum (1/(d^2 + err^2) * 2(y-(mx+b)) * -x\n",
    "        mxb = m*valu + b\n",
    "        value = (1/((error[c]**2) + (d**2)) * 2 *(y[c] - mxb) * -valu)\n",
    "        sum1 = sum1 + value \n",
    "    sum1 = sum1 * (1/2)\n",
    "    \n",
    "    sum2 = 0\n",
    "    for e, ooh in enumerate(error): # 1/2 * sum (ln(err^2 + d^2))\n",
    "        val2 = np.log((ooh**2) + (d**2))\n",
    "        sum2 = sum2 + val2 \n",
    "    sum2 = sum2 * (1/2)\n",
    "    \n",
    "    return sum1 - sum2"
   ]
  },
  {
   "cell_type": "code",
   "execution_count": 94,
   "metadata": {},
   "outputs": [],
   "source": [
    "def db(param, x, y, error):\n",
    "    x = np.array(x)\n",
    "    y = np.array(y)\n",
    "    error = np.array(error)\n",
    "    (m,b,d) = param \n",
    "\n",
    "    sum1 = 0\n",
    "    for c, valu in enumerate(x): # sum (1/(d^2 + err^2) * 2(y-(mx+b))\n",
    "        mxb = m*valu + b\n",
    "        value = (1/((error[c]**2) + (d**2)) * 2 *(y[c] - mxb))\n",
    "        sum1 = sum1 + value \n",
    "    sum1 = sum1 * (1/2)\n",
    "    \n",
    "    sum2 = 0\n",
    "    for e, ooh in enumerate(error): # 1/2 * sum (ln(err^2 + d^2))\n",
    "        val2 = np.log((ooh**2) + (d**2))\n",
    "        sum2 = sum2 + val2 \n",
    "    sum2 = sum2 * (1/2)\n",
    "    \n",
    "    return sum1 - sum2"
   ]
  },
  {
   "cell_type": "code",
   "execution_count": 95,
   "metadata": {},
   "outputs": [],
   "source": [
    "def dd(param, x, y, error):\n",
    "    x = np.array(x)\n",
    "    y = np.array(y)\n",
    "    error = np.array(error)\n",
    "    (m,b,d) = param \n",
    "\n",
    "    sum1 = 0\n",
    "    for c, valu in enumerate(x): # sum (2d/(d^2 + err^2)^2 * (y-(mx+b))^2 \n",
    "        mxb = m*valu + b\n",
    "        value = (((2*d)/(((error[c]**2) + (d**2))**2)) * (y[c] - mxb)**2)\n",
    "        sum1 = sum1 + value \n",
    "    sum1 = sum1 * (1/2)\n",
    "    \n",
    "    sum2 = 0\n",
    "    for e, ooh in enumerate(error): # 1/2 * sum (1/(err^2 + d^2)  * 2d)\n",
    "        val2 = (2*d)/((ooh**2) + (d**2))\n",
    "        sum2 = sum2 + val2 \n",
    "    sum2 = sum2 * (1/2)\n",
    "    \n",
    "    return sum1 - sum2"
   ]
  },
  {
   "cell_type": "code",
   "execution_count": null,
   "metadata": {},
   "outputs": [],
   "source": []
  },
  {
   "cell_type": "code",
   "execution_count": null,
   "metadata": {},
   "outputs": [],
   "source": []
  },
  {
   "cell_type": "code",
   "execution_count": null,
   "metadata": {},
   "outputs": [],
   "source": []
  },
  {
   "cell_type": "code",
   "execution_count": null,
   "metadata": {},
   "outputs": [],
   "source": []
  },
  {
   "cell_type": "code",
   "execution_count": null,
   "metadata": {},
   "outputs": [],
   "source": []
  },
  {
   "cell_type": "code",
   "execution_count": null,
   "metadata": {},
   "outputs": [],
   "source": []
  }
 ],
 "metadata": {
  "kernelspec": {
   "display_name": "Python 3",
   "language": "python",
   "name": "python3"
  },
  "language_info": {
   "codemirror_mode": {
    "name": "ipython",
    "version": 3
   },
   "file_extension": ".py",
   "mimetype": "text/x-python",
   "name": "python",
   "nbconvert_exporter": "python",
   "pygments_lexer": "ipython3",
   "version": "3.7.0"
  }
 },
 "nbformat": 4,
 "nbformat_minor": 2
}
