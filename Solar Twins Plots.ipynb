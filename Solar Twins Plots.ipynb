{
 "cells": [
  {
   "cell_type": "code",
   "execution_count": 361,
   "metadata": {},
   "outputs": [],
   "source": [
    "from astropy.table import Table\n",
    "%matplotlib inline  \n",
    "import matplotlib.pyplot as plt\n",
    "import numpy as np\n",
    "import random\n",
    "import math\n",
    "import statistics\n",
    "import scipy \n",
    "from condensation_temperature import * \n",
    "\n",
    "fig_size = plt.rcParams[\"figure.figsize\"]\n",
    "fig_size[0] = 9\n",
    "fig_size[1] = 6\n",
    "plt.rcParams[\"figure.figsize\"] = fig_size"
   ]
  },
  {
   "cell_type": "code",
   "execution_count": 362,
   "metadata": {},
   "outputs": [],
   "source": [
    "t= Table.read('solar_twins_data.fits') #fits file as table "
   ]
  },
  {
   "cell_type": "code",
   "execution_count": 363,
   "metadata": {},
   "outputs": [],
   "source": [
    "def find_stellar_abundances(star):\n",
    "    for i, txt in enumerate(t['star_name']):\n",
    "        if txt == star:\n",
    "            tbl = t[i] #inputted star's row\n",
    "            tbl\n",
    "\n",
    "    star_elements =[]\n",
    "    elnames = tbl.columns[3:64]\n",
    "    for n in elnames:\n",
    "        if len(n) < 3 :\n",
    "            star_elements.append(n)\n",
    "            star_elements #list of elements in that star\n",
    "    \n",
    "    star_abundance = []\n",
    "    for n in star_elements:\n",
    "        star_abundance.append(tbl[n])\n",
    "        star_abundance #list of element abundances\n",
    "        \n",
    "    star_con_temp = []\n",
    "    for n in star_elements:\n",
    "        star_con_temp.append(tc_map[n])\n",
    "        star_con_temp #condensation temperatures for stellar elements\n",
    "    \n",
    "    star_error_elements = []\n",
    "    for r in elnames:\n",
    "        if len(r) > 3 :\n",
    "            star_error_elements.append(r) #list of elements recorded in star\n",
    "\n",
    "    el_error = []\n",
    "    for k in star_error_elements:\n",
    "        el_error.append(tbl[k])\n",
    "        el_error #list of error values for elements\n",
    "    \n",
    "    star_table = Table([star_elements, star_abundance, el_error, star_con_temp], names=('Element', 'Abundance',\n",
    "        'Abundance Error','Condensation Temp')) #table of temperature vs abundance for elements \n",
    "    return star_table"
   ]
  },
  {
   "cell_type": "code",
   "execution_count": 364,
   "metadata": {},
   "outputs": [],
   "source": [
    "#function for returning the best slope and intercept using linear algebra\n",
    "#[m b] = [A^T C^-1 A]^-1 [A^T C^-1 Y]\n",
    "def find_m_b(x,y,err):\n",
    "    safe = np.isfinite(y)\n",
    "    x = x[safe]\n",
    "    y = y[safe]\n",
    "    err = err[safe]\n",
    "    print(err)\n",
    "    \n",
    "    errorsq = np.square(err)\n",
    "    C = np.diag(errorsq)\n",
    "    xb = ([1] * len(x))\n",
    "    mata = []\n",
    "        \n",
    "    for z, txt in enumerate(x):\n",
    "        mata.append(x[z])\n",
    "        mata.append(xb[z])\n",
    "            \n",
    "    A= np.matrix(mata).reshape((len(x), 2))\n",
    "    At = np.transpose(A)\n",
    "    invC = np.linalg.inv(C)\n",
    "    pt1 = np.dot(At, np.dot(invC,A))\n",
    "    invpt1= np.linalg.inv(pt1)\n",
    "    pt2 = np.dot(At, np.dot(invC, y)).T\n",
    "    cov = np.dot(invpt1, pt2)\n",
    "        \n",
    "    m_= float(cov[0])\n",
    "    b_= float(cov[1])\n",
    "    return m_,b_ "
   ]
  },
  {
   "cell_type": "code",
   "execution_count": 365,
   "metadata": {},
   "outputs": [],
   "source": [
    "#jackknife method for determining other possible values of m and b \n",
    "def jackknifemb(_tp,_ab,_er):\n",
    "    N=1000\n",
    "    l=list(np.copy(_tp))\n",
    "    k=list(np.copy(_ab))\n",
    "    s=list(np.copy(_er))\n",
    "    jackm= []\n",
    "    jackb= [] \n",
    "    h=0\n",
    "    \n",
    "    #leaving out one point from data set and calculating m, b for each instance\n",
    "    while h<N:\n",
    "        w = random.randint(0, 29)\n",
    "        del l[w]\n",
    "        del k[w]\n",
    "        del s[w] #removing one data set from lists \n",
    "    \n",
    "        jk_mb = find_m_b(l,k,s)\n",
    "        jk_m = jk_mb[0]\n",
    "        jk_b = jk_mb[1]\n",
    "\n",
    "        jackm.append(jk_m)\n",
    "        jackb.append(jk_b)\n",
    "            \n",
    "        l=list(np.copy(_tp))\n",
    "        k=list(np.copy(_ab))\n",
    "        s=list(np.copy(_er))\n",
    "        h=h+1 \n",
    "        \n",
    "    return jackm, jackb"
   ]
  },
  {
   "cell_type": "code",
   "execution_count": 366,
   "metadata": {},
   "outputs": [],
   "source": [
    "def stellar_abundance_plot(star): \n",
    "    for i, txt in enumerate(t['star_name']):\n",
    "        if txt == star:\n",
    "            tbl = t[i] #inputted star's row\n",
    "            tbl\n",
    "\n",
    "    star_elements =[]\n",
    "    elnames = tbl.columns[3:64]\n",
    "    for n in elnames:\n",
    "        if len(n) < 3 :\n",
    "            star_elements.append(n)\n",
    "            star_elements #list of elements in that star\n",
    "    \n",
    "    star_abundance = []\n",
    "    for n in star_elements:\n",
    "        star_abundance.append(tbl[n])\n",
    "        star_abundance #list of element abundances\n",
    "        \n",
    "    star_con_temp = []\n",
    "    for n in star_elements:\n",
    "        star_con_temp.append(tc_map[n])\n",
    "        star_con_temp #condensation temperatures for stellar elements\n",
    "    new=np.array(star_con_temp)\n",
    "    \n",
    "    star_error_elements = []\n",
    "    for r in elnames:\n",
    "        if len(r) > 3 :\n",
    "            star_error_elements.append(r)\n",
    "\n",
    "    el_error = []\n",
    "    for k in star_error_elements:\n",
    "        el_error.append(tbl[k])\n",
    "        el_error #list of error values for elements\n",
    "    \n",
    "    star_table = Table([star_elements, star_abundance, el_error, star_con_temp], names=('Element', 'Abundance',\n",
    "        'Abundance Error','Condensation Temp'))\n",
    "\n",
    "    plt.scatter(star_con_temp, star_abundance)\n",
    "    plt.xlabel('Tc',fontsize='xx-large', family='sans-serif')\n",
    "    plt.ylabel('Element Abundance', fontsize='xx-large', family='sans-serif')\n",
    "    plt.title('Temperature vs Element Abundance for {0}'.format(star), fontsize= 'xx-large', family='sans-serif')\n",
    "\n",
    "    #point labels\n",
    "    for i, txt in enumerate(star_elements):\n",
    "            plt.annotate(txt, xy=(star_con_temp[i], star_abundance[i]), xytext=(-13,-6), \n",
    "                textcoords='offset points', ha='center', va='bottom')\n",
    "            \n",
    "    jk= jackknifemb(star_con_temp, star_abundance, el_error)\n",
    "    for i, txt in enumerate (jk[0]):\n",
    "        plt.scatter(star_con_temp, star_abundance)\n",
    "        plt.xlabel('Tc',fontsize='xx-large', family='sans-serif')\n",
    "        plt.ylabel('Element Abundance', fontsize='xx-large', family='sans-serif')\n",
    "        plt.title('Temperature vs Element Abundance', fontsize= 'xx-large', family='sans-serif')\n",
    "\n",
    "        temparray=np.array(star_con_temp)\n",
    "        plot_xs = np.arange(0, 1750, .1)\n",
    "        plt.plot(plot_xs, jk[0][i] * plot_xs + (jk[1][i]), color = 'lightgray', linewidth=0.1)\n",
    "    \n",
    "    #error bars\n",
    "    plt.errorbar(star_con_temp, star_abundance, yerr= el_error, fmt='o', color='black',\n",
    "                 ecolor='lightsteelblue', elinewidth=3,capsize=0)\n",
    "    \n",
    "    #line of best fit m,b values\n",
    "\n",
    "    mb = find_m_b(star_con_temp, star_abundance, el_error)    \n",
    "    plot_xs = np.arange(1750)\n",
    "    plt.plot(plot_xs, (mb[0]) * plot_xs + (mb[1]), color='teal') \n",
    "    plt.savefig(star+'.png')"
   ]
  },
  {
   "cell_type": "code",
   "execution_count": 367,
   "metadata": {},
   "outputs": [],
   "source": [
    "#chi squared :  [Y - AX]^T C^-1 [Y - AX]\n",
    "def chisquared(param, x, y, erro): \n",
    "    ab = ([1] * len(x))\n",
    "    Amat = []\n",
    "    for z, txt in enumerate(x):\n",
    "        Amat.append(x[z])\n",
    "        Amat.append(ab[z])  \n",
    "    A= np.array(Amat).reshape((len(x), 2))\n",
    "\n",
    "    errorsq = np.square(erro)\n",
    "    C = np.diag(errorsq)\n",
    "    invsC = np.linalg.inv(C)\n",
    "\n",
    "    AT= np.transpose(A)\n",
    "    part1 = np.dot(AT, np.dot(invsC, A))\n",
    "    invprt1= np.linalg.inv(part1)\n",
    "    part2 = np.dot(AT, np.dot(invsC, y)).T\n",
    "    X = np.dot(invprt1, part2)\n",
    "    [X[0], X[1]] = param\n",
    "    AX = np.dot(A,X)\n",
    "    \n",
    "    yax = (y - AX)\n",
    "    yaxT = np.transpose(yax)\n",
    "    yaxTinvsC = np.dot(yaxT, invsC)\n",
    "\n",
    "    chisq = (np.dot(yaxTinvsC, yax))\n",
    "    return (chisq)"
   ]
  },
  {
   "cell_type": "code",
   "execution_count": 368,
   "metadata": {},
   "outputs": [],
   "source": [
    "def standardslopeerror(tem, abund, err):\n",
    "    errorsq = np.square(err)\n",
    "    errorC = np.diag(errorsq)\n",
    "    abu = ([1] * len(tem))\n",
    "    atemper = np.copy(tem)\n",
    "    matri = []\n",
    "        \n",
    "    for z, txt in enumerate(atemper):\n",
    "        matri.append(atemper[z])\n",
    "        matri.append(abu[z])\n",
    "            \n",
    "    aa= np.matrix(matri).reshape((len(tem), 2))\n",
    "    Att = np.transpose(aa)\n",
    "    inverrorC = np.linalg.inv(errorC)\n",
    "    prt1 = np.dot(Att, np.dot(inverrorC,aa))\n",
    "    invt1= np.linalg.inv(prt1)\n",
    "    prt2 = np.dot(Att, np.dot(inverrorC, abund)).T\n",
    "    covar = np.dot(invt1, prt2)\n",
    "        \n",
    "    _m_= float(covar[0])\n",
    "    _b_= float(covar[1]) #standard slope, intercept values found with linalg \n",
    "    \n",
    "    inbrackets = np.dot(Att, np.dot(inverrorC, aa))\n",
    "    sserror = np.linalg.inv(inbrackets)\n",
    "    #sserror = [σ^2m, σmb, σmb, σ^2b]\n",
    "    sse = np.sqrt(sserror[0,0]) #standard slope error\n",
    "    return sse"
   ]
  },
  {
   "cell_type": "code",
   "execution_count": 369,
   "metadata": {},
   "outputs": [],
   "source": [
    "def standardintercepterror(tem, abund, err):\n",
    "    errorsq = np.square(err)\n",
    "    errorC = np.diag(errorsq)\n",
    "    abu = ([1] * len(tem))\n",
    "    atemper = np.copy(tem)\n",
    "    matri = []\n",
    "        \n",
    "    for z, txt in enumerate(atemper):\n",
    "        matri.append(atemper[z])\n",
    "        matri.append(abu[z])\n",
    "            \n",
    "    aa= np.matrix(matri).reshape((len(tem), 2))\n",
    "    Att = np.transpose(aa)\n",
    "    inverrorC = np.linalg.inv(errorC)\n",
    "    prt1 = np.dot(Att, np.dot(inverrorC,aa))\n",
    "    invt1= np.linalg.inv(prt1)\n",
    "    prt2 = np.dot(Att, np.dot(inverrorC, abund)).T\n",
    "    covar = np.dot(invt1, prt2)\n",
    "        \n",
    "    _m_= float(covar[0])\n",
    "    _b_= float(covar[1]) #standard slope, intercept values found with linalg \n",
    "    \n",
    "    inbrackets = np.dot(Att, np.dot(inverrorC, aa))\n",
    "    sserror = np.linalg.inv(inbrackets)\n",
    "    #sserror = [σ^2m, σmb, σmb, σ^2b]\n",
    "    sie = np.sqrt(sserror[1,1]) #standard slope error\n",
    "    return sie"
   ]
  },
  {
   "cell_type": "code",
   "execution_count": 370,
   "metadata": {},
   "outputs": [],
   "source": [
    "def error_star_table(tp, ab, er):\n",
    "    N=1000\n",
    "    l=list(np.copy(tp))\n",
    "    k=list(np.copy(ab))\n",
    "    s=list(np.copy(er))\n",
    "    jackm= []\n",
    "    jackb= [] \n",
    "    h=0\n",
    "    \n",
    "    #leaving out one point from data set and calculating m, b for each instance\n",
    "    while h<N:\n",
    "        w = random.randint(0, 29)\n",
    "        del l[w]\n",
    "        del k[w]\n",
    "        del s[w] #removing one data set from lists \n",
    "    \n",
    "        jk_mb = find_m_b(l,k,s)\n",
    "        jk_m = jk_mb[0]\n",
    "        jk_b = jk_mb[1]\n",
    "\n",
    "        jackm.append(jk_m)\n",
    "        jackb.append(jk_b)\n",
    "            \n",
    "        l=list(np.copy(tp))\n",
    "        k=list(np.copy(ab))\n",
    "        s=list(np.copy(er))\n",
    "        h=h+1 \n",
    "    jackm\n",
    "    jackb\n",
    "    slopeer = standardslopeerror(tp,ab,er)\n",
    "    interer= standardintercepterror(tp,ab,er)\n",
    "    slopeintercept = find_m_b(tp,ab,er)\n",
    "    \n",
    "    error_type = ['slope', 'intercept']\n",
    "    a = [slopeintercept[0], slopeintercept[1]]\n",
    "    c = [statistics.stdev(jackm),statistics.stdev(jackb)]\n",
    "    d = [slopeer, interer]\n",
    "    tab = Table([error_type,a, c, d], names=('error type', 'value','standard dev', \n",
    "                                              'linear algebra uncertainty'))\n",
    "    return tab"
   ]
  },
  {
   "cell_type": "code",
   "execution_count": 371,
   "metadata": {},
   "outputs": [
    {
     "data": {
      "text/plain": [
       "      fun: 2416.247135631966\n",
       " hess_inv: array([[ 8.19974706e-12, -1.11252441e-08],\n",
       "       [-1.11252441e-08,  1.55673432e-05]])\n",
       "      jac: array([33.89880371, -2.70437622])\n",
       "  message: 'Desired error not necessarily achieved due to precision loss.'\n",
       "     nfev: 308\n",
       "      nit: 2\n",
       "     njev: 74\n",
       "   status: 2\n",
       "  success: False\n",
       "        x: array([ 9.41978671e-05, -1.21252981e-01])"
      ]
     },
     "execution_count": 371,
     "metadata": {},
     "output_type": "execute_result"
    }
   ],
   "source": [
    "x0 = [9e-5,.1]\n",
    "res = scipy.optimize.minimize(chisquared, x0, args=(temp, abundance, error))\n",
    "res"
   ]
  },
  {
   "cell_type": "markdown",
   "metadata": {},
   "source": [
    "mbvalues = []\n",
    "jackknifevalues = []\n",
    "x0 = [9e-5,.1]\n",
    "chivalues = []\n",
    "\n",
    "for i, txt in enumerate(t['star_name']):\n",
    "    tabl = find_stellar_abundances(txt)\n",
    "    \n",
    "    temperature= tabl.columns[3]\n",
    "    elementab = tabl.columns[1]\n",
    "    aberrors =tabl.columns[2]\n",
    "    \n",
    "    mbvalues.append(find_m_b(temperature,elementab, aberrors))\n",
    "    jackknifevalues.append(jackknifemb(temperature, elementab, aberrors))\n",
    "    chivalues.append(chisquared(x0, temperature, elementab, aberrors))\n",
    "    print(txt)\n",
    "    print(error_star_table(temperature, elementab, aberrors))"
   ]
  },
  {
   "cell_type": "code",
   "execution_count": 372,
   "metadata": {},
   "outputs": [
    {
     "ename": "TypeError",
     "evalue": "only integer scalar arrays can be converted to a scalar index",
     "output_type": "error",
     "traceback": [
      "\u001b[0;31m---------------------------------------------------------------------------\u001b[0m",
      "\u001b[0;31mTypeError\u001b[0m                                 Traceback (most recent call last)",
      "\u001b[0;32m~/cca2019/solartwins.py\u001b[0m in \u001b[0;36m<module>\u001b[0;34m()\u001b[0m\n\u001b[1;32m    325\u001b[0m \u001b[0;34m\u001b[0m\u001b[0m\n\u001b[1;32m    326\u001b[0m     \u001b[0mmbvalues\u001b[0m\u001b[0;34m.\u001b[0m\u001b[0mappend\u001b[0m\u001b[0;34m(\u001b[0m\u001b[0mfind_m_b\u001b[0m\u001b[0;34m(\u001b[0m\u001b[0mtemperature\u001b[0m\u001b[0;34m,\u001b[0m\u001b[0melementab\u001b[0m\u001b[0;34m,\u001b[0m \u001b[0maberrors\u001b[0m\u001b[0;34m)\u001b[0m\u001b[0;34m)\u001b[0m\u001b[0;34m\u001b[0m\u001b[0m\n\u001b[0;32m--> 327\u001b[0;31m     \u001b[0mjackknifevalues\u001b[0m\u001b[0;34m.\u001b[0m\u001b[0mappend\u001b[0m\u001b[0;34m(\u001b[0m\u001b[0mjackknifemb\u001b[0m\u001b[0;34m(\u001b[0m\u001b[0mnp\u001b[0m\u001b[0;34m.\u001b[0m\u001b[0marray\u001b[0m\u001b[0;34m(\u001b[0m\u001b[0mtemperature\u001b[0m\u001b[0;34m)\u001b[0m\u001b[0;34m,\u001b[0m\u001b[0mnp\u001b[0m\u001b[0;34m.\u001b[0m\u001b[0marray\u001b[0m\u001b[0;34m(\u001b[0m \u001b[0melementab\u001b[0m\u001b[0;34m)\u001b[0m\u001b[0;34m,\u001b[0m\u001b[0mnp\u001b[0m\u001b[0;34m.\u001b[0m\u001b[0marray\u001b[0m\u001b[0;34m(\u001b[0m \u001b[0maberrors\u001b[0m\u001b[0;34m)\u001b[0m\u001b[0;34m)\u001b[0m\u001b[0;34m)\u001b[0m\u001b[0;34m\u001b[0m\u001b[0m\n\u001b[0m\u001b[1;32m    328\u001b[0m     \u001b[0mchivalues\u001b[0m\u001b[0;34m.\u001b[0m\u001b[0mappend\u001b[0m\u001b[0;34m(\u001b[0m\u001b[0mchisquared\u001b[0m\u001b[0;34m(\u001b[0m\u001b[0mx0\u001b[0m\u001b[0;34m,\u001b[0m \u001b[0mtemperature\u001b[0m\u001b[0;34m,\u001b[0m \u001b[0melementab\u001b[0m\u001b[0;34m,\u001b[0m \u001b[0maberrors\u001b[0m\u001b[0;34m)\u001b[0m\u001b[0;34m)\u001b[0m\u001b[0;34m\u001b[0m\u001b[0m\n\u001b[1;32m    329\u001b[0m     \u001b[0mtableoferror\u001b[0m \u001b[0;34m=\u001b[0m \u001b[0;34m(\u001b[0m\u001b[0merror_star_table\u001b[0m\u001b[0;34m(\u001b[0m\u001b[0mtemperature\u001b[0m\u001b[0;34m,\u001b[0m \u001b[0melementab\u001b[0m\u001b[0;34m,\u001b[0m \u001b[0maberrors\u001b[0m\u001b[0;34m)\u001b[0m\u001b[0;34m)\u001b[0m\u001b[0;34m\u001b[0m\u001b[0m\n",
      "\u001b[0;32m~/cca2019/solartwins.py\u001b[0m in \u001b[0;36mjackknifemb\u001b[0;34m(_tp, _ab, _er)\u001b[0m\n\u001b[1;32m     99\u001b[0m         \u001b[0;32mdel\u001b[0m \u001b[0ms\u001b[0m\u001b[0;34m[\u001b[0m\u001b[0mw\u001b[0m\u001b[0;34m]\u001b[0m \u001b[0;31m#removing one data set from lists\u001b[0m\u001b[0;34m\u001b[0m\u001b[0m\n\u001b[1;32m    100\u001b[0m \u001b[0;34m\u001b[0m\u001b[0m\n\u001b[0;32m--> 101\u001b[0;31m         \u001b[0mjk_mb\u001b[0m \u001b[0;34m=\u001b[0m \u001b[0mfind_m_b\u001b[0m\u001b[0;34m(\u001b[0m\u001b[0ml\u001b[0m\u001b[0;34m,\u001b[0m\u001b[0mk\u001b[0m\u001b[0;34m,\u001b[0m\u001b[0ms\u001b[0m\u001b[0;34m)\u001b[0m\u001b[0;34m\u001b[0m\u001b[0m\n\u001b[0m\u001b[1;32m    102\u001b[0m         \u001b[0mjk_m\u001b[0m \u001b[0;34m=\u001b[0m \u001b[0mjk_mb\u001b[0m\u001b[0;34m[\u001b[0m\u001b[0;36m0\u001b[0m\u001b[0;34m]\u001b[0m\u001b[0;34m\u001b[0m\u001b[0m\n\u001b[1;32m    103\u001b[0m         \u001b[0mjk_b\u001b[0m \u001b[0;34m=\u001b[0m \u001b[0mjk_mb\u001b[0m\u001b[0;34m[\u001b[0m\u001b[0;36m1\u001b[0m\u001b[0;34m]\u001b[0m\u001b[0;34m\u001b[0m\u001b[0m\n",
      "\u001b[0;32m~/cca2019/solartwins.py\u001b[0m in \u001b[0;36mfind_m_b\u001b[0;34m(x, y, err)\u001b[0m\n\u001b[1;32m     57\u001b[0m \u001b[0;32mdef\u001b[0m \u001b[0mfind_m_b\u001b[0m\u001b[0;34m(\u001b[0m\u001b[0mx\u001b[0m\u001b[0;34m,\u001b[0m\u001b[0my\u001b[0m\u001b[0;34m,\u001b[0m\u001b[0merr\u001b[0m\u001b[0;34m)\u001b[0m\u001b[0;34m:\u001b[0m\u001b[0;34m\u001b[0m\u001b[0m\n\u001b[1;32m     58\u001b[0m     \u001b[0msafe\u001b[0m \u001b[0;34m=\u001b[0m \u001b[0mnp\u001b[0m\u001b[0;34m.\u001b[0m\u001b[0misfinite\u001b[0m\u001b[0;34m(\u001b[0m\u001b[0my\u001b[0m\u001b[0;34m)\u001b[0m\u001b[0;34m\u001b[0m\u001b[0m\n\u001b[0;32m---> 59\u001b[0;31m     \u001b[0mx\u001b[0m \u001b[0;34m=\u001b[0m \u001b[0mx\u001b[0m\u001b[0;34m[\u001b[0m\u001b[0msafe\u001b[0m\u001b[0;34m]\u001b[0m\u001b[0;34m\u001b[0m\u001b[0m\n\u001b[0m\u001b[1;32m     60\u001b[0m     \u001b[0my\u001b[0m \u001b[0;34m=\u001b[0m \u001b[0my\u001b[0m\u001b[0;34m[\u001b[0m\u001b[0msafe\u001b[0m\u001b[0;34m]\u001b[0m\u001b[0;34m\u001b[0m\u001b[0m\n\u001b[1;32m     61\u001b[0m     \u001b[0merr\u001b[0m \u001b[0;34m=\u001b[0m \u001b[0merr\u001b[0m\u001b[0;34m[\u001b[0m\u001b[0msafe\u001b[0m\u001b[0;34m]\u001b[0m\u001b[0;34m\u001b[0m\u001b[0m\n",
      "\u001b[0;31mTypeError\u001b[0m: only integer scalar arrays can be converted to a scalar index"
     ]
    }
   ],
   "source": [
    "run solartwins.py"
   ]
  },
  {
   "cell_type": "code",
   "execution_count": 376,
   "metadata": {},
   "outputs": [],
   "source": [
    "from solartwins import find_stellar_abundances"
   ]
  },
  {
   "cell_type": "code",
   "execution_count": 377,
   "metadata": {},
   "outputs": [
    {
     "ename": "NameError",
     "evalue": "name 't' is not defined",
     "output_type": "error",
     "traceback": [
      "\u001b[0;31m---------------------------------------------------------------------------\u001b[0m",
      "\u001b[0;31mNameError\u001b[0m                                 Traceback (most recent call last)",
      "\u001b[0;32m<ipython-input-377-b76c287af289>\u001b[0m in \u001b[0;36m<module>\u001b[0;34m()\u001b[0m\n\u001b[0;32m----> 1\u001b[0;31m \u001b[0mfind_stellar_abundances\u001b[0m\u001b[0;34m(\u001b[0m\u001b[0;34m'HIP114328'\u001b[0m\u001b[0;34m)\u001b[0m\u001b[0;34m\u001b[0m\u001b[0m\n\u001b[0m",
      "\u001b[0;32m~/cca2019/solartwins.py\u001b[0m in \u001b[0;36mfind_stellar_abundances\u001b[0;34m(star)\u001b[0m\n\u001b[1;32m     14\u001b[0m \u001b[0;34m\u001b[0m\u001b[0m\n\u001b[1;32m     15\u001b[0m \u001b[0mt\u001b[0m\u001b[0;34m=\u001b[0m \u001b[0mTable\u001b[0m\u001b[0;34m.\u001b[0m\u001b[0mread\u001b[0m\u001b[0;34m(\u001b[0m\u001b[0;34m'solar_twins_data.fits'\u001b[0m\u001b[0;34m)\u001b[0m \u001b[0;31m#fits file as table\u001b[0m\u001b[0;34m\u001b[0m\u001b[0m\n\u001b[0;32m---> 16\u001b[0;31m \u001b[0;34m\u001b[0m\u001b[0m\n\u001b[0m\u001b[1;32m     17\u001b[0m \u001b[0;32mdef\u001b[0m \u001b[0mfind_stellar_abundances\u001b[0m\u001b[0;34m(\u001b[0m\u001b[0mstar\u001b[0m\u001b[0;34m)\u001b[0m\u001b[0;34m:\u001b[0m\u001b[0;34m\u001b[0m\u001b[0m\n\u001b[1;32m     18\u001b[0m     \u001b[0mt\u001b[0m \u001b[0;34m=\u001b[0m \u001b[0mTable\u001b[0m\u001b[0;34m.\u001b[0m\u001b[0mread\u001b[0m\u001b[0;34m(\u001b[0m\u001b[0;34m'solar_twins_data.fits'\u001b[0m\u001b[0;34m)\u001b[0m \u001b[0;31m#fits file as table\u001b[0m\u001b[0;34m\u001b[0m\u001b[0m\n",
      "\u001b[0;31mNameError\u001b[0m: name 't' is not defined"
     ]
    }
   ],
   "source": [
    "find_stellar_abundances('HIP114328')"
   ]
  },
  {
   "cell_type": "code",
   "execution_count": 378,
   "metadata": {},
   "outputs": [
    {
     "ename": "NameError",
     "evalue": "name 't' is not defined",
     "output_type": "error",
     "traceback": [
      "\u001b[0;31m---------------------------------------------------------------------------\u001b[0m",
      "\u001b[0;31mNameError\u001b[0m                                 Traceback (most recent call last)",
      "\u001b[0;32m<ipython-input-378-ab3483fbc6d1>\u001b[0m in \u001b[0;36m<module>\u001b[0;34m()\u001b[0m\n\u001b[0;32m----> 1\u001b[0;31m \u001b[0mhip114328\u001b[0m \u001b[0;34m=\u001b[0m \u001b[0mfind_stellar_abundances\u001b[0m\u001b[0;34m(\u001b[0m\u001b[0;34m'HIP114328'\u001b[0m\u001b[0;34m)\u001b[0m\u001b[0;34m\u001b[0m\u001b[0m\n\u001b[0m\u001b[1;32m      2\u001b[0m \u001b[0mxt\u001b[0m\u001b[0;34m=\u001b[0m \u001b[0mnp\u001b[0m\u001b[0;34m.\u001b[0m\u001b[0marray\u001b[0m\u001b[0;34m(\u001b[0m\u001b[0mhip114328\u001b[0m\u001b[0;34m.\u001b[0m\u001b[0mcolumns\u001b[0m\u001b[0;34m[\u001b[0m\u001b[0;36m3\u001b[0m\u001b[0;34m]\u001b[0m\u001b[0;34m)\u001b[0m\u001b[0;34m\u001b[0m\u001b[0m\n\u001b[1;32m      3\u001b[0m \u001b[0mya\u001b[0m \u001b[0;34m=\u001b[0m \u001b[0mnp\u001b[0m\u001b[0;34m.\u001b[0m\u001b[0marray\u001b[0m\u001b[0;34m(\u001b[0m\u001b[0mhip114328\u001b[0m\u001b[0;34m.\u001b[0m\u001b[0mcolumns\u001b[0m\u001b[0;34m[\u001b[0m\u001b[0;36m1\u001b[0m\u001b[0;34m]\u001b[0m\u001b[0;34m)\u001b[0m\u001b[0;34m\u001b[0m\u001b[0m\n\u001b[1;32m      4\u001b[0m \u001b[0mze\u001b[0m \u001b[0;34m=\u001b[0m \u001b[0mnp\u001b[0m\u001b[0;34m.\u001b[0m\u001b[0marray\u001b[0m\u001b[0;34m(\u001b[0m\u001b[0mhip114328\u001b[0m\u001b[0;34m.\u001b[0m\u001b[0mcolumns\u001b[0m\u001b[0;34m[\u001b[0m\u001b[0;36m2\u001b[0m\u001b[0;34m]\u001b[0m\u001b[0;34m)\u001b[0m\u001b[0;34m\u001b[0m\u001b[0m\n\u001b[1;32m      5\u001b[0m \u001b[0mfind_m_b\u001b[0m\u001b[0;34m(\u001b[0m\u001b[0mxt\u001b[0m\u001b[0;34m,\u001b[0m \u001b[0mya\u001b[0m\u001b[0;34m,\u001b[0m \u001b[0mze\u001b[0m\u001b[0;34m)\u001b[0m\u001b[0;34m\u001b[0m\u001b[0m\n",
      "\u001b[0;32m~/cca2019/solartwins.py\u001b[0m in \u001b[0;36mfind_stellar_abundances\u001b[0;34m(star)\u001b[0m\n\u001b[1;32m     14\u001b[0m \u001b[0;34m\u001b[0m\u001b[0m\n\u001b[1;32m     15\u001b[0m \u001b[0mt\u001b[0m\u001b[0;34m=\u001b[0m \u001b[0mTable\u001b[0m\u001b[0;34m.\u001b[0m\u001b[0mread\u001b[0m\u001b[0;34m(\u001b[0m\u001b[0;34m'solar_twins_data.fits'\u001b[0m\u001b[0;34m)\u001b[0m \u001b[0;31m#fits file as table\u001b[0m\u001b[0;34m\u001b[0m\u001b[0m\n\u001b[0;32m---> 16\u001b[0;31m \u001b[0;34m\u001b[0m\u001b[0m\n\u001b[0m\u001b[1;32m     17\u001b[0m \u001b[0;32mdef\u001b[0m \u001b[0mfind_stellar_abundances\u001b[0m\u001b[0;34m(\u001b[0m\u001b[0mstar\u001b[0m\u001b[0;34m)\u001b[0m\u001b[0;34m:\u001b[0m\u001b[0;34m\u001b[0m\u001b[0m\n\u001b[1;32m     18\u001b[0m     \u001b[0mt\u001b[0m \u001b[0;34m=\u001b[0m \u001b[0mTable\u001b[0m\u001b[0;34m.\u001b[0m\u001b[0mread\u001b[0m\u001b[0;34m(\u001b[0m\u001b[0;34m'solar_twins_data.fits'\u001b[0m\u001b[0;34m)\u001b[0m \u001b[0;31m#fits file as table\u001b[0m\u001b[0;34m\u001b[0m\u001b[0m\n",
      "\u001b[0;31mNameError\u001b[0m: name 't' is not defined"
     ]
    }
   ],
   "source": [
    "hip114328 = find_stellar_abundances('HIP114328')\n",
    "xt= np.array(hip114328.columns[3])\n",
    "ya = np.array(hip114328.columns[1])\n",
    "ze = np.array(hip114328.columns[2])\n",
    "find_m_b(xt, ya, ze)"
   ]
  },
  {
   "cell_type": "code",
   "execution_count": 379,
   "metadata": {},
   "outputs": [
    {
     "name": "stdout",
     "output_type": "stream",
     "text": [
      "(-2.64966691443829e-05, 0.05342405708622877)\n"
     ]
    },
    {
     "ename": "TypeError",
     "evalue": "only integer scalar arrays can be converted to a scalar index",
     "output_type": "error",
     "traceback": [
      "\u001b[0;31m---------------------------------------------------------------------------\u001b[0m",
      "\u001b[0;31mTypeError\u001b[0m                                 Traceback (most recent call last)",
      "\u001b[0;32m<ipython-input-379-efc8ba3c1d72>\u001b[0m in \u001b[0;36m<module>\u001b[0;34m()\u001b[0m\n\u001b[1;32m      2\u001b[0m \u001b[0mm_b\u001b[0m \u001b[0;34m=\u001b[0m \u001b[0mfind_m_b\u001b[0m\u001b[0;34m(\u001b[0m\u001b[0mnp\u001b[0m\u001b[0;34m.\u001b[0m\u001b[0marray\u001b[0m\u001b[0;34m(\u001b[0m\u001b[0mxt\u001b[0m\u001b[0;34m)\u001b[0m\u001b[0;34m,\u001b[0m\u001b[0mnp\u001b[0m\u001b[0;34m.\u001b[0m\u001b[0marray\u001b[0m\u001b[0;34m(\u001b[0m\u001b[0mya\u001b[0m\u001b[0;34m)\u001b[0m\u001b[0;34m,\u001b[0m\u001b[0mnp\u001b[0m\u001b[0;34m.\u001b[0m\u001b[0marray\u001b[0m\u001b[0;34m(\u001b[0m\u001b[0mze\u001b[0m\u001b[0;34m)\u001b[0m\u001b[0;34m)\u001b[0m\u001b[0;34m\u001b[0m\u001b[0m\n\u001b[1;32m      3\u001b[0m \u001b[0mprint\u001b[0m\u001b[0;34m(\u001b[0m\u001b[0mm_b\u001b[0m\u001b[0;34m)\u001b[0m\u001b[0;34m\u001b[0m\u001b[0m\n\u001b[0;32m----> 4\u001b[0;31m \u001b[0mstellar_abundance_plot\u001b[0m\u001b[0;34m(\u001b[0m\u001b[0;34m'HIP114328'\u001b[0m\u001b[0;34m)\u001b[0m\u001b[0;34m\u001b[0m\u001b[0m\n\u001b[0m",
      "\u001b[0;32m~/cca2019/solartwins.py\u001b[0m in \u001b[0;36mstellar_abundance_plot\u001b[0;34m(star)\u001b[0m\n\u001b[1;32m    161\u001b[0m                 textcoords='offset points', ha='center', va='bottom')\n\u001b[1;32m    162\u001b[0m \u001b[0;34m\u001b[0m\u001b[0m\n\u001b[0;32m--> 163\u001b[0;31m     \u001b[0mjk\u001b[0m\u001b[0;34m=\u001b[0m \u001b[0mjackknifemb\u001b[0m\u001b[0;34m(\u001b[0m\u001b[0mstar_con_temp\u001b[0m\u001b[0;34m,\u001b[0m \u001b[0mstar_abundance\u001b[0m\u001b[0;34m,\u001b[0m \u001b[0mel_error\u001b[0m\u001b[0;34m)\u001b[0m\u001b[0;34m\u001b[0m\u001b[0m\n\u001b[0m\u001b[1;32m    164\u001b[0m     \u001b[0;32mfor\u001b[0m \u001b[0mi\u001b[0m\u001b[0;34m,\u001b[0m \u001b[0mtxt\u001b[0m \u001b[0;32min\u001b[0m \u001b[0menumerate\u001b[0m \u001b[0;34m(\u001b[0m\u001b[0mjk\u001b[0m\u001b[0;34m[\u001b[0m\u001b[0;36m0\u001b[0m\u001b[0;34m]\u001b[0m\u001b[0;34m)\u001b[0m\u001b[0;34m:\u001b[0m\u001b[0;34m\u001b[0m\u001b[0m\n\u001b[1;32m    165\u001b[0m         \u001b[0mplt\u001b[0m\u001b[0;34m.\u001b[0m\u001b[0mscatter\u001b[0m\u001b[0;34m(\u001b[0m\u001b[0mstar_con_temp\u001b[0m\u001b[0;34m,\u001b[0m \u001b[0mstar_abundance\u001b[0m\u001b[0;34m)\u001b[0m\u001b[0;34m\u001b[0m\u001b[0m\n",
      "\u001b[0;32m~/cca2019/solartwins.py\u001b[0m in \u001b[0;36mjackknifemb\u001b[0;34m(_tp, _ab, _er)\u001b[0m\n\u001b[1;32m     99\u001b[0m         \u001b[0;32mdel\u001b[0m \u001b[0ms\u001b[0m\u001b[0;34m[\u001b[0m\u001b[0mw\u001b[0m\u001b[0;34m]\u001b[0m \u001b[0;31m#removing one data set from lists\u001b[0m\u001b[0;34m\u001b[0m\u001b[0m\n\u001b[1;32m    100\u001b[0m \u001b[0;34m\u001b[0m\u001b[0m\n\u001b[0;32m--> 101\u001b[0;31m         \u001b[0mjk_mb\u001b[0m \u001b[0;34m=\u001b[0m \u001b[0mfind_m_b\u001b[0m\u001b[0;34m(\u001b[0m\u001b[0ml\u001b[0m\u001b[0;34m,\u001b[0m\u001b[0mk\u001b[0m\u001b[0;34m,\u001b[0m\u001b[0ms\u001b[0m\u001b[0;34m)\u001b[0m\u001b[0;34m\u001b[0m\u001b[0m\n\u001b[0m\u001b[1;32m    102\u001b[0m         \u001b[0mjk_m\u001b[0m \u001b[0;34m=\u001b[0m \u001b[0mjk_mb\u001b[0m\u001b[0;34m[\u001b[0m\u001b[0;36m0\u001b[0m\u001b[0;34m]\u001b[0m\u001b[0;34m\u001b[0m\u001b[0m\n\u001b[1;32m    103\u001b[0m         \u001b[0mjk_b\u001b[0m \u001b[0;34m=\u001b[0m \u001b[0mjk_mb\u001b[0m\u001b[0;34m[\u001b[0m\u001b[0;36m1\u001b[0m\u001b[0;34m]\u001b[0m\u001b[0;34m\u001b[0m\u001b[0m\n",
      "\u001b[0;32m~/cca2019/solartwins.py\u001b[0m in \u001b[0;36mfind_m_b\u001b[0;34m(x, y, err)\u001b[0m\n\u001b[1;32m     57\u001b[0m \u001b[0;32mdef\u001b[0m \u001b[0mfind_m_b\u001b[0m\u001b[0;34m(\u001b[0m\u001b[0mx\u001b[0m\u001b[0;34m,\u001b[0m\u001b[0my\u001b[0m\u001b[0;34m,\u001b[0m\u001b[0merr\u001b[0m\u001b[0;34m)\u001b[0m\u001b[0;34m:\u001b[0m\u001b[0;34m\u001b[0m\u001b[0m\n\u001b[1;32m     58\u001b[0m     \u001b[0msafe\u001b[0m \u001b[0;34m=\u001b[0m \u001b[0mnp\u001b[0m\u001b[0;34m.\u001b[0m\u001b[0misfinite\u001b[0m\u001b[0;34m(\u001b[0m\u001b[0my\u001b[0m\u001b[0;34m)\u001b[0m\u001b[0;34m\u001b[0m\u001b[0m\n\u001b[0;32m---> 59\u001b[0;31m     \u001b[0mx\u001b[0m \u001b[0;34m=\u001b[0m \u001b[0mx\u001b[0m\u001b[0;34m[\u001b[0m\u001b[0msafe\u001b[0m\u001b[0;34m]\u001b[0m\u001b[0;34m\u001b[0m\u001b[0m\n\u001b[0m\u001b[1;32m     60\u001b[0m     \u001b[0my\u001b[0m \u001b[0;34m=\u001b[0m \u001b[0my\u001b[0m\u001b[0;34m[\u001b[0m\u001b[0msafe\u001b[0m\u001b[0;34m]\u001b[0m\u001b[0;34m\u001b[0m\u001b[0m\n\u001b[1;32m     61\u001b[0m     \u001b[0merr\u001b[0m \u001b[0;34m=\u001b[0m \u001b[0merr\u001b[0m\u001b[0;34m[\u001b[0m\u001b[0msafe\u001b[0m\u001b[0;34m]\u001b[0m\u001b[0;34m\u001b[0m\u001b[0m\n",
      "\u001b[0;31mTypeError\u001b[0m: only integer scalar arrays can be converted to a scalar index"
     ]
    },
    {
     "data": {
      "image/png": "[encoded data removed]",
      "text/plain": [
       "<Figure size 648x432 with 1 Axes>"
      ]
     },
     "metadata": {
      "needs_background": "light"
     },
     "output_type": "display_data"
    }
   ],
   "source": [
    "#test for HIP10175, HIP102152\n",
    "m_b = find_m_b(np.array(xt),np.array(ya),np.array(ze))\n",
    "print(m_b)\n",
    "stellar_abundance_plot('HIP114328')"
   ]
  },
  {
   "cell_type": "code",
   "execution_count": null,
   "metadata": {},
   "outputs": [],
   "source": []
  }
 ],
 "metadata": {
  "kernelspec": {
   "display_name": "Python 3",
   "language": "python",
   "name": "python3"
  },
  "language_info": {
   "codemirror_mode": {
    "name": "ipython",
    "version": 3
   },
   "file_extension": ".py",
   "mimetype": "text/x-python",
   "name": "python",
   "nbconvert_exporter": "python",
   "pygments_lexer": "ipython3",
   "version": "3.7.0"
  }
 },
 "nbformat": 4,
 "nbformat_minor": 2
}
