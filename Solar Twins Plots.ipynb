{
 "cells": [
  {
   "cell_type": "code",
   "execution_count": 1242,
   "metadata": {},
   "outputs": [],
   "source": [
    "from astropy.table import Table\n",
    "%matplotlib inline  \n",
    "import matplotlib.pyplot as plt\n",
    "import numpy as np\n",
    "from statistics import mean\n",
    "import random\n",
    "import math\n",
    "import statistics\n",
    "from scipy import special, optimize\n",
    "\n",
    "fig_size = plt.rcParams[\"figure.figsize\"]\n",
    "fig_size[0] = 12\n",
    "fig_size[1] = 9\n",
    "plt.rcParams[\"figure.figsize\"] = fig_size"
   ]
  },
  {
   "cell_type": "code",
   "execution_count": 1243,
   "metadata": {},
   "outputs": [],
   "source": [
    "t= Table.read('solar_twins_data.fits') #fits file as table "
   ]
  },
  {
   "cell_type": "code",
   "execution_count": 1244,
   "metadata": {},
   "outputs": [
    {
     "data": {
      "text/plain": [
       "[<matplotlib.lines.Line2D at 0x104e5abd30>]"
      ]
     },
     "execution_count": 1244,
     "metadata": {},
     "output_type": "execute_result"
    },
    {
     "data": {
      "image/png": "[encoded data removed]",
      "text/plain": [
       "<Figure size 864x648 with 1 Axes>"
      ]
     },
     "metadata": {
      "needs_background": "light"
     },
     "output_type": "display_data"
    }
   ],
   "source": [
    "#plot of star age vs Mg abundance from above table\n",
    "plt.scatter(t['age'], t['Mg'], c='r') \n",
    "plt.xlabel('Age',fontsize='xx-large')\n",
    "plt.ylabel('Mg/Fe', fontsize='xx-large')\n",
    "plt.title('Mg Abundance vs. Stellar Age', fontsize='xx-large')\n",
    "plt.plot(np.unique(t['age']), np.poly1d(np.polyfit(t['age'], t['Mg'], 1))(np.unique(t['age'])), color='black')"
   ]
  },
  {
   "cell_type": "code",
   "execution_count": 1245,
   "metadata": {},
   "outputs": [],
   "source": [
    "#importing all data from condensation_temperature\n",
    "from condensation_temperature import * "
   ]
  },
  {
   "cell_type": "code",
   "execution_count": 1246,
   "metadata": {},
   "outputs": [],
   "source": [
    "#function that returns temp when given an element\n",
    "get_tc('O');"
   ]
  },
  {
   "cell_type": "code",
   "execution_count": 1247,
   "metadata": {},
   "outputs": [],
   "source": [
    "#tc_map is a dictionary of elements : condensation temp\n",
    "#accessing temp from element with tc_map\n",
    "tc_map['O'];"
   ]
  },
  {
   "cell_type": "code",
   "execution_count": 1248,
   "metadata": {},
   "outputs": [],
   "source": [
    "#creating a table of only one selected star\n",
    "HIP10175_tbl = t[0] \n",
    "HIP10175_tbl;"
   ]
  },
  {
   "cell_type": "code",
   "execution_count": 1249,
   "metadata": {},
   "outputs": [],
   "source": [
    "#accessing only the element columns in the selected star's table and adding them to a list\n",
    "elements =[]\n",
    "tablenames = HIP10175_tbl.columns[3:64]\n",
    "for n in tablenames:\n",
    "    if len(n) < 3 :\n",
    "        elements.append(n)\n",
    "    elements"
   ]
  },
  {
   "cell_type": "code",
   "execution_count": 1250,
   "metadata": {},
   "outputs": [],
   "source": [
    "#list of abundances, in the same order as the elements list\n",
    "abundance = []\n",
    "for n in elements:\n",
    "    abundance.append(HIP10175_tbl[n])\n",
    "abundance;"
   ]
  },
  {
   "cell_type": "code",
   "execution_count": 1251,
   "metadata": {},
   "outputs": [],
   "source": [
    "#list of condensation temps, in the same order as the elements list\n",
    "temp = []\n",
    "for n in elements:\n",
    "    temp.append(tc_map[n])\n",
    "temp;"
   ]
  },
  {
   "cell_type": "code",
   "execution_count": 1252,
   "metadata": {},
   "outputs": [],
   "source": [
    "#list of element_err\n",
    "error_elements = []\n",
    "for r in tablenames:\n",
    "    if len(r) > 3 :\n",
    "        error_elements.append(r)"
   ]
  },
  {
   "cell_type": "code",
   "execution_count": 1253,
   "metadata": {},
   "outputs": [],
   "source": [
    "#list of error values for elements\n",
    "error = []\n",
    "for k in error_elements:\n",
    "    error.append(HIP10175_tbl[k])\n",
    "error;"
   ]
  },
  {
   "cell_type": "code",
   "execution_count": 1254,
   "metadata": {},
   "outputs": [],
   "source": [
    "#table of element, abundance and temperature\n",
    "from astropy.table import Table\n",
    "HIP10175_table = Table([elements, abundance, error, temp], names=('Element', 'Abundance',\n",
    "        'Abundance Error','Condensation Temp'))"
   ]
  },
  {
   "cell_type": "code",
   "execution_count": 1255,
   "metadata": {},
   "outputs": [],
   "source": [
    "#function for returning the best slope and intercept using linear algebra\n",
    "#[m b] = [A^T C^-1 A]^-1 [A^T C^-1 Y]\n",
    "def find_m_b(x,y,err):\n",
    "    errorsq = np.square(err)\n",
    "    C = np.diag(errorsq)\n",
    "    xb = ([1] * len(x))\n",
    "    mata = []\n",
    "        \n",
    "    for z, txt in enumerate(x):\n",
    "        mata.append(x[z])\n",
    "        mata.append(xb[z])\n",
    "            \n",
    "    A= np.matrix(mata).reshape((len(x), 2))\n",
    "    At = np.transpose(A)\n",
    "    invC = np.linalg.inv(C)\n",
    "    pt1 = np.dot(At, np.dot(invC,A))\n",
    "    invpt1= np.linalg.inv(pt1)\n",
    "    pt2 = np.dot(At, np.dot(invC, y)).T\n",
    "    cov = np.dot(invpt1, pt2)\n",
    "        \n",
    "    m_= float(cov[0])\n",
    "    b_= float(cov[1])\n",
    "    return m_,b_ "
   ]
  },
  {
   "cell_type": "code",
   "execution_count": 1256,
   "metadata": {},
   "outputs": [
    {
     "name": "stdout",
     "output_type": "stream",
     "text": [
      "(9.441261972252866e-05, -0.12154306680819207)\n"
     ]
    }
   ],
   "source": [
    "m_b = find_m_b(temp,abundance,error)\n",
    "print(m_b)"
   ]
  },
  {
   "cell_type": "code",
   "execution_count": 1257,
   "metadata": {},
   "outputs": [
    {
     "data": {
      "text/plain": [
       "[<matplotlib.lines.Line2D at 0x104e7edeb8>]"
      ]
     },
     "execution_count": 1257,
     "metadata": {},
     "output_type": "execute_result"
    },
    {
     "data": {
      "image/png": "[encoded data removed]",
      "text/plain": [
       "<Figure size 864x648 with 1 Axes>"
      ]
     },
     "metadata": {
      "needs_background": "light"
     },
     "output_type": "display_data"
    }
   ],
   "source": [
    "#plotting values for star temp and abundance\n",
    "plt.scatter(temp, abundance)\n",
    "plt.xlabel('Tc',fontsize='xx-large', family='sans-serif')\n",
    "plt.ylabel('Element Abundance', fontsize='xx-large', family='sans-serif')\n",
    "plt.title('Temperature vs Element Abundance', fontsize= 'xx-large', family='sans-serif')\n",
    "    \n",
    "#point labels\n",
    "for i, txt in enumerate(elements):\n",
    "    if txt == 'Y' :\n",
    "        plt.annotate(txt, xy=(temp[i], abundance[i]), xytext=(13,-6), \n",
    "           textcoords='offset points', ha='center', va='bottom')\n",
    "    elif txt == 'Co' :\n",
    "        plt.annotate(txt, xy=(temp[i], abundance[i]), xytext=(13,-6), \n",
    "            textcoords='offset points', ha='center', va='bottom') \n",
    "    else : \n",
    "        plt.annotate(txt, xy=(temp[i], abundance[i]), xytext=(-13,-6), \n",
    "            textcoords='offset points', ha='center', va='bottom')\n",
    "\n",
    "#error bars\n",
    "plt.errorbar(temp, abundance, yerr= error, fmt='o', color='black',\n",
    "                 ecolor='lightgray', elinewidth=3,capsize=0)\n",
    "m= m_b[0]\n",
    "b= m_b[1]\n",
    "\n",
    "temparray=np.array(temp)\n",
    "plot_xs = np.arange(1750)\n",
    "plt.plot(plot_xs, m * plot_xs + b, color='teal')"
   ]
  },
  {
   "cell_type": "code",
   "execution_count": 1258,
   "metadata": {},
   "outputs": [
    {
     "name": "stdout",
     "output_type": "stream",
     "text": [
      "9.441261972252866e-05\n",
      "-0.12154306680819207\n"
     ]
    }
   ],
   "source": [
    "print(m)\n",
    "print(b)"
   ]
  },
  {
   "cell_type": "code",
   "execution_count": 1259,
   "metadata": {},
   "outputs": [],
   "source": [
    "#function that returns an table with an inputted star's elements, abundance, error and temp\n",
    "def find_stellar_abundances(star):\n",
    "    for i, txt in enumerate(t['star_name']):\n",
    "        if txt == star:\n",
    "            tbl = t[i] #inputted star's row\n",
    "            tbl\n",
    "\n",
    "    star_elements =[]\n",
    "    elnames = tbl.columns[3:64]\n",
    "    for n in elnames:\n",
    "        if len(n) < 3 :\n",
    "            star_elements.append(n)\n",
    "            star_elements #list of elements in that star\n",
    "    \n",
    "    star_abundance = []\n",
    "    for n in star_elements:\n",
    "        star_abundance.append(tbl[n])\n",
    "        star_abundance #list of element abundances\n",
    "        \n",
    "    star_con_temp = []\n",
    "    for n in star_elements:\n",
    "        star_con_temp.append(tc_map[n])\n",
    "        star_con_temp #condensation temperatures for stellar elements\n",
    "    \n",
    "    star_error_elements = []\n",
    "    for r in elnames:\n",
    "        if len(r) > 3 :\n",
    "            star_error_elements.append(r)\n",
    "\n",
    "    el_error = []\n",
    "    for k in star_error_elements:\n",
    "        el_error.append(tbl[k])\n",
    "        el_error #list of error values for elements\n",
    "    \n",
    "    star_table = Table([star_elements, star_abundance, el_error, star_con_temp], names=('Element', 'Abundance',\n",
    "        'Abundance Error','Condensation Temp'))\n",
    "    return star_table"
   ]
  },
  {
   "cell_type": "code",
   "execution_count": 1260,
   "metadata": {},
   "outputs": [],
   "source": [
    "#function that returns a plot of an inputted star's temperature vs element abundance\n",
    "def stellar_abundance_plot(star): \n",
    "    for i, txt in enumerate(t['star_name']):\n",
    "        if txt == star:\n",
    "            tbl = t[i] #inputted star's row\n",
    "            tbl\n",
    "\n",
    "    star_elements =[]\n",
    "    elnames = tbl.columns[3:64]\n",
    "    for n in elnames:\n",
    "        if len(n) < 3 :\n",
    "            star_elements.append(n)\n",
    "            star_elements #list of elements in that star\n",
    "    \n",
    "    star_abundance = []\n",
    "    for n in star_elements:\n",
    "        star_abundance.append(tbl[n])\n",
    "        star_abundance #list of element abundances\n",
    "        \n",
    "    star_con_temp = []\n",
    "    for n in star_elements:\n",
    "        star_con_temp.append(tc_map[n])\n",
    "        star_con_temp #condensation temperatures for stellar elements\n",
    "    new=np.array(star_con_temp)\n",
    "    \n",
    "    star_error_elements = []\n",
    "    for r in elnames:\n",
    "        if len(r) > 3 :\n",
    "            star_error_elements.append(r)\n",
    "\n",
    "    el_error = []\n",
    "    for k in star_error_elements:\n",
    "        el_error.append(tbl[k])\n",
    "        el_error #list of error values for elements\n",
    "    \n",
    "    star_table = Table([star_elements, star_abundance, el_error, star_con_temp], names=('Element', 'Abundance',\n",
    "        'Abundance Error','Condensation Temp'))\n",
    "\n",
    "    plt.scatter(star_con_temp, star_abundance)\n",
    "    plt.xlabel('Tc',fontsize='xx-large', family='sans-serif')\n",
    "    plt.ylabel('Element Abundance', fontsize='xx-large', family='sans-serif')\n",
    "    plt.title('Temperature vs Element Abundance', fontsize= 'xx-large', family='sans-serif')\n",
    "\n",
    "    #point labels\n",
    "    for i, txt in enumerate(elements):\n",
    "            plt.annotate(txt, xy=(star_con_temp[i], star_abundance[i]), xytext=(-13,-6), \n",
    "                textcoords='offset points', ha='center', va='bottom')\n",
    "\n",
    "    #error bars\n",
    "    plt.errorbar(star_con_temp, star_abundance, yerr= el_error, fmt='o', color='black',\n",
    "                 ecolor='lightgray', elinewidth=3,capsize=0)\n",
    "    \n",
    "    #line of best fit m,b values\n",
    "    mb = find_m_b(star_con_temp, star_abundance, el_error)    \n",
    "    plot_xs = np.arange(1750)\n",
    "    plt.plot(plot_xs, (mb[0]) * plot_xs + (mb[1]), color='teal')\n",
    "    return plt"
   ]
  },
  {
   "cell_type": "code",
   "execution_count": 1261,
   "metadata": {},
   "outputs": [],
   "source": [
    "#jackknife method for determining other possible values of m and b \n",
    "def jackknifemb(_tp,_ab,_er):\n",
    "    N=1000\n",
    "    l=list(np.copy(_tp))\n",
    "    k=list(np.copy(_ab))\n",
    "    s=list(np.copy(_er))\n",
    "    jackm= []\n",
    "    jackb= [] \n",
    "    h=0\n",
    "    \n",
    "    #leaving out one point from data set and calculating m, b for each instance\n",
    "    while h<N:\n",
    "        w = random.randint(0, 29)\n",
    "        del l[w]\n",
    "        del k[w]\n",
    "        del s[w] #removing one data set from lists \n",
    "    \n",
    "        jk_mb = find_m_b(l,k,s)\n",
    "        jk_m = jk_mb[0]\n",
    "        jk_b = jk_mb[1]\n",
    "\n",
    "        jackm.append(jk_m)\n",
    "        jackb.append(jk_b)\n",
    "            \n",
    "        l=list(np.copy(_tp))\n",
    "        k=list(np.copy(_ab))\n",
    "        s=list(np.copy(_er))\n",
    "        h=h+1 \n",
    "        \n",
    "    return jackm, jackb"
   ]
  },
  {
   "cell_type": "code",
   "execution_count": 1262,
   "metadata": {},
   "outputs": [
    {
     "data": {
      "text/plain": [
       "[<matplotlib.lines.Line2D at 0x104fd89c50>]"
      ]
     },
     "execution_count": 1262,
     "metadata": {},
     "output_type": "execute_result"
    },
    {
     "data": {
      "image/png": "[encoded data removed]",
      "text/plain": [
       "<Figure size 864x648 with 1 Axes>"
      ]
     },
     "metadata": {
      "needs_background": "light"
     },
     "output_type": "display_data"
    }
   ],
   "source": [
    "jk= jackknifemb(temp, abundance, error)\n",
    "for i, txt in enumerate (jk[0]):\n",
    "    plt.scatter(temp, abundance)\n",
    "    plt.xlabel('Tc',fontsize='xx-large', family='sans-serif')\n",
    "    plt.ylabel('Element Abundance', fontsize='xx-large', family='sans-serif')\n",
    "    plt.title('Temperature vs Element Abundance', fontsize= 'xx-large', family='sans-serif')\n",
    "\n",
    "    temparray=np.array(temp)\n",
    "    plot_xs = np.arange(1750)\n",
    "    plt.plot(plot_xs, jk[0][i] * plot_xs + (jk[1][i]), color = 'lightgray', linewidth=0.1)\n",
    "\n",
    "for i, txt in enumerate(elements):\n",
    "    if txt == 'Y' :\n",
    "        plt.annotate(txt, xy=(temp[i], abundance[i]), xytext=(13,-6), \n",
    "            textcoords='offset points', ha='center', va='bottom')\n",
    "    elif txt == 'Co' :\n",
    "        plt.annotate(txt, xy=(temp[i], abundance[i]), xytext=(13,-6), \n",
    "            textcoords='offset points', ha='center', va='bottom') \n",
    "    else : \n",
    "        plt.annotate(txt, xy=(temp[i], abundance[i]), xytext=(-13,-6), \n",
    "            textcoords='offset points', ha='center', va='bottom')\n",
    "\n",
    "#error bars\n",
    "plt.errorbar(temp, abundance, yerr= error, fmt='o', color='black',\n",
    "                    ecolor='lightsteelblue', elinewidth=3,capsize=0)\n",
    "plt.plot(plot_xs, m * plot_xs + b, color='black')"
   ]
  },
  {
   "cell_type": "code",
   "execution_count": 1263,
   "metadata": {},
   "outputs": [
    {
     "name": "stdout",
     "output_type": "stream",
     "text": [
      "original value = -0.12154306680819207\n"
     ]
    },
    {
     "data": {
      "image/png": "[encoded data removed]",
      "text/plain": [
       "<Figure size 864x648 with 1 Axes>"
      ]
     },
     "metadata": {
      "needs_background": "light"
     },
     "output_type": "display_data"
    }
   ],
   "source": [
    "x = jk[1]\n",
    "plt.hist(x, color = 'teal')\n",
    "plt.ylabel('weight')\n",
    "plt.xlabel('value')\n",
    "plt.title('intercept values')\n",
    "print('original value =', b)"
   ]
  },
  {
   "cell_type": "code",
   "execution_count": 1264,
   "metadata": {},
   "outputs": [
    {
     "name": "stdout",
     "output_type": "stream",
     "text": [
      "original value =  9.441261972252866e-05\n"
     ]
    },
    {
     "data": {
      "image/png": "[encoded data removed]",
      "text/plain": [
       "<Figure size 864x648 with 1 Axes>"
      ]
     },
     "metadata": {
      "needs_background": "light"
     },
     "output_type": "display_data"
    }
   ],
   "source": [
    "x = jk[0]\n",
    "plt.hist(x, color = 'green')\n",
    "plt.ylabel('weight')\n",
    "plt.xlabel('value')\n",
    "plt.title('slope values')\n",
    "print('original value = ', m)"
   ]
  },
  {
   "cell_type": "code",
   "execution_count": 1265,
   "metadata": {},
   "outputs": [
    {
     "name": "stdout",
     "output_type": "stream",
     "text": [
      "the standard slope value is 9.441261972252866e-05\n",
      "the standard intercept value is -0.12154306680819207\n",
      "the standard slope error is 4.049628887302976e-06\n",
      "the standard intercept error is 0.005579846451640529\n"
     ]
    }
   ],
   "source": [
    "#standard slope error : [A^T C^-1 A]^-1\n",
    "errorsq = np.square(error)\n",
    "errorC = np.diag(errorsq)\n",
    "abu = ([1] * len(temp))\n",
    "atemper = np.copy(temp)\n",
    "matri = []\n",
    "        \n",
    "for z, txt in enumerate(atemper):\n",
    "    matri.append(atemper[z])\n",
    "    matri.append(abu[z])\n",
    "            \n",
    "aa= np.matrix(matri).reshape((len(temp), 2))\n",
    "Att = np.transpose(aa)\n",
    "inverrorC = np.linalg.inv(errorC)\n",
    "prt1 = np.dot(Att, np.dot(inverrorC,aa))\n",
    "invt1= np.linalg.inv(prt1)\n",
    "prt2 = np.dot(Att, np.dot(inverrorC, abundance)).T\n",
    "covar = np.dot(invt1, prt2)\n",
    "        \n",
    "_m_= float(covar[0])\n",
    "_b_= float(covar[1])\n",
    "print('the standard slope value is', _m_)\n",
    "print('the standard intercept value is',_b_)\n",
    "    \n",
    "inbrackets = np.dot(Att, np.dot(inverrorC, aa))\n",
    "sserror = np.linalg.inv(inbrackets)\n",
    "#sserror = [σ^2m, σmb, σmb, σ^2b]\n",
    "print('the standard slope error is',np.sqrt(sserror[0,0]))\n",
    "print('the standard intercept error is',np.sqrt(sserror[1,1]))"
   ]
  },
  {
   "cell_type": "code",
   "execution_count": 1266,
   "metadata": {},
   "outputs": [
    {
     "name": "stdout",
     "output_type": "stream",
     "text": [
      "8.445795254826812e-06\n",
      "0.011861563903328702\n"
     ]
    }
   ],
   "source": [
    "#overall standard deviation\n",
    "stdev_m = statistics.stdev(jk[0])\n",
    "stdev_b = statistics.stdev(jk[1])\n",
    "\n",
    "print(stdev_m)\n",
    "print(stdev_b)"
   ]
  },
  {
   "cell_type": "code",
   "execution_count": 1267,
   "metadata": {},
   "outputs": [
    {
     "name": "stdout",
     "output_type": "stream",
     "text": [
      "3.891641918541751e-06\n",
      "0.005400789402015857\n"
     ]
    }
   ],
   "source": [
    "#standard deviation without outliers\n",
    "m_nooutliers = []\n",
    "for t in jk[0]:\n",
    "    if t < 0.00013:\n",
    "        m_nooutliers.append(t)\n",
    "print(statistics.stdev(m_nooutliers))\n",
    "\n",
    "b_nooutliers = []\n",
    "for p in jk[1]:\n",
    "    if p > -0.17:\n",
    "        b_nooutliers.append(p)\n",
    "print(statistics.stdev(b_nooutliers))"
   ]
  },
  {
   "cell_type": "code",
   "execution_count": 1268,
   "metadata": {},
   "outputs": [
    {
     "data": {
      "text/html": [
       "<i>Table length=2</i>\n",
       "<table id=\"table70061601288\" class=\"table-striped table-bordered table-condensed\">\n",
       "<thead><tr><th>error type</th><th>value</th><th>standard dev with outliers</th><th>standard dev without outliers</th><th>linear algebra uncertainty</th></tr></thead>\n",
       "<thead><tr><th>str9</th><th>float64</th><th>float64</th><th>float64</th><th>float64</th></tr></thead>\n",
       "<tr><td>slope</td><td>9.44e-05</td><td>8.05e-06</td><td>3.9e-06</td><td>4.0496e-06</td></tr>\n",
       "<tr><td>intercept</td><td>-0.121</td><td>0.0114</td><td>0.0055</td><td>0.0056</td></tr>\n",
       "</table>"
      ],
      "text/plain": [
       "<Table length=2>\n",
       "error type  value   ... standard dev without outliers linear algebra uncertainty\n",
       "   str9    float64  ...            float64                     float64          \n",
       "---------- -------- ... ----------------------------- --------------------------\n",
       "     slope 9.44e-05 ...                       3.9e-06                 4.0496e-06\n",
       " intercept   -0.121 ...                        0.0055                     0.0056"
      ]
     },
     "execution_count": 1268,
     "metadata": {},
     "output_type": "execute_result"
    }
   ],
   "source": [
    "error_type = ['slope', 'intercept']\n",
    "a = [9.44e-5, -.121]\n",
    "bv = [3.9e-6,.0055]\n",
    "c = [8.05e-6,.0114]\n",
    "d = [4.0496e-06,0.0056]\n",
    "z = Table([error_type,a, c, bv, d], names=('error type', 'value','standard dev with outliers', \n",
    "                                          'standard dev without outliers',  'linear algebra uncertainty'))\n",
    "z "
   ]
  },
  {
   "cell_type": "code",
   "execution_count": 1269,
   "metadata": {},
   "outputs": [],
   "source": [
    "#chi squared :  [Y - AX]^T C^-1 [Y - AX]\n",
    "def chisquared(x,y,erro): \n",
    "    ab = ([1] * len(x))\n",
    "    Amat = []\n",
    "    for z, txt in enumerate(x):\n",
    "        Amat.append(x[z])\n",
    "        Amat.append(ab[z])  \n",
    "    A= np.array(Amat).reshape((len(x), 2))\n",
    "\n",
    "    errorsq = np.square(erro)\n",
    "    C = np.diag(errorsq)\n",
    "    invsC = np.linalg.inv(C)\n",
    "\n",
    "    AT= np.transpose(A)\n",
    "    part1 = np.dot(AT, np.dot(invsC, A))\n",
    "    invprt1= np.linalg.inv(part1)\n",
    "    part2 = np.dot(AT, np.dot(invsC, y)).T\n",
    "    X = np.dot(invprt1, part2)\n",
    "    AX = np.dot(A,X)\n",
    "    \n",
    "    yax = (Y - AX)\n",
    "    yaxT = np.transpose(yax)\n",
    "    yaxTinvsC = np.dot(yaxT, invsC)\n",
    "\n",
    "    chisq = (np.dot(yaxTinvsC, yax))\n",
    "    return (chisq)"
   ]
  },
  {
   "cell_type": "code",
   "execution_count": 1270,
   "metadata": {
    "scrolled": false
   },
   "outputs": [],
   "source": [
    "def chisq(x,y,error):\n",
    "    chi = 0 \n",
    "    for i,txt in enumerate(x):    \n",
    "        fxi = (m*txt + b)\n",
    "        num = (y[i] - fxi)**2\n",
    "        den = (error[i])**2\n",
    "        val = num/den\n",
    "        chi = chi + val\n",
    "    return chi"
   ]
  },
  {
   "cell_type": "code",
   "execution_count": 1271,
   "metadata": {},
   "outputs": [
    {
     "name": "stdout",
     "output_type": "stream",
     "text": [
      "2416.244321680776\n",
      "2416.2443216807756\n"
     ]
    }
   ],
   "source": [
    "print(chisquared(temp,abundance,error))\n",
    "print(chisq(temp, abundance, error))"
   ]
  },
  {
   "cell_type": "code",
   "execution_count": 1272,
   "metadata": {},
   "outputs": [],
   "source": [
    "#minimize(fun, x0, args, jac, callback, **options)"
   ]
  },
  {
   "cell_type": "code",
   "execution_count": 1282,
   "metadata": {},
   "outputs": [],
   "source": [
    "def chisq(array):\n",
    "    chi = 0 \n",
    "    x= array[0]\n",
    "    xa= np.array(x)\n",
    "    length = 29\n",
    "    y= array[1]\n",
    "    ya= np.array(y)\n",
    "    error=array[2]\n",
    "    myvalu = 0\n",
    "    while myvalu < length :   \n",
    "        fxi = (m*(xa[myvalu]) + b)\n",
    "        num = (ya[myvalu] - fxi)**2\n",
    "        den = (error[myvalu])**2\n",
    "        val = num/den\n",
    "        chi = chi + val\n",
    "        myvalu = myvalu + 1\n",
    "    return chi"
   ]
  },
  {
   "cell_type": "code",
   "execution_count": 1283,
   "metadata": {},
   "outputs": [
    {
     "data": {
      "text/plain": [
       "0.024"
      ]
     },
     "execution_count": 1283,
     "metadata": {},
     "output_type": "execute_result"
    }
   ],
   "source": [
    "myarray= [temp, abundance, error]\n",
    "chisq(myarray)\n",
    "myarray[1][1]\n",
    "d= myarray[1]\n",
    "d[1]"
   ]
  },
  {
   "cell_type": "code",
   "execution_count": 1287,
   "metadata": {},
   "outputs": [
    {
     "ename": "IndexError",
     "evalue": "index 1 is out of bounds for axis 0 with size 1",
     "output_type": "error",
     "traceback": [
      "\u001b[0;31m---------------------------------------------------------------------------\u001b[0m",
      "\u001b[0;31mIndexError\u001b[0m                                Traceback (most recent call last)",
      "\u001b[0;32m<ipython-input-1287-6340b3a409f7>\u001b[0m in \u001b[0;36m<module>\u001b[0;34m()\u001b[0m\n\u001b[0;32m----> 1\u001b[0;31m \u001b[0mresult\u001b[0m \u001b[0;34m=\u001b[0m \u001b[0mscipy\u001b[0m\u001b[0;34m.\u001b[0m\u001b[0moptimize\u001b[0m\u001b[0;34m.\u001b[0m\u001b[0mminimize\u001b[0m\u001b[0;34m(\u001b[0m\u001b[0mchisq\u001b[0m\u001b[0;34m,\u001b[0m \u001b[0;36m0\u001b[0m\u001b[0;34m)\u001b[0m\u001b[0;34m\u001b[0m\u001b[0m\n\u001b[0m",
      "\u001b[0;32m~/anaconda3/lib/python3.7/site-packages/scipy/optimize/_minimize.py\u001b[0m in \u001b[0;36mminimize\u001b[0;34m(fun, x0, args, method, jac, hess, hessp, bounds, constraints, tol, callback, options)\u001b[0m\n\u001b[1;32m    595\u001b[0m         \u001b[0;32mreturn\u001b[0m \u001b[0m_minimize_cg\u001b[0m\u001b[0;34m(\u001b[0m\u001b[0mfun\u001b[0m\u001b[0;34m,\u001b[0m \u001b[0mx0\u001b[0m\u001b[0;34m,\u001b[0m \u001b[0margs\u001b[0m\u001b[0;34m,\u001b[0m \u001b[0mjac\u001b[0m\u001b[0;34m,\u001b[0m \u001b[0mcallback\u001b[0m\u001b[0;34m,\u001b[0m \u001b[0;34m**\u001b[0m\u001b[0moptions\u001b[0m\u001b[0;34m)\u001b[0m\u001b[0;34m\u001b[0m\u001b[0m\n\u001b[1;32m    596\u001b[0m     \u001b[0;32melif\u001b[0m \u001b[0mmeth\u001b[0m \u001b[0;34m==\u001b[0m \u001b[0;34m'bfgs'\u001b[0m\u001b[0;34m:\u001b[0m\u001b[0;34m\u001b[0m\u001b[0m\n\u001b[0;32m--> 597\u001b[0;31m         \u001b[0;32mreturn\u001b[0m \u001b[0m_minimize_bfgs\u001b[0m\u001b[0;34m(\u001b[0m\u001b[0mfun\u001b[0m\u001b[0;34m,\u001b[0m \u001b[0mx0\u001b[0m\u001b[0;34m,\u001b[0m \u001b[0margs\u001b[0m\u001b[0;34m,\u001b[0m \u001b[0mjac\u001b[0m\u001b[0;34m,\u001b[0m \u001b[0mcallback\u001b[0m\u001b[0;34m,\u001b[0m \u001b[0;34m**\u001b[0m\u001b[0moptions\u001b[0m\u001b[0;34m)\u001b[0m\u001b[0;34m\u001b[0m\u001b[0m\n\u001b[0m\u001b[1;32m    598\u001b[0m     \u001b[0;32melif\u001b[0m \u001b[0mmeth\u001b[0m \u001b[0;34m==\u001b[0m \u001b[0;34m'newton-cg'\u001b[0m\u001b[0;34m:\u001b[0m\u001b[0;34m\u001b[0m\u001b[0m\n\u001b[1;32m    599\u001b[0m         return _minimize_newtoncg(fun, x0, args, jac, hess, hessp, callback,\n",
      "\u001b[0;32m~/anaconda3/lib/python3.7/site-packages/scipy/optimize/optimize.py\u001b[0m in \u001b[0;36m_minimize_bfgs\u001b[0;34m(fun, x0, args, jac, callback, gtol, norm, eps, maxiter, disp, return_all, **unknown_options)\u001b[0m\n\u001b[1;32m    961\u001b[0m     \u001b[0;32melse\u001b[0m\u001b[0;34m:\u001b[0m\u001b[0;34m\u001b[0m\u001b[0m\n\u001b[1;32m    962\u001b[0m         \u001b[0mgrad_calls\u001b[0m\u001b[0;34m,\u001b[0m \u001b[0mmyfprime\u001b[0m \u001b[0;34m=\u001b[0m \u001b[0mwrap_function\u001b[0m\u001b[0;34m(\u001b[0m\u001b[0mfprime\u001b[0m\u001b[0;34m,\u001b[0m \u001b[0margs\u001b[0m\u001b[0;34m)\u001b[0m\u001b[0;34m\u001b[0m\u001b[0m\n\u001b[0;32m--> 963\u001b[0;31m     \u001b[0mgfk\u001b[0m \u001b[0;34m=\u001b[0m \u001b[0mmyfprime\u001b[0m\u001b[0;34m(\u001b[0m\u001b[0mx0\u001b[0m\u001b[0;34m)\u001b[0m\u001b[0;34m\u001b[0m\u001b[0m\n\u001b[0m\u001b[1;32m    964\u001b[0m     \u001b[0mk\u001b[0m \u001b[0;34m=\u001b[0m \u001b[0;36m0\u001b[0m\u001b[0;34m\u001b[0m\u001b[0m\n\u001b[1;32m    965\u001b[0m     \u001b[0mN\u001b[0m \u001b[0;34m=\u001b[0m \u001b[0mlen\u001b[0m\u001b[0;34m(\u001b[0m\u001b[0mx0\u001b[0m\u001b[0;34m)\u001b[0m\u001b[0;34m\u001b[0m\u001b[0m\n",
      "\u001b[0;32m~/anaconda3/lib/python3.7/site-packages/scipy/optimize/optimize.py\u001b[0m in \u001b[0;36mfunction_wrapper\u001b[0;34m(*wrapper_args)\u001b[0m\n\u001b[1;32m    291\u001b[0m     \u001b[0;32mdef\u001b[0m \u001b[0mfunction_wrapper\u001b[0m\u001b[0;34m(\u001b[0m\u001b[0;34m*\u001b[0m\u001b[0mwrapper_args\u001b[0m\u001b[0;34m)\u001b[0m\u001b[0;34m:\u001b[0m\u001b[0;34m\u001b[0m\u001b[0m\n\u001b[1;32m    292\u001b[0m         \u001b[0mncalls\u001b[0m\u001b[0;34m[\u001b[0m\u001b[0;36m0\u001b[0m\u001b[0;34m]\u001b[0m \u001b[0;34m+=\u001b[0m \u001b[0;36m1\u001b[0m\u001b[0;34m\u001b[0m\u001b[0m\n\u001b[0;32m--> 293\u001b[0;31m         \u001b[0;32mreturn\u001b[0m \u001b[0mfunction\u001b[0m\u001b[0;34m(\u001b[0m\u001b[0;34m*\u001b[0m\u001b[0;34m(\u001b[0m\u001b[0mwrapper_args\u001b[0m \u001b[0;34m+\u001b[0m \u001b[0margs\u001b[0m\u001b[0;34m)\u001b[0m\u001b[0;34m)\u001b[0m\u001b[0;34m\u001b[0m\u001b[0m\n\u001b[0m\u001b[1;32m    294\u001b[0m \u001b[0;34m\u001b[0m\u001b[0m\n\u001b[1;32m    295\u001b[0m     \u001b[0;32mreturn\u001b[0m \u001b[0mncalls\u001b[0m\u001b[0;34m,\u001b[0m \u001b[0mfunction_wrapper\u001b[0m\u001b[0;34m\u001b[0m\u001b[0m\n",
      "\u001b[0;32m~/anaconda3/lib/python3.7/site-packages/scipy/optimize/optimize.py\u001b[0m in \u001b[0;36mapprox_fprime\u001b[0;34m(xk, f, epsilon, *args)\u001b[0m\n\u001b[1;32m    721\u001b[0m \u001b[0;34m\u001b[0m\u001b[0m\n\u001b[1;32m    722\u001b[0m     \"\"\"\n\u001b[0;32m--> 723\u001b[0;31m     \u001b[0;32mreturn\u001b[0m \u001b[0m_approx_fprime_helper\u001b[0m\u001b[0;34m(\u001b[0m\u001b[0mxk\u001b[0m\u001b[0;34m,\u001b[0m \u001b[0mf\u001b[0m\u001b[0;34m,\u001b[0m \u001b[0mepsilon\u001b[0m\u001b[0;34m,\u001b[0m \u001b[0margs\u001b[0m\u001b[0;34m=\u001b[0m\u001b[0margs\u001b[0m\u001b[0;34m)\u001b[0m\u001b[0;34m\u001b[0m\u001b[0m\n\u001b[0m\u001b[1;32m    724\u001b[0m \u001b[0;34m\u001b[0m\u001b[0m\n\u001b[1;32m    725\u001b[0m \u001b[0;34m\u001b[0m\u001b[0m\n",
      "\u001b[0;32m~/anaconda3/lib/python3.7/site-packages/scipy/optimize/optimize.py\u001b[0m in \u001b[0;36m_approx_fprime_helper\u001b[0;34m(xk, f, epsilon, args, f0)\u001b[0m\n\u001b[1;32m    655\u001b[0m     \"\"\"\n\u001b[1;32m    656\u001b[0m     \u001b[0;32mif\u001b[0m \u001b[0mf0\u001b[0m \u001b[0;32mis\u001b[0m \u001b[0;32mNone\u001b[0m\u001b[0;34m:\u001b[0m\u001b[0;34m\u001b[0m\u001b[0m\n\u001b[0;32m--> 657\u001b[0;31m         \u001b[0mf0\u001b[0m \u001b[0;34m=\u001b[0m \u001b[0mf\u001b[0m\u001b[0;34m(\u001b[0m\u001b[0;34m*\u001b[0m\u001b[0;34m(\u001b[0m\u001b[0;34m(\u001b[0m\u001b[0mxk\u001b[0m\u001b[0;34m,\u001b[0m\u001b[0;34m)\u001b[0m \u001b[0;34m+\u001b[0m \u001b[0margs\u001b[0m\u001b[0;34m)\u001b[0m\u001b[0;34m)\u001b[0m\u001b[0;34m\u001b[0m\u001b[0m\n\u001b[0m\u001b[1;32m    658\u001b[0m     \u001b[0mgrad\u001b[0m \u001b[0;34m=\u001b[0m \u001b[0mnumpy\u001b[0m\u001b[0;34m.\u001b[0m\u001b[0mzeros\u001b[0m\u001b[0;34m(\u001b[0m\u001b[0;34m(\u001b[0m\u001b[0mlen\u001b[0m\u001b[0;34m(\u001b[0m\u001b[0mxk\u001b[0m\u001b[0;34m)\u001b[0m\u001b[0;34m,\u001b[0m\u001b[0;34m)\u001b[0m\u001b[0;34m,\u001b[0m \u001b[0mfloat\u001b[0m\u001b[0;34m)\u001b[0m\u001b[0;34m\u001b[0m\u001b[0m\n\u001b[1;32m    659\u001b[0m     \u001b[0mei\u001b[0m \u001b[0;34m=\u001b[0m \u001b[0mnumpy\u001b[0m\u001b[0;34m.\u001b[0m\u001b[0mzeros\u001b[0m\u001b[0;34m(\u001b[0m\u001b[0;34m(\u001b[0m\u001b[0mlen\u001b[0m\u001b[0;34m(\u001b[0m\u001b[0mxk\u001b[0m\u001b[0;34m)\u001b[0m\u001b[0;34m,\u001b[0m\u001b[0;34m)\u001b[0m\u001b[0;34m,\u001b[0m \u001b[0mfloat\u001b[0m\u001b[0;34m)\u001b[0m\u001b[0;34m\u001b[0m\u001b[0m\n",
      "\u001b[0;32m~/anaconda3/lib/python3.7/site-packages/scipy/optimize/optimize.py\u001b[0m in \u001b[0;36mfunction_wrapper\u001b[0;34m(*wrapper_args)\u001b[0m\n\u001b[1;32m    291\u001b[0m     \u001b[0;32mdef\u001b[0m \u001b[0mfunction_wrapper\u001b[0m\u001b[0;34m(\u001b[0m\u001b[0;34m*\u001b[0m\u001b[0mwrapper_args\u001b[0m\u001b[0;34m)\u001b[0m\u001b[0;34m:\u001b[0m\u001b[0;34m\u001b[0m\u001b[0m\n\u001b[1;32m    292\u001b[0m         \u001b[0mncalls\u001b[0m\u001b[0;34m[\u001b[0m\u001b[0;36m0\u001b[0m\u001b[0;34m]\u001b[0m \u001b[0;34m+=\u001b[0m \u001b[0;36m1\u001b[0m\u001b[0;34m\u001b[0m\u001b[0m\n\u001b[0;32m--> 293\u001b[0;31m         \u001b[0;32mreturn\u001b[0m \u001b[0mfunction\u001b[0m\u001b[0;34m(\u001b[0m\u001b[0;34m*\u001b[0m\u001b[0;34m(\u001b[0m\u001b[0mwrapper_args\u001b[0m \u001b[0;34m+\u001b[0m \u001b[0margs\u001b[0m\u001b[0;34m)\u001b[0m\u001b[0;34m)\u001b[0m\u001b[0;34m\u001b[0m\u001b[0m\n\u001b[0m\u001b[1;32m    294\u001b[0m \u001b[0;34m\u001b[0m\u001b[0m\n\u001b[1;32m    295\u001b[0m     \u001b[0;32mreturn\u001b[0m \u001b[0mncalls\u001b[0m\u001b[0;34m,\u001b[0m \u001b[0mfunction_wrapper\u001b[0m\u001b[0;34m\u001b[0m\u001b[0m\n",
      "\u001b[0;32m<ipython-input-1282-84c783a69ec9>\u001b[0m in \u001b[0;36mchisq\u001b[0;34m(array)\u001b[0m\n\u001b[1;32m      4\u001b[0m     \u001b[0mxa\u001b[0m\u001b[0;34m=\u001b[0m \u001b[0mnp\u001b[0m\u001b[0;34m.\u001b[0m\u001b[0marray\u001b[0m\u001b[0;34m(\u001b[0m\u001b[0mx\u001b[0m\u001b[0;34m)\u001b[0m\u001b[0;34m\u001b[0m\u001b[0m\n\u001b[1;32m      5\u001b[0m     \u001b[0mlength\u001b[0m \u001b[0;34m=\u001b[0m \u001b[0;36m29\u001b[0m\u001b[0;34m\u001b[0m\u001b[0m\n\u001b[0;32m----> 6\u001b[0;31m     \u001b[0my\u001b[0m\u001b[0;34m=\u001b[0m \u001b[0marray\u001b[0m\u001b[0;34m[\u001b[0m\u001b[0;36m1\u001b[0m\u001b[0;34m]\u001b[0m\u001b[0;34m\u001b[0m\u001b[0m\n\u001b[0m\u001b[1;32m      7\u001b[0m     \u001b[0mya\u001b[0m\u001b[0;34m=\u001b[0m \u001b[0mnp\u001b[0m\u001b[0;34m.\u001b[0m\u001b[0marray\u001b[0m\u001b[0;34m(\u001b[0m\u001b[0my\u001b[0m\u001b[0;34m)\u001b[0m\u001b[0;34m\u001b[0m\u001b[0m\n\u001b[1;32m      8\u001b[0m     \u001b[0merror\u001b[0m\u001b[0;34m=\u001b[0m\u001b[0marray\u001b[0m\u001b[0;34m[\u001b[0m\u001b[0;36m2\u001b[0m\u001b[0;34m]\u001b[0m\u001b[0;34m\u001b[0m\u001b[0m\n",
      "\u001b[0;31mIndexError\u001b[0m: index 1 is out of bounds for axis 0 with size 1"
     ]
    }
   ],
   "source": [
    "result = scipy.optimize.minimize(chisq, 0)"
   ]
  },
  {
   "cell_type": "code",
   "execution_count": null,
   "metadata": {},
   "outputs": [],
   "source": []
  },
  {
   "cell_type": "code",
   "execution_count": null,
   "metadata": {},
   "outputs": [],
   "source": []
  }
 ],
 "metadata": {
  "kernelspec": {
   "display_name": "Python 3",
   "language": "python",
   "name": "python3"
  },
  "language_info": {
   "codemirror_mode": {
    "name": "ipython",
    "version": 3
   },
   "file_extension": ".py",
   "mimetype": "text/x-python",
   "name": "python",
   "nbconvert_exporter": "python",
   "pygments_lexer": "ipython3",
   "version": "3.7.0"
  }
 },
 "nbformat": 4,
 "nbformat_minor": 2
}
