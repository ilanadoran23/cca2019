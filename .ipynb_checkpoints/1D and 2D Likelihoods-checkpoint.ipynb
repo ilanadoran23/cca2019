{
 "cells": [
  {
   "cell_type": "code",
   "execution_count": 1,
   "metadata": {},
   "outputs": [
    {
     "data": {
      "text/plain": [
       "{'divide': 'warn', 'over': 'warn', 'under': 'ignore', 'invalid': 'warn'}"
      ]
     },
     "execution_count": 1,
     "metadata": {},
     "output_type": "execute_result"
    }
   ],
   "source": [
    "from astropy.table import Table\n",
    "import matplotlib.pyplot as plt\n",
    "import numpy as np\n",
    "import scipy\n",
    "import random\n",
    "import math\n",
    "from scipy import optimize\n",
    "from condensation_temperature import *\n",
    "from tqdm import tqdm\n",
    "np.seterr(divide='ignore', invalid='ignore')"
   ]
  },
  {
   "cell_type": "code",
   "execution_count": 2,
   "metadata": {},
   "outputs": [],
   "source": [
    "t= Table.read('solar_twins_data.fits') #fits file as table \n",
    "\n",
    "exclusions = ['HIP19911', 'HIP108158', 'HIP109821', 'HIP115577', 'HIP14501', 'HIP28066', 'HIP30476',\n",
    "              'HIP33094', 'HIP65708', 'HIP73241', 'HIP74432', 'HIP64150']\n",
    "for u in exclusions:\n",
    "    for i, txt in enumerate(t['star_name']):\n",
    "        if txt == u:\n",
    "            t.remove_row(i)\n",
    "\n",
    "for i, words in enumerate(t['Fe']):\n",
    "   t['Fe'][i] = 0\n",
    "\n",
    "t['O'][8] = 0\n",
    "t['O_err'][8] = 10**6"
   ]
  },
  {
   "cell_type": "code",
   "execution_count": 3,
   "metadata": {},
   "outputs": [],
   "source": [
    "def lnL(param, x, y, error): # Hogg: lnL = -1/2 sum [(y- (mx+b))^2/(err^2 + d^2)] -1/2 sum ln(err^2 + d^2)\n",
    "    x = np.array(x)\n",
    "    y = np.array(y)\n",
    "    error = np.array(error)\n",
    "    (m,b, jitter) = param \n",
    "\n",
    "    sum1 = 0\n",
    "    for j, val in enumerate(x):\n",
    "        mxb = m*val + b\n",
    "        value = ((y[j] - mxb)**2)/((error[j]**2) + (jitter**2))\n",
    "        sum1 = sum1 + value \n",
    "    sum1 = sum1 *(-1/2)\n",
    "    \n",
    "    num = 0\n",
    "    for e, ooh in enumerate(error):\n",
    "        val2 = np.log((ooh**2) + (jitter**2))\n",
    "        num = num + val2 \n",
    "    num = num * (-1/2)\n",
    "    \n",
    "    lnL = sum1 + num\n",
    "    return lnL\n",
    "\n",
    "def nlnL(param, x, y, error):\n",
    "    nlnL= lnL(param, x,y, error)\n",
    "    return - nlnL\n",
    "\n",
    "def find_m_b(x,y,err):\n",
    "    #C     \n",
    "    errorsq = np.square(err)\n",
    "    C = np.diag(errorsq)\n",
    "\n",
    "    #A \n",
    "    xb = ([1] * len(x))\n",
    "    mata = []\n",
    "    for z, txt in enumerate(x):\n",
    "        mata.append(x[z])\n",
    "        mata.append(xb[z])\n",
    "    A= np.matrix(mata).reshape((len(x), 2))\n",
    "\n",
    "    #plugging in \n",
    "    At = np.transpose(A)\n",
    "    invC = np.linalg.inv(C)\n",
    "    pt1 = np.dot(At, np.dot(invC,A))\n",
    "    invpt1= np.linalg.inv(pt1)\n",
    "    pt2 = np.dot(At, np.dot(invC, y)).T\n",
    "    cov = np.dot(invpt1, pt2)\n",
    "\n",
    "    m = float(cov[0])\n",
    "    b = float(cov[1])\n",
    "    return m ,b \n",
    "\n",
    "def residuals(x, y, error):\n",
    "    mborig = find_m_b(x, y, error)\n",
    "    m = mborig[0]\n",
    "    b = mborig[1]\n",
    "\n",
    "    predicted_values = [] #y values from slope\n",
    "    pv = 0\n",
    "    for u in x:\n",
    "        pv = (m*u) + b\n",
    "        predicted_values.append(pv)\n",
    "        pv = 0\n",
    "\n",
    "    prev = np.array(predicted_values)\n",
    "    abu = np.array(y)\n",
    "    diff = abu - prev #difference between slope and measured values  \n",
    "    return diff\n",
    "\n",
    "def stdev(x):\n",
    "    mean = np.mean(x)\n",
    "    fun = 0\n",
    "    for c in x: \n",
    "        j = (c-mean)**2\n",
    "        fun = fun + j \n",
    "    s = np.sqrt(fun/(len(x)))\n",
    "    return s\n",
    "\n",
    "#chi squared, Hogg 2010 eq 7 :  [Y - AX]^T C^-1 [Y - AX] \n",
    "def chisquared(param, x, y, erro):\n",
    "    for h, txt in enumerate(y): #removing nan values\n",
    "        if (math.isnan(txt) == True):\n",
    "            del x[h]\n",
    "            del y[h]\n",
    "            del erro[h]\n",
    "\n",
    "    (m,b) = param #for optimization - m and b \n",
    "    X = (m,b)\n",
    "    \n",
    "    #A \n",
    "    ab = ([1] * len(x))\n",
    "    Amat = []\n",
    "    for z, txt in enumerate(x):\n",
    "        Amat.append(x[z])\n",
    "        Amat.append(ab[z])\n",
    "    A= np.array(Amat).reshape((len(x), 2))\n",
    "\n",
    "    #C  \n",
    "    errorsq = np.square(erro)\n",
    "    C = np.diag(errorsq)\n",
    "    invsC = np.linalg.inv(C)\n",
    "\n",
    "    #plugging in  \n",
    "    AT= np.transpose(A)\n",
    "    AX = np.dot(A,X)\n",
    "    yax = (y - AX)\n",
    "    yaxT = np.transpose(yax)\n",
    "    yaxTinvsC = np.dot(yaxT, invsC)\n",
    "\n",
    "    chisq = (np.dot(yaxTinvsC, yax))\n",
    "    return (chisq)\n",
    "\n",
    "def delta(param, x, y): # Hogg 2010 eqn 30 : ∆i = (vˆT Zi) − b cos θ   \n",
    "    (m,b, jitter) = param\n",
    "    theta = np.arctan(m)\n",
    "    v = np.array([- np.sin(theta), np.cos(theta)]) # v = [− sin θ  cos θ]   \n",
    "\n",
    "    disp = np.zeros_like(y)\n",
    "    for i, (ys, xs) in enumerate(zip(y, x)):\n",
    "        z0 = np.asarray([0.0, b])\n",
    "        zi = np.asarray([xs, ys])\n",
    "        disp[i] = np.dot( v, zi - z0 )\n",
    "    return disp\n",
    "\n",
    "#2D uncertainties: lnL = K -  sum [delta^2 / 2* sum^2]  \n",
    "def twodnlnL(param, x, y, errx, erry):\n",
    "    K = 0\n",
    "    delt = delta(param, x, y)\n",
    "    (m,b,jitter) = param\n",
    "\n",
    "    #Σ^2 = vˆT Si v  \n",
    "    theta = np.arctan(m)\n",
    "    v = np.array([- np.sin(theta), np.cos(theta)]) # v = [− sin θ,  cos θ]\n",
    "    \n",
    "    var = np.zeros_like(erry)\n",
    "    for i, (dy, dx) in enumerate(zip(erry, errx)):\n",
    "        cov = np.eye(2)\n",
    "        cov[0,0] = dx**2\n",
    "        cov[1,1] = dy**2 \n",
    "        var[i] = np.dot(v.T, np.dot(cov, v))\n",
    "        \n",
    "    sigmasq = var + np.exp(2.*jitter)\n",
    "    return 0.5 * np.sum(delt**2/sigmasq + np.log(sigmasq))\n"
   ]
  },
  {
   "cell_type": "code",
   "execution_count": 4,
   "metadata": {},
   "outputs": [],
   "source": [
    "#1D LIKELIHOODS"
   ]
  },
  {
   "cell_type": "code",
   "execution_count": 5,
   "metadata": {},
   "outputs": [],
   "source": [
    "one_d_jitter = []\n",
    "one_d_residuals_jitter= []\n",
    "ig = (0.1, 0.2, 0.3)\n",
    "\n",
    "elements = []\n",
    "for n in t.colnames:\n",
    "    if len(n) < 3 :\n",
    "        elements.append(n) #list of element names\n",
    "elements = np.array(elements)\n",
    "    \n",
    "for r, name in enumerate(elements):\n",
    "    #BEFORE REMOVING TEMP TRENDS\n",
    "    jitter_one_d = scipy.optimize.minimize(nlnL, ig, args = (t['age'], t[name], t[name + '_err']))\n",
    "    one_d_jitter.append(jitter_one_d['x'][2]) #list of age vs element jitter values\n",
    "\n",
    "    age_abund_resid =  residuals(t['age'], t[name], t[name + '_err']) #removing condensation temp trends \n",
    "    \n",
    "    #AFTER REMOVING TEMP\n",
    "    residuals_jitter = scipy.optimize.minimize(nlnL, ig, args = (t['age'], age_abund_resid, t[name + '_err']))\n",
    "    one_d_residuals_jitter.append(residuals_jitter['x'][2])"
   ]
  },
  {
   "cell_type": "code",
   "execution_count": 22,
   "metadata": {},
   "outputs": [
    {
     "data": {
      "text/html": [
       "<i>Table length=30</i>\n",
       "<table id=\"table69092653712-577487\" class=\"table-striped table-bordered table-condensed\">\n",
       "<thead><tr><th>idx</th><th>Element</th><th>Jitter</th><th>Residual&apos;s Jitter</th><th>Divided</th></tr></thead>\n",
       "<tr><td>0</td><td>Fe</td><td>nan</td><td>nan</td><td>1.0</td></tr>\n",
       "<tr><td>1</td><td>O</td><td>-3.7157026881729838</td><td>-3.7157027791905555</td><td>1.0000000910175755</td></tr>\n",
       "<tr><td>2</td><td>Na</td><td>-3.5964581973732983</td><td>-3.596458192427378</td><td>0.9999999950540797</td></tr>\n",
       "<tr><td>3</td><td>Mg</td><td>nan</td><td>nan</td><td>1.000000005795207</td></tr>\n",
       "<tr><td>4</td><td>Al</td><td>-4.0939685687410075</td><td>-4.093968569006734</td><td>1.0000000002657257</td></tr>\n",
       "<tr><td>5</td><td>Si</td><td>-4.478540741442575</td><td>-4.478540741652311</td><td>1.0000000002097365</td></tr>\n",
       "<tr><td>6</td><td>S</td><td>nan</td><td>-3.6978716824382363</td><td>-1.0000014621217999</td></tr>\n",
       "<tr><td>7</td><td>Ca</td><td>-4.719654647831988</td><td>-4.7196549604259435</td><td>1.0000003125940047</td></tr>\n",
       "<tr><td>8</td><td>V</td><td>-4.686711582632222</td><td>nan</td><td>-0.999997779339432</td></tr>\n",
       "<tr><td>9</td><td>Mn</td><td>-3.877786722211176</td><td>-3.8777867225541596</td><td>1.0000000003429834</td></tr>\n",
       "<tr><td>10</td><td>Co</td><td>-4.0132233031108715</td><td>-4.013223820168616</td><td>1.0000005170578783</td></tr>\n",
       "<tr><td>11</td><td>Ni</td><td>nan</td><td>nan</td><td>0.9999991296930281</td></tr>\n",
       "<tr><td>12</td><td>Cu</td><td>-3.7281374085124237</td><td>-3.728137409980319</td><td>1.0000000014678951</td></tr>\n",
       "<tr><td>13</td><td>Zn</td><td>-3.808199912185035</td><td>-3.808199230672408</td><td>0.9999993184876049</td></tr>\n",
       "<tr><td>14</td><td>Sr</td><td>-3.4115025228533473</td><td>-3.411502115538995</td><td>0.9999995926857304</td></tr>\n",
       "<tr><td>15</td><td>Y</td><td>-3.5007622944464325</td><td>-3.500762525241026</td><td>1.0000002307946205</td></tr>\n",
       "<tr><td>16</td><td>Zr</td><td>-3.6317508984800626</td><td>-3.6317507924256214</td><td>0.9999998939455648</td></tr>\n",
       "<tr><td>17</td><td>Ba</td><td>-3.486803176393956</td><td>-3.4868031722408728</td><td>0.999999995846917</td></tr>\n",
       "<tr><td>18</td><td>La</td><td>-3.3826994745655927</td><td>-3.3826994801175396</td><td>1.0000000055519473</td></tr>\n",
       "<tr><td>19</td><td>Ce</td><td>-3.465339813135784</td><td>-3.4653397733626448</td><td>0.9999999602268613</td></tr>\n",
       "<tr><td>20</td><td>Pr</td><td>-3.0899600412881467</td><td>-3.089959989449753</td><td>0.9999999481616079</td></tr>\n",
       "<tr><td>21</td><td>Nd</td><td>-3.300663647455833</td><td>-3.300663567930175</td><td>0.9999999204743449</td></tr>\n",
       "<tr><td>22</td><td>Sm</td><td>-3.779042541579166</td><td>nan</td><td>-0.999999326843445</td></tr>\n",
       "<tr><td>23</td><td>Eu</td><td>-3.4945900448433096</td><td>-3.4945900205203815</td><td>0.9999999756770718</td></tr>\n",
       "<tr><td>24</td><td>Gd</td><td>-3.5681280133176023</td><td>-3.5681280123388426</td><td>0.9999999990212403</td></tr>\n",
       "<tr><td>25</td><td>Dy</td><td>-3.393363428177888</td><td>-3.393364700372987</td><td>1.0000012721959082</td></tr>\n",
       "<tr><td>26</td><td>C</td><td>-3.501893837225756</td><td>-3.501893918199541</td><td>1.0000000809737883</td></tr>\n",
       "<tr><td>27</td><td>Ti</td><td>nan</td><td>-5.341919134057084</td><td>-1.0000011540308973</td></tr>\n",
       "<tr><td>28</td><td>Sc</td><td>nan</td><td>nan</td><td>0.9999908368118867</td></tr>\n",
       "<tr><td>29</td><td>Cr</td><td>-19.709231416165174</td><td>nan</td><td>-0.3682676317462938</td></tr>\n",
       "</table><style>table.dataTable {clear: both; width: auto !important; margin: 0 !important;}\n",
       ".dataTables_info, .dataTables_length, .dataTables_filter, .dataTables_paginate{\n",
       "display: inline-block; margin-right: 1em; }\n",
       ".paginate_button { margin-right: 5px; }\n",
       "</style>\n",
       "<script>\n",
       "\n",
       "var astropy_sort_num = function(a, b) {\n",
       "    var a_num = parseFloat(a);\n",
       "    var b_num = parseFloat(b);\n",
       "\n",
       "    if (isNaN(a_num) && isNaN(b_num))\n",
       "        return ((a < b) ? -1 : ((a > b) ? 1 : 0));\n",
       "    else if (!isNaN(a_num) && !isNaN(b_num))\n",
       "        return ((a_num < b_num) ? -1 : ((a_num > b_num) ? 1 : 0));\n",
       "    else\n",
       "        return isNaN(a_num) ? -1 : 1;\n",
       "}\n",
       "\n",
       "require.config({paths: {\n",
       "    datatables: 'https://cdn.datatables.net/1.10.12/js/jquery.dataTables.min'\n",
       "}});\n",
       "require([\"datatables\"], function(){\n",
       "    console.log(\"$('#table69092653712-577487').dataTable()\");\n",
       "    \n",
       "jQuery.extend( jQuery.fn.dataTableExt.oSort, {\n",
       "    \"optionalnum-asc\": astropy_sort_num,\n",
       "    \"optionalnum-desc\": function (a,b) { return -astropy_sort_num(a, b); }\n",
       "});\n",
       "\n",
       "    $('#table69092653712-577487').dataTable({\n",
       "        order: [],\n",
       "        pageLength: 50,\n",
       "        lengthMenu: [[10, 25, 50, 100, 500, 1000, -1], [10, 25, 50, 100, 500, 1000, 'All']],\n",
       "        pagingType: \"full_numbers\",\n",
       "        columnDefs: [{targets: [0, 2, 3, 4], type: \"optionalnum\"}]\n",
       "    });\n",
       "});\n",
       "</script>\n"
      ],
      "text/plain": [
       "<IPython.core.display.HTML object>"
      ]
     },
     "execution_count": 22,
     "metadata": {},
     "output_type": "execute_result"
    }
   ],
   "source": [
    "Table([elements, np.log(one_d_jitter), np.log(one_d_residuals_jitter), np.array(one_d_jitter)/np.array(one_d_residuals_jitter)], \n",
    "      names = ('Element','Jitter', \"Residual's Jitter\", 'Divided')).show_in_notebook()"
   ]
  },
  {
   "cell_type": "code",
   "execution_count": 7,
   "metadata": {},
   "outputs": [
    {
     "data": {
      "text/plain": [
       "<matplotlib.collections.PathCollection at 0x101563aa90>"
      ]
     },
     "execution_count": 7,
     "metadata": {},
     "output_type": "execute_result"
    },
    {
     "data": {
      "image/png": "[encoded data removed]",
      "text/plain": [
       "<Figure size 432x288 with 1 Axes>"
      ]
     },
     "metadata": {
      "needs_background": "light"
     },
     "output_type": "display_data"
    }
   ],
   "source": [
    "plt.scatter(np.absolute(np.array(one_d_jitter)), np.absolute(np.array(one_d_residuals_jitter)))"
   ]
  },
  {
   "cell_type": "code",
   "execution_count": 8,
   "metadata": {},
   "outputs": [],
   "source": [
    "standarddev = []\n",
    "standarddev_residuals = []\n",
    "initial_guess = (0.1, 0.1)\n",
    "\n",
    "for p in elements:\n",
    "    standarddev.append(stdev(t[p]))\n",
    "    resid = residuals(t['age'], t[p], t[p + '_err'])\n",
    "    standarddev_residuals.append(stdev(resid))"
   ]
  },
  {
   "cell_type": "code",
   "execution_count": 9,
   "metadata": {},
   "outputs": [
    {
     "data": {
      "text/html": [
       "<i>Table length=30</i>\n",
       "<table id=\"table69077920176\" class=\"table-striped table-bordered table-condensed\">\n",
       "<thead><tr><th>Element</th><th>Standard Deviation</th><th>Residual&apos;s Standard Deviation</th><th>Divided</th></tr></thead>\n",
       "<thead><tr><th>str2</th><th>float64</th><th>float64</th><th>float64</th></tr></thead>\n",
       "<tr><td>Fe</td><td>0.0</td><td>0.0</td><td>nan</td></tr>\n",
       "<tr><td>O</td><td>0.033611419319191496</td><td>0.026719476522191497</td><td>1.2579370442110267</td></tr>\n",
       "<tr><td>Na</td><td>0.03595281172982548</td><td>0.029209208399030934</td><td>1.2308725124854214</td></tr>\n",
       "<tr><td>Mg</td><td>0.02996596613322483</td><td>0.016754876051260633</td><td>1.788492259897691</td></tr>\n",
       "<tr><td>Al</td><td>0.038449476465674134</td><td>0.0182233174856738</td><td>2.109905427258295</td></tr>\n",
       "<tr><td>Si</td><td>0.019251252599340084</td><td>0.011891489271426116</td><td>1.6189101432062538</td></tr>\n",
       "<tr><td>S</td><td>0.03854360986715821</td><td>0.032257028387927114</td><td>1.194890285727125</td></tr>\n",
       "<tr><td>Ca</td><td>0.010348971498301865</td><td>0.010006651266438779</td><td>1.0342092696895704</td></tr>\n",
       "<tr><td>V</td><td>0.012400154871228418</td><td>0.012162507827491653</td><td>1.0195393127065124</td></tr>\n",
       "<tr><td>Mn</td><td>0.022163765084005062</td><td>0.021515929762125068</td><td>1.0301095666811662</td></tr>\n",
       "<tr><td>...</td><td>...</td><td>...</td><td>...</td></tr>\n",
       "<tr><td>Pr</td><td>0.05413090270841307</td><td>0.04797832973216399</td><td>1.1282364978229846</td></tr>\n",
       "<tr><td>Nd</td><td>0.06132024077794985</td><td>0.038593591017756855</td><td>1.5888710835365514</td></tr>\n",
       "<tr><td>Sm</td><td>0.034636583355960426</td><td>0.028641200740977753</td><td>1.2093272090511524</td></tr>\n",
       "<tr><td>Eu</td><td>0.035479293634690774</td><td>0.03326266615277354</td><td>1.0666401025021983</td></tr>\n",
       "<tr><td>Gd</td><td>0.03394151735479751</td><td>0.030663039192089833</td><td>1.1069195438250434</td></tr>\n",
       "<tr><td>Dy</td><td>0.047723431892070525</td><td>0.042252614012025194</td><td>1.1294788028614826</td></tr>\n",
       "<tr><td>C</td><td>0.046081183049602424</td><td>0.035058238410154215</td><td>1.314418097979947</td></tr>\n",
       "<tr><td>Ti</td><td>0.014795313005735155</td><td>0.011995286548665612</td><td>1.2334272254113867</td></tr>\n",
       "<tr><td>Sc</td><td>0.021275398278421162</td><td>0.017204702440663116</td><td>1.2366036757565189</td></tr>\n",
       "<tr><td>Cr</td><td>0.0061489440173493875</td><td>0.005434907954920908</td><td>1.1313796053863199</td></tr>\n",
       "</table>"
      ],
      "text/plain": [
       "<Table length=30>\n",
       "Element   Standard Deviation  Residual's Standard Deviation      Divided      \n",
       "  str2         float64                   float64                 float64      \n",
       "------- --------------------- ----------------------------- ------------------\n",
       "     Fe                   0.0                           0.0                nan\n",
       "      O  0.033611419319191496          0.026719476522191497 1.2579370442110267\n",
       "     Na   0.03595281172982548          0.029209208399030934 1.2308725124854214\n",
       "     Mg   0.02996596613322483          0.016754876051260633  1.788492259897691\n",
       "     Al  0.038449476465674134            0.0182233174856738  2.109905427258295\n",
       "     Si  0.019251252599340084          0.011891489271426116 1.6189101432062538\n",
       "      S   0.03854360986715821          0.032257028387927114  1.194890285727125\n",
       "     Ca  0.010348971498301865          0.010006651266438779 1.0342092696895704\n",
       "      V  0.012400154871228418          0.012162507827491653 1.0195393127065124\n",
       "     Mn  0.022163765084005062          0.021515929762125068 1.0301095666811662\n",
       "    ...                   ...                           ...                ...\n",
       "     Pr   0.05413090270841307           0.04797832973216399 1.1282364978229846\n",
       "     Nd   0.06132024077794985          0.038593591017756855 1.5888710835365514\n",
       "     Sm  0.034636583355960426          0.028641200740977753 1.2093272090511524\n",
       "     Eu  0.035479293634690774           0.03326266615277354 1.0666401025021983\n",
       "     Gd   0.03394151735479751          0.030663039192089833 1.1069195438250434\n",
       "     Dy  0.047723431892070525          0.042252614012025194 1.1294788028614826\n",
       "      C  0.046081183049602424          0.035058238410154215  1.314418097979947\n",
       "     Ti  0.014795313005735155          0.011995286548665612 1.2334272254113867\n",
       "     Sc  0.021275398278421162          0.017204702440663116 1.2366036757565189\n",
       "     Cr 0.0061489440173493875          0.005434907954920908 1.1313796053863199"
      ]
     },
     "execution_count": 9,
     "metadata": {},
     "output_type": "execute_result"
    }
   ],
   "source": [
    "Table([elements, standarddev, standarddev_residuals, np.array(standarddev)/np.array(standarddev_residuals)], \n",
    "      names = ('Element','Standard Deviation', \"Residual's Standard Deviation\", 'Divided'))"
   ]
  },
  {
   "cell_type": "code",
   "execution_count": 10,
   "metadata": {},
   "outputs": [
    {
     "data": {
      "text/html": [
       "<i>Table length=30</i>\n",
       "<table id=\"table69077918832\" class=\"table-striped table-bordered table-condensed\">\n",
       "<thead><tr><th>Element</th><th>Jitter</th><th>Residual&apos;s Jitter</th><th>Standard Deviation</th><th>Residual&apos;s StDev</th></tr></thead>\n",
       "<thead><tr><th>str2</th><th>float64</th><th>float64</th><th>float64</th><th>float64</th></tr></thead>\n",
       "<tr><td>Fe</td><td>1.2875109690469402e-08</td><td>1.2875109690469402e-08</td><td>0.0</td><td>0.0</td></tr>\n",
       "<tr><td>O</td><td>0.02433833284619741</td><td>0.024338330630981564</td><td>0.033611419319191496</td><td>0.026719476522191497</td></tr>\n",
       "<tr><td>Na</td><td>0.027420669261122917</td><td>0.027420669396743362</td><td>0.03595281172982548</td><td>0.029209208399030934</td></tr>\n",
       "<tr><td>Mg</td><td>0.012354494073977965</td><td>0.012354494002381115</td><td>0.02996596613322483</td><td>0.016754876051260633</td></tr>\n",
       "<tr><td>Al</td><td>0.01667293440292503</td><td>0.016672934398494606</td><td>0.038449476465674134</td><td>0.0182233174856738</td></tr>\n",
       "<tr><td>Si</td><td>0.011349963607556253</td><td>0.011349963605175753</td><td>0.019251252599340084</td><td>0.011891489271426116</td></tr>\n",
       "<tr><td>S</td><td>0.024776238247006144</td><td>0.02477620202118105</td><td>0.03854360986715821</td><td>0.032257028387927114</td></tr>\n",
       "<tr><td>Ca</td><td>0.008918257956388969</td><td>0.00891825516859587</td><td>0.010348971498301865</td><td>0.010006651266438779</td></tr>\n",
       "<tr><td>V</td><td>0.009216945540026807</td><td>0.009216966007779777</td><td>0.012400154871228418</td><td>0.012162507827491653</td></tr>\n",
       "<tr><td>Mn</td><td>0.02069658181179605</td><td>0.020696581804697464</td><td>0.022163765084005062</td><td>0.021515929762125068</td></tr>\n",
       "<tr><td>...</td><td>...</td><td>...</td><td>...</td><td>...</td></tr>\n",
       "<tr><td>Pr</td><td>0.04550377264043333</td><td>0.04550377499927586</td><td>0.05413090270841307</td><td>0.04797832973216399</td></tr>\n",
       "<tr><td>Nd</td><td>0.036858698101423476</td><td>0.03685870103263582</td><td>0.06132024077794985</td><td>0.038593591017756855</td></tr>\n",
       "<tr><td>Sm</td><td>0.022844553667607986</td><td>0.022844569045579386</td><td>0.034636583355960426</td><td>0.028641200740977753</td></tr>\n",
       "<tr><td>Eu</td><td>0.030361192613145776</td><td>0.030361193351618902</td><td>0.035479293634690774</td><td>0.03326266615277354</td></tr>\n",
       "<tr><td>Gd</td><td>0.02820861042797925</td><td>0.028208610455588704</td><td>0.03394151735479751</td><td>0.030663039192089833</td></tr>\n",
       "<tr><td>Dy</td><td>0.03359549063948034</td><td>0.03359544789948899</td><td>0.047723431892070525</td><td>0.042252614012025194</td></tr>\n",
       "<tr><td>C</td><td>0.03014024861256441</td><td>0.030140246171994498</td><td>0.046081183049602424</td><td>0.035058238410154215</td></tr>\n",
       "<tr><td>Ti</td><td>0.004786681141584422</td><td>0.004786675617612864</td><td>0.014795313005735155</td><td>0.011995286548665612</td></tr>\n",
       "<tr><td>Sc</td><td>0.005192842640936296</td><td>0.005192890224366273</td><td>0.021275398278421162</td><td>0.017204702440663116</td></tr>\n",
       "<tr><td>Cr</td><td>2.7567002993457315e-09</td><td>7.485589451002504e-09</td><td>0.0061489440173493875</td><td>0.005434907954920908</td></tr>\n",
       "</table>"
      ],
      "text/plain": [
       "<Table length=30>\n",
       "Element         Jitter         ...   Standard Deviation    Residual's StDev  \n",
       "  str2         float64         ...        float64              float64       \n",
       "------- ---------------------- ... --------------------- --------------------\n",
       "     Fe 1.2875109690469402e-08 ...                   0.0                  0.0\n",
       "      O    0.02433833284619741 ...  0.033611419319191496 0.026719476522191497\n",
       "     Na   0.027420669261122917 ...   0.03595281172982548 0.029209208399030934\n",
       "     Mg   0.012354494073977965 ...   0.02996596613322483 0.016754876051260633\n",
       "     Al    0.01667293440292503 ...  0.038449476465674134   0.0182233174856738\n",
       "     Si   0.011349963607556253 ...  0.019251252599340084 0.011891489271426116\n",
       "      S   0.024776238247006144 ...   0.03854360986715821 0.032257028387927114\n",
       "     Ca   0.008918257956388969 ...  0.010348971498301865 0.010006651266438779\n",
       "      V   0.009216945540026807 ...  0.012400154871228418 0.012162507827491653\n",
       "     Mn    0.02069658181179605 ...  0.022163765084005062 0.021515929762125068\n",
       "    ...                    ... ...                   ...                  ...\n",
       "     Pr    0.04550377264043333 ...   0.05413090270841307  0.04797832973216399\n",
       "     Nd   0.036858698101423476 ...   0.06132024077794985 0.038593591017756855\n",
       "     Sm   0.022844553667607986 ...  0.034636583355960426 0.028641200740977753\n",
       "     Eu   0.030361192613145776 ...  0.035479293634690774  0.03326266615277354\n",
       "     Gd    0.02820861042797925 ...   0.03394151735479751 0.030663039192089833\n",
       "     Dy    0.03359549063948034 ...  0.047723431892070525 0.042252614012025194\n",
       "      C    0.03014024861256441 ...  0.046081183049602424 0.035058238410154215\n",
       "     Ti   0.004786681141584422 ...  0.014795313005735155 0.011995286548665612\n",
       "     Sc   0.005192842640936296 ...  0.021275398278421162 0.017204702440663116\n",
       "     Cr 2.7567002993457315e-09 ... 0.0061489440173493875 0.005434907954920908"
      ]
     },
     "execution_count": 10,
     "metadata": {},
     "output_type": "execute_result"
    }
   ],
   "source": [
    "Table([elements, np.absolute(one_d_jitter), np.absolute(one_d_residuals_jitter), standarddev, standarddev_residuals], \n",
    "      names = ('Element', 'Jitter',\"Residual's Jitter\",'Standard Deviation',\"Residual's StDev\"))"
   ]
  },
  {
   "cell_type": "code",
   "execution_count": 11,
   "metadata": {},
   "outputs": [
    {
     "data": {
      "text/plain": [
       "<matplotlib.collections.PathCollection at 0x10162092e8>"
      ]
     },
     "execution_count": 11,
     "metadata": {},
     "output_type": "execute_result"
    },
    {
     "data": {
      "image/png": "[encoded data removed]",
      "text/plain": [
       "<Figure size 432x288 with 1 Axes>"
      ]
     },
     "metadata": {
      "needs_background": "light"
     },
     "output_type": "display_data"
    }
   ],
   "source": [
    "plt.scatter(standarddev, np.absolute(one_d_jitter))"
   ]
  },
  {
   "cell_type": "code",
   "execution_count": 12,
   "metadata": {},
   "outputs": [
    {
     "data": {
      "text/plain": [
       "<matplotlib.collections.PathCollection at 0x10162c8588>"
      ]
     },
     "execution_count": 12,
     "metadata": {},
     "output_type": "execute_result"
    },
    {
     "data": {
      "image/png": "[encoded data removed]",
      "text/plain": [
       "<Figure size 432x288 with 1 Axes>"
      ]
     },
     "metadata": {
      "needs_background": "light"
     },
     "output_type": "display_data"
    }
   ],
   "source": [
    "plt.scatter(standarddev_residuals, np.absolute(one_d_residuals_jitter))"
   ]
  },
  {
   "cell_type": "code",
   "execution_count": 13,
   "metadata": {},
   "outputs": [],
   "source": [
    "scatter_jitter = []\n",
    "scatter_residuals_jitter =[]\n",
    "guess = (0.1,0.2,0.3)\n",
    "\n",
    "con_temp = []\n",
    "for i in elements: \n",
    "    con_temp.append(tc_map[i]) #condensation temperatures of elements \n",
    "temp_shuffle = np.copy(con_temp)\n",
    "random.shuffle(temp_shuffle) #random condensation temperatures assigned to elements : testing impact\n",
    "    \n",
    "star_abund = []\n",
    "abund_error = []\n",
    "for n, star in enumerate(t['star_name']):\n",
    "    individual_elements =[]\n",
    "    individual_error = []\n",
    "    for u in elements:\n",
    "        individual_elements.append(t[n][u]) #abundances of elements in every star\n",
    "        individual_error.append(t[n][u + '_err']) #error on abundances\n",
    "    star_abund.append(individual_elements)\n",
    "    abund_error.append(individual_error)\n",
    "    individual_elements=[]\n",
    "    individual_error =[]\n",
    "\n",
    "for j, star in enumerate(t['star_name']):\n",
    "    jitter_temp = scipy.optimize.minimize(nlnL, guess, args = (temp_shuffle, star_abund[j], abund_error[j]))\n",
    "    scatter_jitter.append(jitter_temp['x'][2]) #list of temp vs element jitter values\n",
    "\n",
    "    #removing temperature trends\n",
    "    temp_abund_residuals = residuals(temp_shuffle, star_abund[j], abund_error[j])\n",
    "    jitter_no_temp = scipy.optimize.minimize(nlnL, guess, args = (temp_shuffle, temp_abund_residuals, abund_error[j]))\n",
    "    scatter_residuals_jitter.append(jitter_no_temp['x'][2])"
   ]
  },
  {
   "cell_type": "code",
   "execution_count": 14,
   "metadata": {},
   "outputs": [
    {
     "data": {
      "text/html": [
       "<i>Table length=68</i>\n",
       "<table id=\"table69091725264\" class=\"table-striped table-bordered table-condensed\">\n",
       "<thead><tr><th>Star</th><th>Scattered Temp Jitter</th><th>Residual Scatter Jitter</th><th>Divided</th></tr></thead>\n",
       "<thead><tr><th>bytes9</th><th>float64</th><th>float64</th><th>float64</th></tr></thead>\n",
       "<tr><td>HIP10175</td><td>0.06003985815755665</td><td>0.060037515056598136</td><td>1.0000390272807977</td></tr>\n",
       "<tr><td>HIP101905</td><td>0.07177975446940481</td><td>0.07178078090735604</td><td>0.9999857003791508</td></tr>\n",
       "<tr><td>HIP102040</td><td>0.07000073208899626</td><td>0.07000183007204186</td><td>0.9999843149379886</td></tr>\n",
       "<tr><td>HIP102152</td><td>0.03654812912525867</td><td>0.03655447731329167</td><td>0.9998263362384149</td></tr>\n",
       "<tr><td>HIP10303</td><td>0.0170973062819332</td><td>-0.017099704810351325</td><td>-0.999859732758856</td></tr>\n",
       "<tr><td>HIP104045</td><td>-0.02241036319057468</td><td>-0.02241023229544649</td><td>1.0000058408644081</td></tr>\n",
       "<tr><td>HIP105184</td><td>0.08474223488384232</td><td>0.08474885259292618</td><td>0.999921913879877</td></tr>\n",
       "<tr><td>HIP108468</td><td>-0.04699123059373722</td><td>0.04700329254392648</td><td>-0.9997433807391687</td></tr>\n",
       "<tr><td>HIP114328</td><td>0.03155809980496915</td><td>0.03155969970384566</td><td>0.9999493056368876</td></tr>\n",
       "<tr><td>HIP114615</td><td>0.06097015739006677</td><td>-0.060968643213760464</td><td>-1.0000248353288919</td></tr>\n",
       "<tr><td>...</td><td>...</td><td>...</td><td>...</td></tr>\n",
       "<tr><td>HIP79672</td><td>0.04217472015053506</td><td>0.04216366574753407</td><td>1.0002621784136887</td></tr>\n",
       "<tr><td>HIP81746</td><td>0.0427594634021849</td><td>0.04276179979730469</td><td>0.9999453625635295</td></tr>\n",
       "<tr><td>HIP83276</td><td>0.0496891905134667</td><td>0.049689190718761836</td><td>0.9999999958684146</td></tr>\n",
       "<tr><td>HIP85042</td><td>0.026246220701939747</td><td>-0.02624627717800863</td><td>-0.9999978482255407</td></tr>\n",
       "<tr><td>HIP8507</td><td>0.05863532343933284</td><td>-0.058634992844333475</td><td>-1.0000056381860614</td></tr>\n",
       "<tr><td>HIP87769</td><td>-0.011432217218447812</td><td>-0.011431844758054591</td><td>1.00003258095269</td></tr>\n",
       "<tr><td>HIP89650</td><td>0.029094445979730592</td><td>0.029094502741599124</td><td>0.9999980490517733</td></tr>\n",
       "<tr><td>HIP9349</td><td>0.05705660506829629</td><td>0.05705645581820345</td><td>1.0000026158318231</td></tr>\n",
       "<tr><td>HIP95962</td><td>0.019297263278214242</td><td>-0.01929143076111062</td><td>-1.0003023371970616</td></tr>\n",
       "<tr><td>HIP96160</td><td>-0.04824322841748036</td><td>-0.048237260586440095</td><td>1.000123718282666</td></tr>\n",
       "</table>"
      ],
      "text/plain": [
       "<Table length=68>\n",
       "   Star   Scattered Temp Jitter Residual Scatter Jitter       Divided      \n",
       "  bytes9         float64                float64               float64      \n",
       "--------- --------------------- ----------------------- -------------------\n",
       " HIP10175   0.06003985815755665    0.060037515056598136  1.0000390272807977\n",
       "HIP101905   0.07177975446940481     0.07178078090735604  0.9999857003791508\n",
       "HIP102040   0.07000073208899626     0.07000183007204186  0.9999843149379886\n",
       "HIP102152   0.03654812912525867     0.03655447731329167  0.9998263362384149\n",
       " HIP10303    0.0170973062819332   -0.017099704810351325  -0.999859732758856\n",
       "HIP104045  -0.02241036319057468    -0.02241023229544649  1.0000058408644081\n",
       "HIP105184   0.08474223488384232     0.08474885259292618   0.999921913879877\n",
       "HIP108468  -0.04699123059373722     0.04700329254392648 -0.9997433807391687\n",
       "HIP114328   0.03155809980496915     0.03155969970384566  0.9999493056368876\n",
       "HIP114615   0.06097015739006677   -0.060968643213760464 -1.0000248353288919\n",
       "      ...                   ...                     ...                 ...\n",
       " HIP79672   0.04217472015053506     0.04216366574753407  1.0002621784136887\n",
       " HIP81746    0.0427594634021849     0.04276179979730469  0.9999453625635295\n",
       " HIP83276    0.0496891905134667    0.049689190718761836  0.9999999958684146\n",
       " HIP85042  0.026246220701939747    -0.02624627717800863 -0.9999978482255407\n",
       "  HIP8507   0.05863532343933284   -0.058634992844333475 -1.0000056381860614\n",
       " HIP87769 -0.011432217218447812   -0.011431844758054591    1.00003258095269\n",
       " HIP89650  0.029094445979730592    0.029094502741599124  0.9999980490517733\n",
       "  HIP9349   0.05705660506829629     0.05705645581820345  1.0000026158318231\n",
       " HIP95962  0.019297263278214242    -0.01929143076111062 -1.0003023371970616\n",
       " HIP96160  -0.04824322841748036   -0.048237260586440095   1.000123718282666"
      ]
     },
     "execution_count": 14,
     "metadata": {},
     "output_type": "execute_result"
    }
   ],
   "source": [
    "Table([t['star_name'], scatter_jitter, scatter_residuals_jitter, np.array(scatter_jitter)/np.array(scatter_residuals_jitter)],\n",
    "      names = ('Star',\"Scattered Temp Jitter\", \"Residual Scatter Jitter\", 'Divided'))"
   ]
  },
  {
   "cell_type": "code",
   "execution_count": 15,
   "metadata": {},
   "outputs": [
    {
     "data": {
      "text/plain": [
       "      fun: 298.5808584426217\n",
       " hess_inv: array([[1, 0],\n",
       "       [0, 1]])\n",
       "      jac: array([0.11561966, 0.00435257])\n",
       "  message: 'Desired error not necessarily achieved due to precision loss.'\n",
       "     nfev: 184\n",
       "      nit: 0\n",
       "     njev: 43\n",
       "   status: 2\n",
       "  success: False\n",
       "        x: array([ 0.00849329, -0.03046105])"
      ]
     },
     "execution_count": 15,
     "metadata": {},
     "output_type": "execute_result"
    }
   ],
   "source": [
    "scipy.optimize.minimize(chisquared, (0.00849329, -0.03046105), args = (t['age'], t['Mg'], t['Mg_err']))"
   ]
  },
  {
   "cell_type": "code",
   "execution_count": 16,
   "metadata": {},
   "outputs": [
    {
     "data": {
      "text/html": [
       "<i>Table length=30</i>\n",
       "<table id=\"table69090796600\" class=\"table-striped table-bordered table-condensed\">\n",
       "<thead><tr><th>col0</th><th>col1</th></tr></thead>\n",
       "<thead><tr><th>float64</th><th>float64</th></tr></thead>\n",
       "<tr><td>0.0</td><td>0.0</td></tr>\n",
       "<tr><td>0.033611419319191496</td><td>0.026719476522191497</td></tr>\n",
       "<tr><td>0.03595281172982548</td><td>0.029209208399030934</td></tr>\n",
       "<tr><td>0.02996596613322483</td><td>0.016754876051260633</td></tr>\n",
       "<tr><td>0.038449476465674134</td><td>0.0182233174856738</td></tr>\n",
       "<tr><td>0.019251252599340084</td><td>0.011891489271426116</td></tr>\n",
       "<tr><td>0.03854360986715821</td><td>0.032257028387927114</td></tr>\n",
       "<tr><td>0.010348971498301865</td><td>0.010006651266438779</td></tr>\n",
       "<tr><td>0.012400154871228418</td><td>0.012162507827491653</td></tr>\n",
       "<tr><td>0.022163765084005062</td><td>0.021515929762125068</td></tr>\n",
       "<tr><td>...</td><td>...</td></tr>\n",
       "<tr><td>0.05413090270841307</td><td>0.04797832973216399</td></tr>\n",
       "<tr><td>0.06132024077794985</td><td>0.038593591017756855</td></tr>\n",
       "<tr><td>0.034636583355960426</td><td>0.028641200740977753</td></tr>\n",
       "<tr><td>0.035479293634690774</td><td>0.03326266615277354</td></tr>\n",
       "<tr><td>0.03394151735479751</td><td>0.030663039192089833</td></tr>\n",
       "<tr><td>0.047723431892070525</td><td>0.042252614012025194</td></tr>\n",
       "<tr><td>0.046081183049602424</td><td>0.035058238410154215</td></tr>\n",
       "<tr><td>0.014795313005735155</td><td>0.011995286548665612</td></tr>\n",
       "<tr><td>0.021275398278421162</td><td>0.017204702440663116</td></tr>\n",
       "<tr><td>0.0061489440173493875</td><td>0.005434907954920908</td></tr>\n",
       "</table>"
      ],
      "text/plain": [
       "<Table length=30>\n",
       "         col0                 col1        \n",
       "       float64              float64       \n",
       "--------------------- --------------------\n",
       "                  0.0                  0.0\n",
       " 0.033611419319191496 0.026719476522191497\n",
       "  0.03595281172982548 0.029209208399030934\n",
       "  0.02996596613322483 0.016754876051260633\n",
       " 0.038449476465674134   0.0182233174856738\n",
       " 0.019251252599340084 0.011891489271426116\n",
       "  0.03854360986715821 0.032257028387927114\n",
       " 0.010348971498301865 0.010006651266438779\n",
       " 0.012400154871228418 0.012162507827491653\n",
       " 0.022163765084005062 0.021515929762125068\n",
       "                  ...                  ...\n",
       "  0.05413090270841307  0.04797832973216399\n",
       "  0.06132024077794985 0.038593591017756855\n",
       " 0.034636583355960426 0.028641200740977753\n",
       " 0.035479293634690774  0.03326266615277354\n",
       "  0.03394151735479751 0.030663039192089833\n",
       " 0.047723431892070525 0.042252614012025194\n",
       " 0.046081183049602424 0.035058238410154215\n",
       " 0.014795313005735155 0.011995286548665612\n",
       " 0.021275398278421162 0.017204702440663116\n",
       "0.0061489440173493875 0.005434907954920908"
      ]
     },
     "execution_count": 16,
     "metadata": {},
     "output_type": "execute_result"
    }
   ],
   "source": [
    "Table([standarddev, standarddev_residuals])"
   ]
  },
  {
   "cell_type": "code",
   "execution_count": 17,
   "metadata": {},
   "outputs": [
    {
     "data": {
      "text/plain": [
       "<matplotlib.collections.PathCollection at 0x10163c2160>"
      ]
     },
     "execution_count": 17,
     "metadata": {},
     "output_type": "execute_result"
    },
    {
     "data": {
      "image/png": "[encoded data removed]",
      "text/plain": [
       "<Figure size 432x288 with 1 Axes>"
      ]
     },
     "metadata": {
      "needs_background": "light"
     },
     "output_type": "display_data"
    }
   ],
   "source": [
    "plt.scatter(standarddev, np.array(standarddev)-np.array(standarddev_residuals))"
   ]
  },
  {
   "cell_type": "code",
   "execution_count": 18,
   "metadata": {},
   "outputs": [],
   "source": [
    "#2D LIKELIHOODS"
   ]
  },
  {
   "cell_type": "code",
   "execution_count": 19,
   "metadata": {},
   "outputs": [],
   "source": [
    "standarddev = []\n",
    "standarddev_resid = []\n",
    "\n",
    "for p in elements:\n",
    "    standarddev.append(stdev(t[p]))\n",
    "    resid = residuals(t['age'], t[p], t[p + '_err'])\n",
    "    standarddev_resid.append(stdev(resid))"
   ]
  },
  {
   "cell_type": "code",
   "execution_count": 20,
   "metadata": {},
   "outputs": [
    {
     "name": "stderr",
     "output_type": "stream",
     "text": [
      "30it [01:16,  1.97s/it]\n"
     ]
    }
   ],
   "source": [
    "jitter = []\n",
    "residual_jitter = []\n",
    "no_temp = []\n",
    "initial_guess = (0.1, 0.2, 0.3)     \n",
    "    \n",
    "for l, el in tqdm(enumerate(elements)):\n",
    "    resid = residuals(t['age'], t[el], t[el + '_err'])\n",
    "    \n",
    "    #BEFORE REMOVING TEMP TRENDS\n",
    "    jit_twod = scipy.optimize.minimize(twodnlnL, initial_guess, args = (t['age'], t[el], t['age_err'], t[el+'_err']))\n",
    "    jitter.append(jit_twod['x'][2])\n",
    "    \n",
    "    #AFTER REMOVING TEMP\n",
    "    #resid_jit = scipy.optimize.minimize(twodnlnL, initial_guess, args = (t['age'], resid, t['age_err'], t[el+'_err']))\n",
    "    #residual_jitter.append(resid_jit['x'])\n",
    "    el_no_temp = t[el] - resid\n",
    "    jit_no_temp = scipy.optimize.minimize(twodnlnL, initial_guess, args = (t['age'], el_no_temp, t['age_err'], t[el+'_err']))\n",
    "    no_temp.append(jit_no_temp['x'][2])"
   ]
  },
  {
   "cell_type": "code",
   "execution_count": 21,
   "metadata": {},
   "outputs": [
    {
     "data": {
      "text/html": [
       "<i>Table length=30</i>\n",
       "<table id=\"table69092620104\" class=\"table-striped table-bordered table-condensed\">\n",
       "<thead><tr><th>Element</th><th>Jitter</th><th>Residual&apos;s Jitter</th><th>StDev</th><th>StDev Resid</th></tr></thead>\n",
       "<thead><tr><th>str2</th><th>float64</th><th>float64</th><th>float64</th><th>float64</th></tr></thead>\n",
       "<tr><td>Fe</td><td>-14.669538220741654</td><td>-14.669538220741654</td><td>0.0</td><td>0.0</td></tr>\n",
       "<tr><td>O</td><td>-3.731888400273421</td><td>-12.805659062018984</td><td>0.033611419319191496</td><td>0.026719476522191497</td></tr>\n",
       "<tr><td>Na</td><td>-3.60207232012489</td><td>-13.259245371897851</td><td>0.03595281172982548</td><td>0.029209208399030934</td></tr>\n",
       "<tr><td>Mg</td><td>-4.433994549835249</td><td>-13.419110697816775</td><td>0.02996596613322483</td><td>0.016754876051260633</td></tr>\n",
       "<tr><td>Al</td><td>-4.153910771083712</td><td>-14.199957769096846</td><td>0.038449476465674134</td><td>0.0182233174856738</td></tr>\n",
       "<tr><td>Si</td><td>-4.501752857278109</td><td>-14.174041407636427</td><td>0.019251252599340084</td><td>0.011891489271426116</td></tr>\n",
       "<tr><td>S</td><td>-3.7137691250711775</td><td>-14.265054631635032</td><td>0.03854360986715821</td><td>0.032257028387927114</td></tr>\n",
       "<tr><td>Ca</td><td>-4.7207305167869755</td><td>-14.10006876710241</td><td>0.010348971498301865</td><td>0.010006651266438779</td></tr>\n",
       "<tr><td>V</td><td>-4.687944683830601</td><td>-14.708407993824055</td><td>0.012400154871228418</td><td>0.012162507827491653</td></tr>\n",
       "<tr><td>Mn</td><td>-3.878435514658646</td><td>-14.418744943493959</td><td>0.022163765084005062</td><td>0.021515929762125068</td></tr>\n",
       "<tr><td>...</td><td>...</td><td>...</td><td>...</td><td>...</td></tr>\n",
       "<tr><td>Pr</td><td>-3.0950006287704857</td><td>-12.991705144908746</td><td>0.05413090270841307</td><td>0.04797832973216399</td></tr>\n",
       "<tr><td>Nd</td><td>-3.3317355566003237</td><td>-13.002307617509357</td><td>0.06132024077794985</td><td>0.038593591017756855</td></tr>\n",
       "<tr><td>Sm</td><td>-3.789262305294236</td><td>-13.35404898516661</td><td>0.034636583355960426</td><td>0.028641200740977753</td></tr>\n",
       "<tr><td>Eu</td><td>-3.498003450097851</td><td>-13.3171926633787</td><td>0.035479293634690774</td><td>0.03326266615277354</td></tr>\n",
       "<tr><td>Gd</td><td>-3.573157357926509</td><td>-14.29850742741016</td><td>0.03394151735479751</td><td>0.030663039192089833</td></tr>\n",
       "<tr><td>Dy</td><td>-3.3969405950575653</td><td>-13.131678367124918</td><td>0.047723431892070525</td><td>0.042252614012025194</td></tr>\n",
       "<tr><td>C</td><td>-3.5267219094205835</td><td>-12.446180419736633</td><td>0.046081183049602424</td><td>0.035058238410154215</td></tr>\n",
       "<tr><td>Ti</td><td>-5.374433413585512</td><td>-12.608663249142078</td><td>0.014795313005735155</td><td>0.011995286548665612</td></tr>\n",
       "<tr><td>Sc</td><td>-5.337849321641398</td><td>-12.342083657040037</td><td>0.021275398278421162</td><td>0.017204702440663116</td></tr>\n",
       "<tr><td>Cr</td><td>-12.709415366982537</td><td>-13.574879225895751</td><td>0.0061489440173493875</td><td>0.005434907954920908</td></tr>\n",
       "</table>"
      ],
      "text/plain": [
       "<Table length=30>\n",
       "Element        Jitter       ...         StDev             StDev Resid     \n",
       "  str2        float64       ...        float64              float64       \n",
       "------- ------------------- ... --------------------- --------------------\n",
       "     Fe -14.669538220741654 ...                   0.0                  0.0\n",
       "      O  -3.731888400273421 ...  0.033611419319191496 0.026719476522191497\n",
       "     Na   -3.60207232012489 ...   0.03595281172982548 0.029209208399030934\n",
       "     Mg  -4.433994549835249 ...   0.02996596613322483 0.016754876051260633\n",
       "     Al  -4.153910771083712 ...  0.038449476465674134   0.0182233174856738\n",
       "     Si  -4.501752857278109 ...  0.019251252599340084 0.011891489271426116\n",
       "      S -3.7137691250711775 ...   0.03854360986715821 0.032257028387927114\n",
       "     Ca -4.7207305167869755 ...  0.010348971498301865 0.010006651266438779\n",
       "      V  -4.687944683830601 ...  0.012400154871228418 0.012162507827491653\n",
       "     Mn  -3.878435514658646 ...  0.022163765084005062 0.021515929762125068\n",
       "    ...                 ... ...                   ...                  ...\n",
       "     Pr -3.0950006287704857 ...   0.05413090270841307  0.04797832973216399\n",
       "     Nd -3.3317355566003237 ...   0.06132024077794985 0.038593591017756855\n",
       "     Sm  -3.789262305294236 ...  0.034636583355960426 0.028641200740977753\n",
       "     Eu  -3.498003450097851 ...  0.035479293634690774  0.03326266615277354\n",
       "     Gd  -3.573157357926509 ...   0.03394151735479751 0.030663039192089833\n",
       "     Dy -3.3969405950575653 ...  0.047723431892070525 0.042252614012025194\n",
       "      C -3.5267219094205835 ...  0.046081183049602424 0.035058238410154215\n",
       "     Ti  -5.374433413585512 ...  0.014795313005735155 0.011995286548665612\n",
       "     Sc  -5.337849321641398 ...  0.021275398278421162 0.017204702440663116\n",
       "     Cr -12.709415366982537 ... 0.0061489440173493875 0.005434907954920908"
      ]
     },
     "execution_count": 21,
     "metadata": {},
     "output_type": "execute_result"
    }
   ],
   "source": [
    "Table([elements, jitter, no_temp, standarddev, standarddev_resid], \n",
    "      names = ('Element','Jitter', \"Residual's Jitter\", 'StDev', 'StDev Resid'))"
   ]
  },
  {
   "cell_type": "code",
   "execution_count": 34,
   "metadata": {},
   "outputs": [
    {
     "data": {
      "text/html": [
       "<i>Table length=30</i>\n",
       "<table id=\"table69092749832\" class=\"table-striped table-bordered table-condensed\">\n",
       "<thead><tr><th>1D Jitter</th><th>2D Jitter</th><th>1D Residual Jitter</th><th>2D Residual Jitter</th></tr></thead>\n",
       "<thead><tr><th>float64</th><th>float64</th><th>float64</th><th>float64</th></tr></thead>\n",
       "<tr><td>nan</td><td>-14.669538220741654</td><td>-18.167969870784795</td><td>-14.669538220741654</td></tr>\n",
       "<tr><td>-3.7157026881729838</td><td>-3.731888400273421</td><td>-3.7157027791905555</td><td>-12.805659062018984</td></tr>\n",
       "<tr><td>-3.5964581973732983</td><td>-3.60207232012489</td><td>-3.596458192427378</td><td>-13.259245371897851</td></tr>\n",
       "<tr><td>nan</td><td>-4.433994549835249</td><td>-4.393735395266429</td><td>-13.419110697816775</td></tr>\n",
       "<tr><td>-4.0939685687410075</td><td>-4.153910771083712</td><td>-4.093968569006734</td><td>-14.199957769096846</td></tr>\n",
       "<tr><td>-4.478540741442575</td><td>-4.501752857278109</td><td>-4.478540741652311</td><td>-14.174041407636427</td></tr>\n",
       "<tr><td>nan</td><td>-3.7137691250711775</td><td>-3.6978716824382363</td><td>-14.265054631635032</td></tr>\n",
       "<tr><td>-4.719654647831988</td><td>-4.7207305167869755</td><td>-4.7196549604259435</td><td>-14.10006876710241</td></tr>\n",
       "<tr><td>-4.686711582632222</td><td>-4.687944683830601</td><td>-4.686709361969189</td><td>-14.708407993824055</td></tr>\n",
       "<tr><td>-3.877786722211176</td><td>-3.878435514658646</td><td>-3.8777867225541596</td><td>-14.418744943493959</td></tr>\n",
       "<tr><td>...</td><td>...</td><td>...</td><td>...</td></tr>\n",
       "<tr><td>-3.0899600412881467</td><td>-3.0950006287704857</td><td>-3.089959989449753</td><td>-12.991705144908746</td></tr>\n",
       "<tr><td>-3.300663647455833</td><td>-3.3317355566003237</td><td>-3.300663567930175</td><td>-13.002307617509357</td></tr>\n",
       "<tr><td>-3.779042541579166</td><td>-3.789262305294236</td><td>-3.779041868422384</td><td>-13.35404898516661</td></tr>\n",
       "<tr><td>-3.4945900448433096</td><td>-3.498003450097851</td><td>-3.4945900205203815</td><td>-13.3171926633787</td></tr>\n",
       "<tr><td>-3.5681280133176023</td><td>-3.573157357926509</td><td>-3.5681280123388426</td><td>-14.29850742741016</td></tr>\n",
       "<tr><td>-3.393363428177888</td><td>-3.3969405950575653</td><td>-3.393364700372987</td><td>-13.131678367124918</td></tr>\n",
       "<tr><td>-3.501893837225756</td><td>-3.5267219094205835</td><td>-3.501893918199541</td><td>-12.446180419736633</td></tr>\n",
       "<tr><td>nan</td><td>-5.374433413585512</td><td>-5.341919134057084</td><td>-12.608663249142078</td></tr>\n",
       "<tr><td>nan</td><td>-5.337849321641398</td><td>-5.260464853498739</td><td>-12.342083657040037</td></tr>\n",
       "<tr><td>-19.709231416165174</td><td>-12.709415366982537</td><td>-18.710286071206575</td><td>-13.574879225895751</td></tr>\n",
       "</table>"
      ],
      "text/plain": [
       "<Table length=30>\n",
       "     1D Jitter           2D Jitter       1D Residual Jitter  2D Residual Jitter\n",
       "      float64             float64             float64             float64      \n",
       "------------------- ------------------- ------------------- -------------------\n",
       "                nan -14.669538220741654 -18.167969870784795 -14.669538220741654\n",
       "-3.7157026881729838  -3.731888400273421 -3.7157027791905555 -12.805659062018984\n",
       "-3.5964581973732983   -3.60207232012489  -3.596458192427378 -13.259245371897851\n",
       "                nan  -4.433994549835249  -4.393735395266429 -13.419110697816775\n",
       "-4.0939685687410075  -4.153910771083712  -4.093968569006734 -14.199957769096846\n",
       " -4.478540741442575  -4.501752857278109  -4.478540741652311 -14.174041407636427\n",
       "                nan -3.7137691250711775 -3.6978716824382363 -14.265054631635032\n",
       " -4.719654647831988 -4.7207305167869755 -4.7196549604259435  -14.10006876710241\n",
       " -4.686711582632222  -4.687944683830601  -4.686709361969189 -14.708407993824055\n",
       " -3.877786722211176  -3.878435514658646 -3.8777867225541596 -14.418744943493959\n",
       "                ...                 ...                 ...                 ...\n",
       "-3.0899600412881467 -3.0950006287704857  -3.089959989449753 -12.991705144908746\n",
       " -3.300663647455833 -3.3317355566003237  -3.300663567930175 -13.002307617509357\n",
       " -3.779042541579166  -3.789262305294236  -3.779041868422384  -13.35404898516661\n",
       "-3.4945900448433096  -3.498003450097851 -3.4945900205203815   -13.3171926633787\n",
       "-3.5681280133176023  -3.573157357926509 -3.5681280123388426  -14.29850742741016\n",
       " -3.393363428177888 -3.3969405950575653  -3.393364700372987 -13.131678367124918\n",
       " -3.501893837225756 -3.5267219094205835  -3.501893918199541 -12.446180419736633\n",
       "                nan  -5.374433413585512  -5.341919134057084 -12.608663249142078\n",
       "                nan  -5.337849321641398  -5.260464853498739 -12.342083657040037\n",
       "-19.709231416165174 -12.709415366982537 -18.710286071206575 -13.574879225895751"
      ]
     },
     "execution_count": 34,
     "metadata": {},
     "output_type": "execute_result"
    }
   ],
   "source": [
    "Table([np.log(one_d_jitter), jitter, np.log(np.absolute(one_d_residuals_jitter)), no_temp], names =('1D Jitter', \n",
    "            '2D Jitter','1D Residual Jitter', '2D Residual Jitter'))"
   ]
  },
  {
   "cell_type": "code",
   "execution_count": null,
   "metadata": {},
   "outputs": [],
   "source": []
  }
 ],
 "metadata": {
  "kernelspec": {
   "display_name": "Python 3",
   "language": "python",
   "name": "python3"
  },
  "language_info": {
   "codemirror_mode": {
    "name": "ipython",
    "version": 3
   },
   "file_extension": ".py",
   "mimetype": "text/x-python",
   "name": "python",
   "nbconvert_exporter": "python",
   "pygments_lexer": "ipython3",
   "version": "3.7.0"
  }
 },
 "nbformat": 4,
 "nbformat_minor": 2
}
