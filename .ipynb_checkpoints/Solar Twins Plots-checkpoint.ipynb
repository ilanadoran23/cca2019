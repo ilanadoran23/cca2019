{
 "cells": [
  {
   "cell_type": "code",
   "execution_count": 6,
   "metadata": {},
   "outputs": [],
   "source": [
    "from astropy.table import Table\n",
    "%matplotlib inline  \n",
    "import matplotlib.pyplot as plt\n",
    "import numpy as np\n",
    "import random\n",
    "import math\n",
    "import statistics\n",
    "from scipy import optimize\n",
    "import scipy\n",
    "from condensation_temperature import * \n",
    "\n",
    "fig_size = plt.rcParams[\"figure.figsize\"]\n",
    "fig_size[0] = 9\n",
    "fig_size[1] = 6\n",
    "plt.rcParams[\"figure.figsize\"] = fig_size"
   ]
  },
  {
   "cell_type": "code",
   "execution_count": 7,
   "metadata": {},
   "outputs": [],
   "source": [
    "t= Table.read('solar_twins_data.fits') #fits file as table "
   ]
  },
  {
   "cell_type": "code",
   "execution_count": 8,
   "metadata": {},
   "outputs": [],
   "source": [
    "#importing all data from condensation_temperature\n",
    "from condensation_temperature import * \n",
    "\n",
    "get_tc('O'); #function that returns temp when given an element\n",
    "\n",
    "#tc_map is a dictionary of elements : condensation temp\n",
    "tc_map['O']; #accessing temp from element with tc_map"
   ]
  },
  {
   "cell_type": "code",
   "execution_count": 9,
   "metadata": {},
   "outputs": [
    {
     "data": {
      "text/plain": [
       "[<matplotlib.lines.Line2D at 0x8161086a0>]"
      ]
     },
     "execution_count": 9,
     "metadata": {},
     "output_type": "execute_result"
    },
    {
     "data": {
      "image/png": "[encoded data removed]",
      "text/plain": [
       "<Figure size 648x432 with 1 Axes>"
      ]
     },
     "metadata": {
      "needs_background": "light"
     },
     "output_type": "display_data"
    }
   ],
   "source": [
    "#plot of star age vs Mg abundance from above table - before removing temp trends\n",
    "plt.scatter(t['age'], t['Mg'], c='r') \n",
    "plt.xlabel('Age',fontsize='xx-large')\n",
    "plt.ylabel('Mg/Fe', fontsize='xx-large')\n",
    "plt.title('Mg Abundance vs. Stellar Age', fontsize='xx-large')\n",
    "plt.plot(np.unique(t['age']), np.poly1d(np.polyfit(t['age'], t['Mg'], 1))(np.unique(t['age'])), color='black')"
   ]
  },
  {
   "cell_type": "code",
   "execution_count": 10,
   "metadata": {},
   "outputs": [],
   "source": [
    "def find_stellar_abundances(star):\n",
    "    for i, txt in enumerate(t['star_name']):\n",
    "        if txt == star:\n",
    "            tbl = t[i] #inputted star's row\n",
    "            tbl\n",
    "\n",
    "    star_elements =[]\n",
    "    elnames = tbl.columns[3:64]\n",
    "    for n in elnames:\n",
    "        if len(n) < 3 :\n",
    "            star_elements.append(n)\n",
    "            star_elements #list of elements in that star\n",
    "    \n",
    "    star_abundance = []\n",
    "    for n in star_elements:\n",
    "        star_abundance.append(tbl[n])\n",
    "        star_abundance #list of element abundances\n",
    "        \n",
    "    star_con_temp = []\n",
    "    for n in star_elements:\n",
    "        star_con_temp.append(tc_map[n])\n",
    "        star_con_temp #condensation temperatures for stellar elements\n",
    "    \n",
    "    star_error_elements = []\n",
    "    for r in elnames:\n",
    "        if len(r) > 3 :\n",
    "            star_error_elements.append(r) #list of elements recorded in star\n",
    "\n",
    "    el_error = []\n",
    "    for k in star_error_elements:\n",
    "        el_error.append(tbl[k])\n",
    "        el_error #list of error values for elements\n",
    "        \n",
    "    for x, txt in enumerate(star_abundance):\n",
    "        if (math.isnan(txt) == True):\n",
    "            del star_elements[x]\n",
    "            del star_abundance[x]\n",
    "            del star_con_temp[x]\n",
    "            del el_error[x]\n",
    "    \n",
    "    star_table = Table([star_elements, star_abundance, el_error, star_con_temp], names=('Element', 'Abundance',\n",
    "        'Abundance Error','Condensation Temp')) #table of temperature vs abundance for elements \n",
    "    return star_table"
   ]
  },
  {
   "cell_type": "code",
   "execution_count": 11,
   "metadata": {},
   "outputs": [],
   "source": [
    "#function for returning the best slope and intercept using linear algebra\n",
    "#[m b] = [A^T C^-1 A]^-1 [A^T C^-1 Y]\n",
    "def find_m_b(x,y,err): \n",
    "    errorsq = np.square(err)\n",
    "    C = np.diag(errorsq)\n",
    "    xb = ([1] * len(x))\n",
    "    mata = []\n",
    "        \n",
    "    for z, txt in enumerate(x):\n",
    "        mata.append(x[z])\n",
    "        mata.append(xb[z])\n",
    "            \n",
    "    A= np.matrix(mata).reshape((len(x), 2))\n",
    "    At = np.transpose(A)\n",
    "    invC = np.linalg.inv(C)\n",
    "    pt1 = np.dot(At, np.dot(invC,A))\n",
    "    invpt1= np.linalg.inv(pt1)\n",
    "    pt2 = np.dot(At, np.dot(invC, y)).T\n",
    "    cov = np.dot(invpt1, pt2)\n",
    "        \n",
    "    m_= float(cov[0])\n",
    "    b_= float(cov[1])\n",
    "    return m_,b_ "
   ]
  },
  {
   "cell_type": "code",
   "execution_count": 12,
   "metadata": {},
   "outputs": [],
   "source": [
    "#jackknife method for determining other possible values of m and b \n",
    "def jackknifemb(_tp,_ab,_er):\n",
    "    N=1000\n",
    "    l=list(np.copy(_tp))\n",
    "    k=list(np.copy(_ab))\n",
    "    s=list(np.copy(_er))\n",
    "    jackm= []\n",
    "    jackb= [] \n",
    "    h=0\n",
    "    \n",
    "    #leaving out one point from data set and calculating m, b for each instance\n",
    "    while h<N:\n",
    "        w = random.randint(0, (len(_tp)-1))\n",
    "        del l[w]\n",
    "        del k[w]\n",
    "        del s[w] #removing one data set from lists \n",
    "    \n",
    "        jk_mb = find_m_b(l,k,s)\n",
    "        jk_m = jk_mb[0]\n",
    "        jk_b = jk_mb[1]\n",
    "\n",
    "        jackm.append(jk_m)\n",
    "        jackb.append(jk_b)\n",
    "            \n",
    "        l=list(np.copy(_tp))\n",
    "        k=list(np.copy(_ab))\n",
    "        s=list(np.copy(_er))\n",
    "        h=h+1 \n",
    "        \n",
    "    return jackm, jackb"
   ]
  },
  {
   "cell_type": "code",
   "execution_count": 13,
   "metadata": {},
   "outputs": [],
   "source": [
    "def stellar_abundance_plot(star): \n",
    "    for i, txt in enumerate(t['star_name']):\n",
    "        if txt == star:\n",
    "            tbl = t[i] #inputted star's row\n",
    "            tbl\n",
    "\n",
    "    star_elements =[]\n",
    "    elnames = tbl.columns[3:64]\n",
    "    for n in elnames:\n",
    "        if len(n) < 3 :\n",
    "            star_elements.append(n)\n",
    "            star_elements #list of elements in that star\n",
    "            \n",
    "    star_abundance = []\n",
    "    for n in star_elements:\n",
    "        star_abundance.append(tbl[n])\n",
    "        star_abundance #list of element abundances\n",
    "        \n",
    "    star_con_temp = []\n",
    "    for n in star_elements:\n",
    "        star_con_temp.append(tc_map[n])\n",
    "        star_con_temp #condensation temperatures for stellar elements\n",
    "    new=np.array(star_con_temp)\n",
    "    \n",
    "    star_error_elements = []\n",
    "    for r in elnames:\n",
    "        if len(r) > 3 :\n",
    "            star_error_elements.append(r)\n",
    "\n",
    "    el_error = []\n",
    "    for k in star_error_elements:\n",
    "        el_error.append(tbl[k])\n",
    "        el_error #list of error values for elements\n",
    "    \n",
    "    for x, txt in enumerate(star_abundance):\n",
    "        if (math.isnan(txt) == True):\n",
    "            del star_elements[x]\n",
    "            del star_abundance[x]\n",
    "            del star_con_temp[x]\n",
    "            del el_error[x]\n",
    "    \n",
    "    star_table = Table([star_elements, star_abundance, el_error, star_con_temp], names=('Element', 'Abundance',\n",
    "        'Abundance Error','Condensation Temp'))\n",
    "        \n",
    "    plt.scatter(star_con_temp, star_abundance)\n",
    "    plt.xlabel('Tc',fontsize='xx-large', family='sans-serif')\n",
    "    plt.ylabel('Element Abundance', fontsize='xx-large', family='sans-serif')\n",
    "    plt.title('Temperature vs Element Abundance for {0}'.format(star), fontsize= 'xx-large', family='sans-serif')\n",
    "\n",
    "    #point labels\n",
    "    for i, txt in enumerate(star_elements):\n",
    "            plt.annotate(txt, xy=(star_con_temp[i], star_abundance[i]), xytext=(-13,-6), \n",
    "                textcoords='offset points', ha='center', va='bottom')\n",
    "            \n",
    "    jk= jackknifemb(star_con_temp, star_abundance, el_error)\n",
    "    for i, txt in enumerate (jk[0]):\n",
    "        plt.scatter(star_con_temp, star_abundance)\n",
    "        plt.xlabel('Tc',fontsize='xx-large', family='sans-serif')\n",
    "        plt.ylabel('Element Abundance', fontsize='xx-large', family='sans-serif')\n",
    "        plt.title('Temperature vs Element Abundance', fontsize= 'xx-large', family='sans-serif')\n",
    "\n",
    "        plot_xs = np.arange(0, 1750, .1)\n",
    "        plt.plot(plot_xs, jk[0][i] * plot_xs + (jk[1][i]), color = 'lightgray', linewidth=0.1)\n",
    "    \n",
    "    #error bars\n",
    "    plt.errorbar(star_con_temp, star_abundance, yerr= el_error, fmt='o', color='black',\n",
    "                 ecolor='lightsteelblue', elinewidth=3,capsize=0)\n",
    "    \n",
    "    #line of best fit m,b values\n",
    "    mb = find_m_b(star_con_temp, star_abundance, el_error)    \n",
    "    plot_xs = np.arange(0, 1750, .1)\n",
    "    plt.plot(plot_xs, (mb[0]) * plot_xs + (mb[1]), color='teal') \n",
    "    plt.savefig(star+'.png')"
   ]
  },
  {
   "cell_type": "code",
   "execution_count": 14,
   "metadata": {},
   "outputs": [],
   "source": [
    "#chi squared :  [Y - AX]^T C^-1 [Y - AX]\n",
    "def chisquared(param, x, y, erro): \n",
    "    for h, txt in enumerate(y):\n",
    "        if (math.isnan(txt) == True):\n",
    "            del x[h]\n",
    "            del y[h]\n",
    "            del erro[h]\n",
    "            \n",
    "    ab = ([1] * len(x))\n",
    "    Amat = []\n",
    "    for z, txt in enumerate(x):\n",
    "        Amat.append(x[z])\n",
    "        Amat.append(ab[z])  \n",
    "    A= np.array(Amat).reshape((len(x), 2))\n",
    "\n",
    "    errorsq = np.square(erro)\n",
    "    C = np.diag(errorsq)\n",
    "    invsC = np.linalg.inv(C)\n",
    "\n",
    "    AT= np.transpose(A)\n",
    "    part1 = np.dot(AT, np.dot(invsC, A))\n",
    "    invprt1= np.linalg.inv(part1)\n",
    "    part2 = np.dot(AT, np.dot(invsC, y)).T\n",
    "    X = np.dot(invprt1, part2)\n",
    "    [X[0], X[1]] = param\n",
    "    AX = np.dot(A,X)\n",
    "    \n",
    "    yax = (y - AX)\n",
    "    yaxT = np.transpose(yax)\n",
    "    yaxTinvsC = np.dot(yaxT, invsC)\n",
    "\n",
    "    chisq = (np.dot(yaxTinvsC, yax))\n",
    "    return (chisq)"
   ]
  },
  {
   "cell_type": "code",
   "execution_count": 15,
   "metadata": {},
   "outputs": [],
   "source": [
    "def standardslopeerror(tem, abund, err):\n",
    "    for h, txt in enumerate(abund):\n",
    "        if (math.isnan(txt) == True):\n",
    "            del temp[h]\n",
    "            del abund[h]\n",
    "            del err[h]\n",
    "            \n",
    "    errorsq = np.square(err)\n",
    "    errorC = np.diag(errorsq)\n",
    "    abu = ([1] * len(tem))\n",
    "    atemper = np.copy(tem)\n",
    "    matri = []\n",
    "        \n",
    "    for z, txt in enumerate(atemper):\n",
    "        matri.append(atemper[z])\n",
    "        matri.append(abu[z])\n",
    "            \n",
    "    aa= np.matrix(matri).reshape((len(tem), 2))\n",
    "    Att = np.transpose(aa)\n",
    "    inverrorC = np.linalg.inv(errorC)\n",
    "    prt1 = np.dot(Att, np.dot(inverrorC,aa))\n",
    "    invt1= np.linalg.inv(prt1)\n",
    "    prt2 = np.dot(Att, np.dot(inverrorC, abund)).T\n",
    "    covar = np.dot(invt1, prt2)\n",
    "        \n",
    "    _m_= float(covar[0])\n",
    "    _b_= float(covar[1]) #standard slope, intercept values found with linalg \n",
    "    \n",
    "    inbrackets = np.dot(Att, np.dot(inverrorC, aa))\n",
    "    sserror = np.linalg.inv(inbrackets)\n",
    "    #sserror = [σ^2m, σmb, σmb, σ^2b]\n",
    "    sse = np.sqrt(sserror[0,0]) #standard slope error\n",
    "    return sse"
   ]
  },
  {
   "cell_type": "code",
   "execution_count": 16,
   "metadata": {},
   "outputs": [],
   "source": [
    "def standardintercepterror(tem, abund, err):\n",
    "    for h, txt in enumerate(abund):\n",
    "        if (math.isnan(txt) == True):\n",
    "            del temp[h]\n",
    "            del abund[h]\n",
    "            del err[h]\n",
    "            \n",
    "    errorsq = np.square(err)\n",
    "    errorC = np.diag(errorsq)\n",
    "    abu = ([1] * len(tem))\n",
    "    atemper = np.copy(tem)\n",
    "    matri = []\n",
    "        \n",
    "    for z, txt in enumerate(atemper):\n",
    "        matri.append(atemper[z])\n",
    "        matri.append(abu[z])\n",
    "            \n",
    "    aa= np.matrix(matri).reshape((len(tem), 2))\n",
    "    Att = np.transpose(aa)\n",
    "    inverrorC = np.linalg.inv(errorC)\n",
    "    prt1 = np.dot(Att, np.dot(inverrorC,aa))\n",
    "    invt1= np.linalg.inv(prt1)\n",
    "    prt2 = np.dot(Att, np.dot(inverrorC, abund)).T\n",
    "    covar = np.dot(invt1, prt2)\n",
    "        \n",
    "    _m_= float(covar[0])\n",
    "    _b_= float(covar[1]) #standard slope, intercept values found with linalg \n",
    "    \n",
    "    inbrackets = np.dot(Att, np.dot(inverrorC, aa))\n",
    "    sserror = np.linalg.inv(inbrackets)\n",
    "    #sserror = [σ^2m, σmb, σmb, σ^2b]\n",
    "    sie = np.sqrt(sserror[1,1]) #standard slope error\n",
    "    return sie"
   ]
  },
  {
   "cell_type": "code",
   "execution_count": 17,
   "metadata": {},
   "outputs": [],
   "source": [
    "def error_star_table(tp, ab, er):\n",
    "    for h, txt in enumerate(ab):\n",
    "        if (math.isnan(txt) == True):\n",
    "            del tp[h]\n",
    "            del ab[h]\n",
    "            del er[h]\n",
    "            \n",
    "    N=1000\n",
    "    l=list(np.copy(tp))\n",
    "    k=list(np.copy(ab))\n",
    "    s=list(np.copy(er))\n",
    "    jackm= []\n",
    "    jackb= [] \n",
    "    h=0\n",
    "    \n",
    "    #leaving out one point from data set and calculating m, b for each instance\n",
    "    while h<N:\n",
    "        w = random.randint(0, (len(tp)-1))\n",
    "        del l[w]\n",
    "        del k[w]\n",
    "        del s[w] #removing one data set from lists \n",
    "    \n",
    "        jk_mb = find_m_b(l,k,s)\n",
    "        jk_m = jk_mb[0]\n",
    "        jk_b = jk_mb[1]\n",
    "\n",
    "        jackm.append(jk_m)\n",
    "        jackb.append(jk_b)\n",
    "            \n",
    "        l=list(np.copy(tp))\n",
    "        k=list(np.copy(ab))\n",
    "        s=list(np.copy(er))\n",
    "        h=h+1 \n",
    "    jackm\n",
    "    jackb\n",
    "    slopeer = standardslopeerror(tp,ab,er)\n",
    "    interer= standardintercepterror(tp,ab,er)\n",
    "    slopeintercept = find_m_b(tp,ab,er)\n",
    "    \n",
    "    error_type = ['slope', 'intercept']\n",
    "    a = [slopeintercept[0], slopeintercept[1]]\n",
    "    c = [statistics.stdev(jackm),statistics.stdev(jackb)]\n",
    "    d = [slopeer, interer]\n",
    "    tab = Table([error_type,a, c, d], names=('error type', 'value','standard dev', \n",
    "                                              'linear algebra uncertainty'))\n",
    "    return tab"
   ]
  },
  {
   "cell_type": "code",
   "execution_count": 19,
   "metadata": {},
   "outputs": [
    {
     "ename": "NameError",
     "evalue": "name 'temp' is not defined",
     "output_type": "error",
     "traceback": [
      "\u001b[0;31m---------------------------------------------------------------------------\u001b[0m",
      "\u001b[0;31mNameError\u001b[0m                                 Traceback (most recent call last)",
      "\u001b[0;32m<ipython-input-19-bb9da4858d20>\u001b[0m in \u001b[0;36m<module>\u001b[0;34m()\u001b[0m\n\u001b[1;32m      1\u001b[0m \u001b[0mx0\u001b[0m \u001b[0;34m=\u001b[0m \u001b[0;34m[\u001b[0m\u001b[0;36m9e-5\u001b[0m\u001b[0;34m,\u001b[0m\u001b[0;36m.1\u001b[0m\u001b[0;34m]\u001b[0m\u001b[0;34m\u001b[0m\u001b[0m\n\u001b[0;32m----> 2\u001b[0;31m \u001b[0mres\u001b[0m \u001b[0;34m=\u001b[0m \u001b[0mscipy\u001b[0m\u001b[0;34m.\u001b[0m\u001b[0moptimize\u001b[0m\u001b[0;34m.\u001b[0m\u001b[0mminimize\u001b[0m\u001b[0;34m(\u001b[0m\u001b[0mchisquared\u001b[0m\u001b[0;34m,\u001b[0m \u001b[0mx0\u001b[0m\u001b[0;34m,\u001b[0m \u001b[0margs\u001b[0m\u001b[0;34m=\u001b[0m\u001b[0;34m(\u001b[0m\u001b[0mtemp\u001b[0m\u001b[0;34m,\u001b[0m \u001b[0mabundance\u001b[0m\u001b[0;34m,\u001b[0m \u001b[0merror\u001b[0m\u001b[0;34m)\u001b[0m\u001b[0;34m)\u001b[0m\u001b[0;34m\u001b[0m\u001b[0m\n\u001b[0m\u001b[1;32m      3\u001b[0m \u001b[0mres\u001b[0m\u001b[0;34m\u001b[0m\u001b[0m\n",
      "\u001b[0;31mNameError\u001b[0m: name 'temp' is not defined"
     ]
    }
   ],
   "source": [
    "x0 = [9e-5,.1]\n",
    "res = scipy.optimize.minimize(chisquared, x0, args=(temp, abundance, error))\n",
    "res"
   ]
  },
  {
   "cell_type": "code",
   "execution_count": 20,
   "metadata": {},
   "outputs": [
    {
     "data": {
      "text/plain": [
       "(-2.64966691443829e-05, 0.05342405708622877)"
      ]
     },
     "execution_count": 20,
     "metadata": {},
     "output_type": "execute_result"
    }
   ],
   "source": [
    "hip114328 = find_stellar_abundances('HIP114328')\n",
    "xt= np.array(hip114328.columns[3])\n",
    "ya = np.array(hip114328.columns[1])\n",
    "ze = np.array(hip114328.columns[2])\n",
    "find_m_b(xt, ya, ze)"
   ]
  },
  {
   "cell_type": "code",
   "execution_count": 21,
   "metadata": {},
   "outputs": [
    {
     "data": {
      "image/png": "[encoded data removed]",
      "text/plain": [
       "<Figure size 648x432 with 1 Axes>"
      ]
     },
     "metadata": {
      "needs_background": "light"
     },
     "output_type": "display_data"
    }
   ],
   "source": [
    "stellar_abundance_plot('HIP114328')"
   ]
  },
  {
   "cell_type": "markdown",
   "metadata": {},
   "source": [
    "#point labels\n",
    "for i, txt in enumerate(elements):\n",
    "    if txt == 'Y' :\n",
    "        plt.annotate(txt, xy=(temp[i], abundance[i]), xytext=(13,-6), \n",
    "           textcoords='offset points', ha='center', va='bottom')\n",
    "    elif txt == 'Co' :\n",
    "        plt.annotate(txt, xy=(temp[i], abundance[i]), xytext=(13,-6), \n",
    "            textcoords='offset points', ha='center', va='bottom') \n",
    "    else : \n",
    "        plt.annotate(txt, xy=(temp[i], abundance[i]), xytext=(-13,-6), \n",
    "            textcoords='offset points', ha='center', va='bottom')"
   ]
  },
  {
   "cell_type": "code",
   "execution_count": 22,
   "metadata": {},
   "outputs": [],
   "source": [
    "HIP10175_tbl = t[0] \n",
    "\n",
    "elements =[]\n",
    "tablenames = HIP10175_tbl.columns[3:64]\n",
    "for n in tablenames:\n",
    "    if len(n) < 3 :\n",
    "        elements.append(n)\n",
    "    \n",
    "abundance = []\n",
    "for n in elements:\n",
    "    abundance.append(HIP10175_tbl[n])\n",
    "\n",
    "temp = []\n",
    "for n in elements:\n",
    "    temp.append(tc_map[n])\n",
    "\n",
    "error_elements = []\n",
    "for r in tablenames:\n",
    "    if len(r) > 3 :\n",
    "        error_elements.append(r)\n",
    "        \n",
    "error = []\n",
    "for k in error_elements:\n",
    "    error.append(HIP10175_tbl[k])"
   ]
  },
  {
   "cell_type": "code",
   "execution_count": 23,
   "metadata": {},
   "outputs": [
    {
     "name": "stdout",
     "output_type": "stream",
     "text": [
      "original value = -0.12154306680819207\n"
     ]
    },
    {
     "data": {
      "image/png": "[encoded data removed]",
      "text/plain": [
       "<Figure size 648x432 with 1 Axes>"
      ]
     },
     "metadata": {
      "needs_background": "light"
     },
     "output_type": "display_data"
    }
   ],
   "source": [
    "#histogram of the intercept values found with jackknife\n",
    "jk= jackknifemb(temp, abundance, error) \n",
    "b= find_m_b(temp, abundance, error)[1]\n",
    "x = jk[1]\n",
    "plt.hist(x, color = 'teal')\n",
    "plt.ylabel('weight')\n",
    "plt.xlabel('value')\n",
    "plt.title('intercept values')\n",
    "print('original value =', b)"
   ]
  },
  {
   "cell_type": "code",
   "execution_count": 24,
   "metadata": {},
   "outputs": [
    {
     "name": "stdout",
     "output_type": "stream",
     "text": [
      "original value =  9.441261972252866e-05\n"
     ]
    },
    {
     "data": {
      "image/png": "[encoded data removed]",
      "text/plain": [
       "<Figure size 648x432 with 1 Axes>"
      ]
     },
     "metadata": {
      "needs_background": "light"
     },
     "output_type": "display_data"
    }
   ],
   "source": [
    "#histogram of the slope values found with jackknife \n",
    "x = jk[0]\n",
    "m= find_m_b(temp, abundance, error)[0]\n",
    "plt.hist(x, color = 'green')\n",
    "plt.ylabel('weight')\n",
    "plt.xlabel('value')\n",
    "plt.title('slope values')\n",
    "print('original value = ', m)"
   ]
  },
  {
   "cell_type": "code",
   "execution_count": 25,
   "metadata": {},
   "outputs": [
    {
     "name": "stdout",
     "output_type": "stream",
     "text": [
      "(9.441261972252866e-05, -0.12154306680819207)\n",
      "(2.927457895436128e-05, -0.04285991386147406)\n",
      "(6.368249462356181e-05, -0.08685829672533484)\n",
      "(-1.8445067987356295e-05, 0.014050812933841583)\n",
      "(2.3274808013430356e-05, -0.0131944058129142)\n",
      "(2.505431908707452e-05, -0.030779295893577058)\n",
      "(0.0001575979705541044, -0.19404098289481952)\n",
      "(-3.431694803068992e-05, 0.09087679403606153)\n",
      "(1.8754708698635859e-06, -0.016599129150157987)\n",
      "(4.870679888575749e-05, -0.06066141013146903)\n",
      "(-2.64966691443829e-05, 0.05342405708622877)\n",
      "(0.00010302974510284952, -0.11931052962859534)\n",
      "(-4.153639115862416e-05, 0.09624934603763946)\n",
      "(-2.828882433842289e-05, 0.05597923857757092)\n",
      "(-2.9870808510502076e-05, 0.04726073238867223)\n",
      "(-2.774737577513802e-05, 0.030206992736821675)\n",
      "(2.6121817129743294e-05, -0.040618425449989656)\n",
      "(-3.805039282462957e-05, 0.08246774006912838)\n",
      "(2.725157629918701e-05, -0.031844118914919936)\n",
      "(-4.508547857267763e-06, -0.017034940545975874)\n",
      "(-1.5089199208855985e-05, 0.036637450968081464)\n",
      "(3.468519492335837e-05, -0.0453118867706055)\n",
      "(0.00015332990811225568, -0.2009452436810627)\n",
      "(3.073662465823552e-05, -0.030137282761884793)\n",
      "(2.430414068735993e-05, 0.03546151382373819)\n",
      "(4.2218279590021404e-05, -0.06231554937884218)\n",
      "(0.000110499327477343, -0.14598856483290076)\n",
      "(6.664604208216204e-06, -0.0051290557363181805)\n",
      "(3.0819525198529703e-05, -0.02536851943334617)\n",
      "(-1.1911184886695013e-06, 0.021885203664102737)\n",
      "(2.7440719416584486e-05, -0.04393504569281953)\n",
      "(0.00013411991620709682, -0.17457767214397107)\n",
      "(-3.9442099036845774e-05, 0.10656335217040214)\n",
      "(1.3465434015311233e-05, -0.025896602809725278)\n",
      "(3.458574171590393e-07, -0.017286599032573347)\n",
      "(8.279180508361387e-05, -0.1180535583885836)\n",
      "(4.593910185282676e-05, -0.05795220209966495)\n",
      "(1.1750751809319485e-05, 0.01760019919754985)\n",
      "(7.171666159916908e-06, -0.011202641281847198)\n",
      "(7.70604925253813e-05, -0.10843185046861455)\n",
      "(9.473119921383111e-05, -0.11328806770799404)\n",
      "(-3.082052615844678e-05, 0.03675504266961019)\n",
      "(1.2889346942638008e-05, 0.002309129086060069)\n",
      "(3.890105493677758e-05, -0.059065278267028204)\n",
      "(0.00019750492271408964, -0.25377843750861506)\n",
      "(1.4519455561021579e-05, -0.007439803898094899)\n",
      "(7.601923427021356e-07, -0.013940260726743092)\n",
      "(0.00013451386542167958, -0.17898206671400096)\n",
      "(9.895264204283342e-06, 0.0023401903689949655)\n",
      "(8.140176408840376e-06, -0.02129620929234549)\n",
      "(-2.147248193169342e-05, 0.04819400452914824)\n",
      "(9.976502402237586e-05, -0.13193829428933673)\n",
      "(8.551271004494042e-05, -0.08004533182714502)\n",
      "(-3.320413334215588e-05, 0.047294538879336497)\n",
      "(2.512960821957835e-05, -0.036082712475539194)\n",
      "(-1.808231156760862e-05, 0.07290642293065841)\n",
      "(-6.600794142759526e-06, 0.027906366346413636)\n",
      "(-3.0118486493819166e-05, 0.049505819610509774)\n",
      "(2.647663357105472e-05, -0.022447667053957066)\n",
      "(3.1555848232936424e-05, -0.007983808885271615)\n",
      "(-1.9788729732043307e-05, 0.02956324887631278)\n",
      "(8.929816388526053e-05, -0.10609385280821654)\n",
      "(-5.486593096179233e-06, 0.0666348341902343)\n",
      "(7.298797293824033e-05, -0.0846270097084243)\n",
      "(-1.803382455390647e-05, 0.025159838281344486)\n",
      "(7.448640808299515e-05, -0.09516791632104393)\n",
      "(-5.967778837084284e-05, 0.08082454162027027)\n",
      "(4.581516333359832e-05, -0.05154491921058868)\n",
      "(-3.0496776003828362e-05, 0.0420432412564042)\n",
      "(4.360575237922251e-05, -0.04919901131385654)\n",
      "(-8.544135301504462e-06, 0.006456249690376753)\n",
      "(-1.2486238110412655e-05, -0.0038114887663719954)\n",
      "(3.9309207168216676e-05, -0.04460032198829389)\n",
      "(7.135031299783349e-05, -0.10480326301416307)\n",
      "(9.614562739093788e-06, 0.0008098665743972999)\n",
      "(-1.541545220648752e-05, 0.030547720937635525)\n",
      "(4.9767979423243124e-05, -0.06457682094213596)\n",
      "(-7.14978349739295e-06, 0.017481065884217564)\n",
      "(2.898908954735395e-05, -0.03454152794629879)\n"
     ]
    }
   ],
   "source": [
    "for i, txt in enumerate (t['star_name']):\n",
    "    x = find_stellar_abundances(txt).columns[3]\n",
    "    y = find_stellar_abundances(txt).columns[1]\n",
    "    error = find_stellar_abundances(txt).columns[2]\n",
    "    print(find_m_b(x,y,error))"
   ]
  },
  {
   "cell_type": "code",
   "execution_count": 26,
   "metadata": {},
   "outputs": [
    {
     "data": {
      "text/html": [
       "<i>Table length=79</i>\n",
       "<table id=\"table69102239640\" class=\"table-striped table-bordered table-condensed\">\n",
       "<thead><tr><th>star_name</th><th>age</th><th>age_err</th><th>Fe</th><th>Fe_err</th><th>O</th><th>O_err</th><th>Na</th><th>Na_err</th><th>Mg</th><th>Mg_err</th><th>Al</th><th>Al_err</th><th>Si</th><th>Si_err</th><th>S</th><th>S_err</th><th>Ca</th><th>Ca_err</th><th>V</th><th>V_err</th><th>Mn</th><th>Mn_err</th><th>Co</th><th>Co_err</th><th>Ni</th><th>Ni_err</th><th>Cu</th><th>Cu_err</th><th>Zn</th><th>Zn_err</th><th>Sr</th><th>Sr_err</th><th>Y</th><th>Y_err</th><th>Zr</th><th>Zr_err</th><th>Ba</th><th>Ba_err</th><th>La</th><th>La_err</th><th>Ce</th><th>Ce_err</th><th>Pr</th><th>Pr_err</th><th>Nd</th><th>Nd_err</th><th>Sm</th><th>Sm_err</th><th>Eu</th><th>Eu_err</th><th>Gd</th><th>Gd_err</th><th>Dy</th><th>Dy_err</th><th>C</th><th>C_err</th><th>Ti</th><th>Ti_err</th><th>Sc</th><th>Sc_err</th><th>Cr</th><th>Cr_err</th></tr></thead>\n",
       "<thead><tr><th>bytes9</th><th>float64</th><th>float64</th><th>float64</th><th>float64</th><th>float64</th><th>float64</th><th>float64</th><th>float64</th><th>float64</th><th>float64</th><th>float64</th><th>float64</th><th>float64</th><th>float64</th><th>float64</th><th>float64</th><th>float64</th><th>float64</th><th>float64</th><th>float64</th><th>float64</th><th>float64</th><th>float64</th><th>float64</th><th>float64</th><th>float64</th><th>float64</th><th>float64</th><th>float64</th><th>float64</th><th>float64</th><th>float64</th><th>float64</th><th>float64</th><th>float64</th><th>float64</th><th>float64</th><th>float64</th><th>float64</th><th>float64</th><th>float64</th><th>float64</th><th>float64</th><th>float64</th><th>float64</th><th>float64</th><th>float64</th><th>float64</th><th>float64</th><th>float64</th><th>float64</th><th>float64</th><th>float64</th><th>float64</th><th>float64</th><th>float64</th><th>float64</th><th>float64</th><th>float64</th><th>float64</th><th>float64</th><th>float64</th></tr></thead>\n",
       "<tr><td>HIP10175</td><td>3.2</td><td>0.4</td><td>-0.028</td><td>0.002</td><td>0.024</td><td>0.009</td><td>-0.051000000000000004</td><td>0.022</td><td>-0.006000000000000002</td><td>0.007</td><td>-0.034</td><td>0.008</td><td>-0.009999999999999998</td><td>0.003</td><td>0.0020000000000000018</td><td>0.012</td><td>0.023</td><td>0.005</td><td>-0.0019999999999999983</td><td>0.004</td><td>-0.029</td><td>0.005</td><td>-0.028</td><td>0.004</td><td>-0.04100000000000001</td><td>0.003</td><td>-0.05600000000000001</td><td>0.013</td><td>-0.048</td><td>0.006</td><td>0.081</td><td>0.005</td><td>0.066</td><td>0.007</td><td>0.087</td><td>0.012</td><td>0.11599999999999999</td><td>0.005</td><td>0.118</td><td>0.029</td><td>0.104</td><td>0.016</td><td>0.16999999999999998</td><td>0.008</td><td>0.127</td><td>0.01</td><td>0.057</td><td>0.013</td><td>0.089</td><td>0.005</td><td>0.08</td><td>0.005</td><td>0.065</td><td>0.005</td><td>-0.05176923076923076</td><td>0.013000000000000001</td><td>0.012</td><td>0.01</td><td>-0.019000000000000003</td><td>0.020999999999999998</td><td>0.007750000000000001</td><td>0.012</td></tr>\n",
       "<tr><td>HIP101905</td><td>1.2</td><td>0.3</td><td>0.088</td><td>0.004</td><td>-0.06899999999999999</td><td>0.014</td><td>-0.093</td><td>0.012</td><td>-0.025999999999999995</td><td>0.008</td><td>-0.033999999999999996</td><td>0.002</td><td>-0.024999999999999994</td><td>0.004</td><td>-0.104</td><td>0.027</td><td>0.024000000000000007</td><td>0.005</td><td>0.0050000000000000044</td><td>0.009</td><td>-0.04599999999999999</td><td>0.006</td><td>-0.03799999999999999</td><td>0.005</td><td>-0.03799999999999999</td><td>0.005</td><td>-0.08499999999999999</td><td>0.031</td><td>-0.09699999999999999</td><td>0.016</td><td>0.097</td><td>0.006</td><td>0.08100000000000002</td><td>0.011</td><td>0.08499999999999999</td><td>0.01</td><td>0.14</td><td>0.01</td><td>0.10200000000000001</td><td>0.031</td><td>0.119</td><td>0.012</td><td>0.094</td><td>0.014</td><td>0.131</td><td>0.01</td><td>0.05399999999999999</td><td>0.021</td><td>0.07600000000000001</td><td>0.014</td><td>0.049000000000000016</td><td>0.006</td><td>0.066</td><td>0.066</td><td>-0.11374193548387096</td><td>0.031</td><td>0.009076923076923078</td><td>0.013000000000000001</td><td>-0.008058823529411757</td><td>0.017</td><td>-0.004749999999999994</td><td>0.016</td></tr>\n",
       "<tr><td>HIP102040</td><td>2.4</td><td>0.4</td><td>-0.08</td><td>0.003</td><td>0.022</td><td>0.006</td><td>-0.071</td><td>0.008</td><td>0.0020000000000000018</td><td>0.003</td><td>-0.021000000000000005</td><td>0.008</td><td>-0.0040000000000000036</td><td>0.005</td><td>-0.06499999999999999</td><td>0.014</td><td>0.034</td><td>0.005</td><td>0.0</td><td>0.006</td><td>-0.06299999999999999</td><td>0.005</td><td>-0.012999999999999998</td><td>0.007</td><td>-0.03799999999999999</td><td>0.004</td><td>-0.06599999999999999</td><td>0.034</td><td>-0.077</td><td>0.02</td><td>0.062</td><td>0.005</td><td>0.054000000000000006</td><td>0.007</td><td>0.081</td><td>0.011</td><td>0.128</td><td>0.012</td><td>0.118</td><td>0.018</td><td>0.14900000000000002</td><td>0.016</td><td>0.158</td><td>0.01</td><td>0.165</td><td>0.011</td><td>0.113</td><td>0.023</td><td>0.14600000000000002</td><td>0.017</td><td>0.094</td><td>0.006</td><td>0.108</td><td>0.028</td><td>-0.019789473684210527</td><td>0.056999999999999995</td><td>0.029545454545454552</td><td>0.011</td><td>0.0178</td><td>0.034999999999999996</td><td>-0.007249999999999993</td><td>0.016</td></tr>\n",
       "<tr><td>HIP102152</td><td>8.6</td><td>0.3</td><td>-0.016</td><td>0.003</td><td>0.051000000000000004</td><td>0.01</td><td>-0.027999999999999997</td><td>0.014</td><td>0.031</td><td>0.01</td><td>0.026000000000000002</td><td>0.004</td><td>0.003000000000000001</td><td>0.003</td><td>-0.012</td><td>0.022</td><td>0.006</td><td>0.005</td><td>-0.009000000000000001</td><td>0.006</td><td>-0.026999999999999996</td><td>0.005</td><td>-0.018000000000000002</td><td>0.008</td><td>-0.017</td><td>0.004</td><td>0.002</td><td>0.004</td><td>0.004</td><td>0.011</td><td>-0.11</td><td>0.005</td><td>-0.104</td><td>0.007</td><td>-0.094</td><td>0.012</td><td>-0.049</td><td>0.009</td><td>-0.062</td><td>0.019</td><td>-0.023</td><td>0.013</td><td>0.0</td><td>0.017</td><td>0.0010000000000000009</td><td>0.009</td><td>0.015</td><td>0.01</td><td>0.023</td><td>0.019</td><td>0.028</td><td>0.005</td><td>-0.031</td><td>0.027</td><td>0.001285714285714285</td><td>0.014</td><td>0.0035454545454545456</td><td>0.011</td><td>-0.00975</td><td>0.016</td><td>-0.002230769230769232</td><td>0.013</td></tr>\n",
       "<tr><td>HIP10303</td><td>5.8</td><td>0.4</td><td>0.104</td><td>0.003</td><td>-0.022999999999999993</td><td>0.007</td><td>-0.0020000000000000018</td><td>0.012</td><td>0.017</td><td>0.005</td><td>0.033000000000000015</td><td>0.004</td><td>0.0040000000000000036</td><td>0.002</td><td>-0.023999999999999994</td><td>0.014</td><td>0.0050000000000000044</td><td>0.003</td><td>0.015</td><td>0.006</td><td>0.019000000000000003</td><td>0.004</td><td>0.0</td><td>0.005</td><td>0.020000000000000004</td><td>0.004</td><td>0.013999999999999999</td><td>0.021</td><td>0.0040000000000000036</td><td>0.02</td><td>0.032000000000000015</td><td>0.005</td><td>0.019000000000000003</td><td>0.006</td><td>0.0040000000000000036</td><td>0.014</td><td>-0.01999999999999999</td><td>0.008</td><td>-0.031</td><td>0.006</td><td>-0.027999999999999997</td><td>0.015</td><td>0.008000000000000007</td><td>0.012</td><td>-0.013999999999999999</td><td>0.007</td><td>-0.010999999999999996</td><td>0.016</td><td>0.01100000000000001</td><td>0.013</td><td>0.030000000000000013</td><td>0.005</td><td>-0.0049999999999999906</td><td>0.021</td><td>-0.033571428571428565</td><td>0.007</td><td>0.009727272727272737</td><td>0.011</td><td>0.005250000000000009</td><td>0.016</td><td>0.00758333333333334</td><td>0.012</td></tr>\n",
       "<tr><td>HIP104045</td><td>4.5</td><td>0.5</td><td>0.051</td><td>0.003</td><td>-0.015999999999999993</td><td>0.008</td><td>-0.024999999999999998</td><td>0.009</td><td>-0.010999999999999996</td><td>0.004</td><td>-0.012999999999999998</td><td>0.004</td><td>-0.005999999999999998</td><td>0.002</td><td>-0.006999999999999999</td><td>0.028</td><td>0.008</td><td>0.005</td><td>-0.008999999999999994</td><td>0.005</td><td>-0.005999999999999998</td><td>0.004</td><td>-0.013999999999999999</td><td>0.004</td><td>-0.0029999999999999957</td><td>0.003</td><td>-0.019999999999999997</td><td>0.006</td><td>-0.028999999999999998</td><td>0.01</td><td>0.01800000000000001</td><td>0.005</td><td>0.015000000000000006</td><td>0.008</td><td>0.020999999999999998</td><td>0.006</td><td>0.010000000000000002</td><td>0.008</td><td>-0.037</td><td>0.026</td><td>0.014000000000000005</td><td>0.009</td><td>0.038</td><td>0.018</td><td>0.031000000000000007</td><td>0.013</td><td>-0.019999999999999997</td><td>0.013</td><td>0.07800000000000001</td><td>0.008</td><td>0.091</td><td>0.023</td><td>0.01900000000000001</td><td>0.007</td><td>-0.042466666666666666</td><td>0.015</td><td>-0.00736363636363636</td><td>0.011</td><td>-0.015789473684210527</td><td>0.019</td><td>0.0030000000000000053</td><td>0.01</td></tr>\n",
       "<tr><td>HIP105184</td><td>0.7</td><td>0.4</td><td>0.003</td><td>0.004</td><td>-0.005</td><td>0.013</td><td>-0.063</td><td>0.013</td><td>-0.009000000000000001</td><td>0.009</td><td>-0.038000000000000006</td><td>0.013</td><td>-0.013999999999999999</td><td>0.004</td><td>-0.047</td><td>0.016</td><td>0.039</td><td>0.005</td><td>0.005</td><td>0.008</td><td>-0.053000000000000005</td><td>0.005</td><td>-0.039</td><td>0.005</td><td>-0.054</td><td>0.005</td><td>-0.084</td><td>0.028</td><td>-0.079</td><td>0.013</td><td>0.113</td><td>0.007</td><td>0.097</td><td>0.008</td><td>0.111</td><td>0.01</td><td>0.195</td><td>0.007</td><td>0.147</td><td>0.023</td><td>0.184</td><td>0.012</td><td>0.154</td><td>0.012</td><td>0.187</td><td>0.01</td><td>0.095</td><td>0.031</td><td>0.092</td><td>0.007</td><td>0.06799999999999999</td><td>0.006</td><td>0.11499999999999999</td><td>0.06</td><td>-0.0871904761904762</td><td>0.020999999999999998</td><td>0.018076923076923077</td><td>0.013000000000000001</td><td>-0.007705882352941177</td><td>0.017</td><td>0.009666666666666665</td><td>0.018000000000000002</td></tr>\n",
       "<tr><td>HIP108158</td><td>8.1</td><td>0.3</td><td>0.055</td><td>0.003</td><td>0.14300000000000002</td><td>0.011</td><td>0.032999999999999995</td><td>0.008</td><td>0.138</td><td>0.011</td><td>0.155</td><td>0.012</td><td>0.063</td><td>0.002</td><td>0.096</td><td>0.022</td><td>0.04699999999999999</td><td>0.005</td><td>0.07800000000000001</td><td>0.008</td><td>-0.022</td><td>0.004</td><td>0.07300000000000001</td><td>0.004</td><td>0.027000000000000003</td><td>0.005</td><td>0.10900000000000001</td><td>0.026</td><td>0.136</td><td>0.017</td><td>-0.079</td><td>0.006</td><td>-0.082</td><td>0.011</td><td>-0.069</td><td>0.02</td><td>-0.052</td><td>0.007</td><td>-0.045</td><td>0.006</td><td>-0.022</td><td>0.018</td><td>0.10800000000000001</td><td>0.013</td><td>0.019999999999999997</td><td>0.011</td><td>0.061000000000000006</td><td>0.014</td><td>0.097</td><td>0.007</td><td>0.07700000000000001</td><td>0.006</td><td>0.10700000000000001</td><td>0.009</td><td>0.0653076923076923</td><td>0.013000000000000001</td><td>0.10450000000000001</td><td>0.012</td><td>0.09322222222222222</td><td>0.018000000000000002</td><td>0.018047619047619045</td><td>0.021</td></tr>\n",
       "<tr><td>HIP108468</td><td>7.0</td><td>0.3</td><td>-0.096</td><td>0.004</td><td>0.055</td><td>0.008</td><td>-0.044999999999999984</td><td>0.008</td><td>0.037000000000000005</td><td>0.01</td><td>0.034</td><td>0.004</td><td>0.007000000000000006</td><td>0.002</td><td>-0.011999999999999997</td><td>0.012</td><td>0.018000000000000002</td><td>0.005</td><td>-0.008999999999999994</td><td>0.006</td><td>-0.05299999999999999</td><td>0.005</td><td>-0.011999999999999997</td><td>0.004</td><td>-0.028999999999999998</td><td>0.004</td><td>-0.021999999999999992</td><td>0.024</td><td>-0.034</td><td>0.009</td><td>-0.11599999999999999</td><td>0.004</td><td>-0.121</td><td>0.006</td><td>-0.07400000000000001</td><td>0.015</td><td>-0.024999999999999994</td><td>0.011</td><td>-0.009999999999999995</td><td>0.016</td><td>0.015</td><td>0.017</td><td>0.10200000000000001</td><td>0.01</td><td>0.055</td><td>0.006</td><td>0.038</td><td>0.018</td><td>0.07400000000000001</td><td>0.012</td><td>0.051000000000000004</td><td>0.006</td><td>0.079</td><td>0.016</td><td>0.0006250000000000041</td><td>0.016</td><td>0.018272727272727274</td><td>0.011</td><td>0.005999999999999998</td><td>0.014</td><td>-0.0011538461538461511</td><td>0.013</td></tr>\n",
       "<tr><td>HIP109821</td><td>8.9</td><td>0.3</td><td>-0.108</td><td>0.004</td><td>0.123</td><td>0.013</td><td>-0.03899999999999999</td><td>0.011</td><td>0.082</td><td>0.007</td><td>0.098</td><td>0.004</td><td>0.035</td><td>0.004</td><td>0.033</td><td>0.014</td><td>0.047</td><td>0.005</td><td>0.016</td><td>0.006</td><td>-0.078</td><td>0.005</td><td>0.007999999999999993</td><td>0.004</td><td>-0.02800000000000001</td><td>0.004</td><td>0.010999999999999996</td><td>0.012</td><td>0.010999999999999996</td><td>0.005</td><td>-0.09000000000000001</td><td>0.005</td><td>-0.09200000000000001</td><td>0.007</td><td>-0.041999999999999996</td><td>0.009</td><td>-0.021000000000000005</td><td>0.007</td><td>0.020000000000000004</td><td>0.009</td><td>0.044</td><td>0.013</td><td>0.105</td><td>0.012</td><td>0.08499999999999999</td><td>0.007</td><td>0.086</td><td>0.014</td><td>0.08399999999999999</td><td>0.016</td><td>0.087</td><td>0.005</td><td>0.112</td><td>0.011</td><td>0.08114285714285714</td><td>0.028</td><td>0.0745</td><td>0.012</td><td>0.039999999999999994</td><td>0.018000000000000002</td><td>-0.005499999999999998</td><td>0.01</td></tr>\n",
       "<tr><td>...</td><td>...</td><td>...</td><td>...</td><td>...</td><td>...</td><td>...</td><td>...</td><td>...</td><td>...</td><td>...</td><td>...</td><td>...</td><td>...</td><td>...</td><td>...</td><td>...</td><td>...</td><td>...</td><td>...</td><td>...</td><td>...</td><td>...</td><td>...</td><td>...</td><td>...</td><td>...</td><td>...</td><td>...</td><td>...</td><td>...</td><td>...</td><td>...</td><td>...</td><td>...</td><td>...</td><td>...</td><td>...</td><td>...</td><td>...</td><td>...</td><td>...</td><td>...</td><td>...</td><td>...</td><td>...</td><td>...</td><td>...</td><td>...</td><td>...</td><td>...</td><td>...</td><td>...</td><td>...</td><td>...</td><td>...</td><td>...</td><td>...</td><td>...</td><td>...</td><td>...</td><td>...</td><td>...</td></tr>\n",
       "<tr><td>HIP79672</td><td>4.0</td><td>0.4</td><td>0.041</td><td>0.003</td><td>-0.0040000000000000036</td><td>0.006</td><td>-0.02</td><td>0.009</td><td>0.0049999999999999975</td><td>0.009</td><td>-0.013000000000000001</td><td>0.002</td><td>0.0</td><td>0.002</td><td>-0.025</td><td>0.003</td><td>0.012999999999999998</td><td>0.004</td><td>-0.005999999999999998</td><td>0.004</td><td>-0.005999999999999998</td><td>0.004</td><td>-0.02</td><td>0.004</td><td>-0.009000000000000001</td><td>0.003</td><td>-0.012</td><td>0.012</td><td>-0.019000000000000003</td><td>0.006</td><td>0.043000000000000003</td><td>0.005</td><td>0.043000000000000003</td><td>0.007</td><td>0.054</td><td>0.006</td><td>0.039</td><td>0.006</td><td>0.036</td><td>0.009</td><td>0.060000000000000005</td><td>0.011</td><td>0.088</td><td>0.011</td><td>0.08299999999999999</td><td>0.009</td><td>0.067</td><td>0.016</td><td>0.11499999999999999</td><td>0.014</td><td>0.087</td><td>0.004</td><td>0.118</td><td>0.005</td><td>-0.056916666666666664</td><td>0.012</td><td>0.006111111111111109</td><td>0.009000000000000001</td><td>-0.014352941176470591</td><td>0.017</td><td>0.007363636363636365</td><td>0.011</td></tr>\n",
       "<tr><td>HIP81746</td><td>8.1</td><td>0.3</td><td>-0.091</td><td>0.003</td><td>0.066</td><td>0.013</td><td>-0.009000000000000008</td><td>0.01</td><td>0.055999999999999994</td><td>0.006</td><td>0.073</td><td>0.006</td><td>0.040999999999999995</td><td>0.003</td><td>0.034999999999999996</td><td>0.022</td><td>0.04</td><td>0.004</td><td>0.03</td><td>0.005</td><td>-0.04000000000000001</td><td>0.004</td><td>0.026999999999999996</td><td>0.004</td><td>0.0030000000000000027</td><td>0.003</td><td>0.017</td><td>0.004</td><td>-0.0050000000000000044</td><td>0.011</td><td>-0.092</td><td>0.004</td><td>-0.10300000000000001</td><td>0.007</td><td>-0.061</td><td>0.012</td><td>-0.04300000000000001</td><td>0.009</td><td>-0.037000000000000005</td><td>0.009</td><td>-0.0030000000000000027</td><td>0.013</td><td>0.077</td><td>0.019</td><td>0.013999999999999999</td><td>0.01</td><td>0.044</td><td>0.014</td><td>0.056999999999999995</td><td>0.018</td><td>0.010999999999999996</td><td>0.005</td><td>0.046</td><td>0.021</td><td>0.006857142857142852</td><td>0.020999999999999998</td><td>0.04959999999999999</td><td>0.01</td><td>0.032499999999999994</td><td>0.014</td><td>-0.0037272727272727314</td><td>0.011</td></tr>\n",
       "<tr><td>HIP83276</td><td>7.4</td><td>0.3</td><td>-0.093</td><td>0.005</td><td>0.072</td><td>0.01</td><td>-0.04200000000000001</td><td>0.008</td><td>0.020000000000000004</td><td>0.006</td><td>0.022000000000000006</td><td>0.01</td><td>0.016</td><td>0.004</td><td>0.062</td><td>0.033</td><td>0.022000000000000006</td><td>0.007</td><td>-0.016</td><td>0.011</td><td>-0.066</td><td>0.007</td><td>-0.021000000000000005</td><td>0.008</td><td>-0.032</td><td>0.006</td><td>-0.019000000000000003</td><td>0.028</td><td>-0.04300000000000001</td><td>0.01</td><td>-0.135</td><td>0.006</td><td>-0.142</td><td>0.01</td><td>-0.088</td><td>0.015</td><td>-0.04500000000000001</td><td>0.007</td><td>-0.026999999999999996</td><td>0.025</td><td>0.012999999999999998</td><td>0.021</td><td>0.08</td><td>0.026</td><td>0.022000000000000006</td><td>0.017</td><td>0.019000000000000003</td><td>0.02</td><td>0.059</td><td>0.018</td><td>0.038</td><td>0.006</td><td>0.066</td><td>0.008</td><td>0.0235</td><td>0.02</td><td>0.019571428571428573</td><td>0.014</td><td>0.015130434782608693</td><td>0.023</td><td>-0.004705882352941176</td><td>0.017</td></tr>\n",
       "<tr><td>HIP85042</td><td>7.8</td><td>0.3</td><td>0.03</td><td>0.003</td><td>0.025</td><td>0.016</td><td>-0.020999999999999998</td><td>0.013</td><td>0.031</td><td>0.005</td><td>0.05500000000000001</td><td>0.01</td><td>0.0</td><td>0.002</td><td>-0.027</td><td>0.021</td><td>0.019000000000000003</td><td>0.004</td><td>0.017</td><td>0.005</td><td>-0.020999999999999998</td><td>0.004</td><td>0.0020000000000000018</td><td>0.007</td><td>0.011000000000000003</td><td>0.004</td><td>0.012999999999999998</td><td>0.008</td><td>-0.008999999999999998</td><td>0.013</td><td>-0.020999999999999998</td><td>0.005</td><td>-0.036</td><td>0.011</td><td>-0.03</td><td>0.016</td><td>-0.032</td><td>0.008</td><td>-0.027999999999999997</td><td>0.016</td><td>-0.006999999999999999</td><td>0.017</td><td>0.078</td><td>0.01</td><td>0.024</td><td>0.009</td><td>0.013999999999999999</td><td>0.008</td><td>0.038000000000000006</td><td>0.016</td><td>0.037000000000000005</td><td>0.005</td><td>0.054000000000000006</td><td>0.023</td><td>-0.04466666666666667</td><td>0.012</td><td>0.024333333333333332</td><td>0.009000000000000001</td><td>0.036307692307692305</td><td>0.039</td><td>-0.0028888888888888875</td><td>0.009000000000000001</td></tr>\n",
       "<tr><td>HIP8507</td><td>4.8</td><td>0.5</td><td>-0.099</td><td>0.003</td><td>0.018000000000000002</td><td>0.009</td><td>-0.046999999999999986</td><td>0.013</td><td>0.015</td><td>0.007</td><td>0.009000000000000008</td><td>0.001</td><td>-0.0010000000000000009</td><td>0.003</td><td>-0.027999999999999997</td><td>0.028</td><td>0.034</td><td>0.003</td><td>0.015</td><td>0.006</td><td>-0.04899999999999999</td><td>0.006</td><td>-0.017</td><td>0.005</td><td>-0.026999999999999996</td><td>0.003</td><td>-0.044999999999999984</td><td>0.022</td><td>-0.046999999999999986</td><td>0.008</td><td>0.049</td><td>0.004</td><td>0.04000000000000001</td><td>0.006</td><td>0.07400000000000001</td><td>0.01</td><td>0.07300000000000001</td><td>0.015</td><td>0.122</td><td>0.027</td><td>0.128</td><td>0.017</td><td>0.169</td><td>0.017</td><td>0.14300000000000002</td><td>0.012</td><td>0.09000000000000001</td><td>0.009</td><td>0.08</td><td>0.022</td><td>0.057</td><td>0.005</td><td>0.10700000000000001</td><td>0.021</td><td>-0.0755</td><td>0.018</td><td>0.030909090909090914</td><td>0.011</td><td>-0.0014090909090909009</td><td>0.022</td><td>0.0066363636363636425</td><td>0.011</td></tr>\n",
       "<tr><td>HIP87769</td><td>4.6</td><td>0.6</td><td>0.072</td><td>0.004</td><td>-0.0059999999999999915</td><td>0.015</td><td>0.023000000000000007</td><td>0.01</td><td>0.01100000000000001</td><td>0.008</td><td>0.009000000000000008</td><td>0.004</td><td>0.0</td><td>0.003</td><td>0.024000000000000007</td><td>0.01</td><td>0.020000000000000004</td><td>0.004</td><td>0.016</td><td>0.007</td><td>0.008000000000000007</td><td>0.005</td><td>-0.001999999999999988</td><td>0.005</td><td>0.008000000000000007</td><td>0.004</td><td>-0.0049999999999999906</td><td>0.004</td><td>0.01100000000000001</td><td>0.006</td><td>0.037000000000000005</td><td>0.005</td><td>0.013999999999999999</td><td>0.01</td><td>0.013000000000000012</td><td>0.009</td><td>-0.001999999999999988</td><td>0.007</td><td>0.034</td><td>0.044</td><td>-0.021999999999999992</td><td>0.01</td><td>0.09500000000000001</td><td>0.01</td><td>-0.022999999999999993</td><td>0.008</td><td>0.021000000000000005</td><td>0.02</td><td>0.04200000000000001</td><td>0.023</td><td>0.01200000000000001</td><td>0.005</td><td>0.009000000000000008</td><td>0.008</td><td>-0.011599999999999994</td><td>0.02</td><td>0.0030000000000000027</td><td>0.01</td><td>0.01100000000000001</td><td>0.024</td><td>0.01150000000000001</td><td>0.01</td></tr>\n",
       "<tr><td>HIP89650</td><td>4.6</td><td>0.5</td><td>-0.015</td><td>0.003</td><td>0.047</td><td>0.014</td><td>0.032</td><td>0.009</td><td>0.036000000000000004</td><td>0.011</td><td>0.023</td><td>0.003</td><td>0.015</td><td>0.004</td><td>0.033</td><td>0.024</td><td>0.0</td><td>0.004</td><td>0.012</td><td>0.005</td><td>-0.005000000000000001</td><td>0.005</td><td>0.03</td><td>0.004</td><td>0.008</td><td>0.004</td><td>0.027999999999999997</td><td>0.004</td><td>0.019</td><td>0.007</td><td>-0.046</td><td>0.004</td><td>-0.046</td><td>0.011</td><td>-0.022</td><td>0.013</td><td>-0.025</td><td>0.007</td><td>0.064</td><td>0.052</td><td>0.018</td><td>0.013</td><td>0.127</td><td>0.011</td><td>0.027</td><td>0.01</td><td>0.034</td><td>0.006</td><td>0.111</td><td>0.008</td><td>0.0009999999999999992</td><td>0.005</td><td>0.034</td><td>0.066</td><td>0.03511111111111111</td><td>0.009000000000000001</td><td>0.0057777777777777775</td><td>0.009000000000000001</td><td>0.025769230769230766</td><td>0.013000000000000001</td><td>0.0007272727272727271</td><td>0.011</td></tr>\n",
       "<tr><td>HIP9349</td><td>0.7</td><td>0.4</td><td>-0.006</td><td>0.005</td><td>0.003</td><td>0.011</td><td>-0.042</td><td>0.012</td><td>-0.034</td><td>0.015</td><td>-0.048</td><td>0.004</td><td>-0.023</td><td>0.003</td><td>-0.017</td><td>0.013</td><td>0.023</td><td>0.006</td><td>0.003</td><td>0.008</td><td>-0.013</td><td>0.008</td><td>-0.038</td><td>0.007</td><td>-0.047</td><td>0.006</td><td>-0.078</td><td>0.033</td><td>-0.058</td><td>0.012</td><td>0.084</td><td>0.007</td><td>0.063</td><td>0.008</td><td>0.07300000000000001</td><td>0.01</td><td>0.137</td><td>0.007</td><td>0.07200000000000001</td><td>0.033</td><td>0.11</td><td>0.014</td><td>0.14300000000000002</td><td>0.011</td><td>0.11</td><td>0.01</td><td>0.06</td><td>0.034</td><td>0.052</td><td>0.012</td><td>0.036</td><td>0.005</td><td>0.043</td><td>0.03</td><td>-0.0395</td><td>0.014</td><td>-0.005076923076923077</td><td>0.013000000000000001</td><td>-0.010000000000000002</td><td>0.024</td><td>0.0098125</td><td>0.016</td></tr>\n",
       "<tr><td>HIP95962</td><td>6.0</td><td>0.3</td><td>0.029</td><td>0.003</td><td>0.0019999999999999983</td><td>0.004</td><td>0.030999999999999996</td><td>0.013</td><td>0.015999999999999997</td><td>0.005</td><td>0.021</td><td>0.006</td><td>0.009999999999999998</td><td>0.003</td><td>0.022999999999999996</td><td>0.008</td><td>0.008999999999999998</td><td>0.005</td><td>0.005000000000000001</td><td>0.004</td><td>0.012</td><td>0.004</td><td>0.009999999999999998</td><td>0.005</td><td>0.014999999999999996</td><td>0.003</td><td>0.028</td><td>0.005</td><td>0.006999999999999996</td><td>0.009</td><td>-0.018000000000000002</td><td>0.004</td><td>-0.026000000000000002</td><td>0.006</td><td>-0.033</td><td>0.007</td><td>-0.026000000000000002</td><td>0.005</td><td>-0.026000000000000002</td><td>0.016</td><td>-0.027000000000000003</td><td>0.007</td><td>0.07</td><td>0.005</td><td>-0.025</td><td>0.011</td><td>-0.017</td><td>0.006</td><td>-0.019000000000000003</td><td>0.012</td><td>0.0019999999999999983</td><td>0.004</td><td>-0.014000000000000002</td><td>0.019</td><td>0.018750000000000003</td><td>0.008</td><td>0.0037777777777777775</td><td>0.009000000000000001</td><td>0.009333333333333334</td><td>0.020999999999999998</td><td>-0.004</td><td>0.008</td></tr>\n",
       "<tr><td>HIP96160</td><td>2.6</td><td>0.5</td><td>-0.036</td><td>0.003</td><td>0.023</td><td>0.007</td><td>-0.015</td><td>0.014</td><td>0.0</td><td>0.01</td><td>-0.015</td><td>0.003</td><td>0.000999999999999994</td><td>0.004</td><td>0.016999999999999998</td><td>0.013</td><td>0.023999999999999997</td><td>0.005</td><td>0.009999999999999998</td><td>0.007</td><td>-0.019000000000000003</td><td>0.004</td><td>-0.009000000000000001</td><td>0.006</td><td>-0.031000000000000007</td><td>0.004</td><td>-0.04900000000000001</td><td>0.013</td><td>-0.028000000000000004</td><td>0.008</td><td>0.053</td><td>0.005</td><td>0.046</td><td>0.009</td><td>0.066</td><td>0.011</td><td>0.07100000000000001</td><td>0.005</td><td>0.10699999999999998</td><td>0.02</td><td>0.095</td><td>0.016</td><td>0.185</td><td>0.016</td><td>0.098</td><td>0.008</td><td>0.046</td><td>0.03</td><td>0.099</td><td>0.009</td><td>0.051</td><td>0.006</td><td>0.074</td><td>0.019</td><td>-0.0325</td><td>0.008</td><td>0.009727272727272723</td><td>0.011</td><td>0.0014999999999999974</td><td>0.018</td><td>0.009999999999999998</td><td>0.013000000000000001</td></tr>\n",
       "</table>"
      ],
      "text/plain": [
       "<Table length=79>\n",
       "star_name   age   age_err ...           Cr                  Cr_err       \n",
       "  bytes9  float64 float64 ...        float64               float64       \n",
       "--------- ------- ------- ... ---------------------- --------------------\n",
       " HIP10175     3.2     0.4 ...   0.007750000000000001                0.012\n",
       "HIP101905     1.2     0.3 ...  -0.004749999999999994                0.016\n",
       "HIP102040     2.4     0.4 ...  -0.007249999999999993                0.016\n",
       "HIP102152     8.6     0.3 ...  -0.002230769230769232                0.013\n",
       " HIP10303     5.8     0.4 ...    0.00758333333333334                0.012\n",
       "HIP104045     4.5     0.5 ...  0.0030000000000000053                 0.01\n",
       "HIP105184     0.7     0.4 ...   0.009666666666666665 0.018000000000000002\n",
       "HIP108158     8.1     0.3 ...   0.018047619047619045                0.021\n",
       "HIP108468     7.0     0.3 ... -0.0011538461538461511                0.013\n",
       "HIP109821     8.9     0.3 ...  -0.005499999999999998                 0.01\n",
       "      ...     ...     ... ...                    ...                  ...\n",
       " HIP79672     4.0     0.4 ...   0.007363636363636365                0.011\n",
       " HIP81746     8.1     0.3 ... -0.0037272727272727314                0.011\n",
       " HIP83276     7.4     0.3 ...  -0.004705882352941176                0.017\n",
       " HIP85042     7.8     0.3 ... -0.0028888888888888875 0.009000000000000001\n",
       "  HIP8507     4.8     0.5 ...  0.0066363636363636425                0.011\n",
       " HIP87769     4.6     0.6 ...    0.01150000000000001                 0.01\n",
       " HIP89650     4.6     0.5 ...  0.0007272727272727271                0.011\n",
       "  HIP9349     0.7     0.4 ...              0.0098125                0.016\n",
       " HIP95962     6.0     0.3 ...                 -0.004                0.008\n",
       " HIP96160     2.6     0.5 ...   0.009999999999999998 0.013000000000000001"
      ]
     },
     "execution_count": 26,
     "metadata": {},
     "output_type": "execute_result"
    }
   ],
   "source": [
    "t"
   ]
  },
  {
   "cell_type": "code",
   "execution_count": 30,
   "metadata": {},
   "outputs": [],
   "source": [
    "m = 9.441261972252866e-05 \n",
    "b = -0.12154306680819207"
   ]
  },
  {
   "cell_type": "code",
   "execution_count": 61,
   "metadata": {},
   "outputs": [
    {
     "data": {
      "text/plain": [
       "<matplotlib.collections.PathCollection at 0x105c662c18>"
      ]
     },
     "execution_count": 61,
     "metadata": {},
     "output_type": "execute_result"
    },
    {
     "data": {
      "image/png": "[encoded data removed]",
      "text/plain": [
       "<Figure size 648x432 with 1 Axes>"
      ]
     },
     "metadata": {
      "needs_background": "light"
     },
     "output_type": "display_data"
    }
   ],
   "source": [
    "plt.scatter(temp, abundance)"
   ]
  },
  {
   "cell_type": "code",
   "execution_count": 76,
   "metadata": {},
   "outputs": [
    {
     "data": {
      "text/plain": [
       "[0.004403367901661154,\n",
       " -0.10454879525813691,\n",
       " -0.031095777114009626,\n",
       " 0.0045921931411062045,\n",
       " 0.03452099359314778,\n",
       " 0.002137465028320462,\n",
       " -0.05885308731243305,\n",
       " 0.02168087731088389,\n",
       " 0.013372566775301381,\n",
       " -0.01221325316950389,\n",
       " 0.0061027950566666656,\n",
       " 0.006197207676389205,\n",
       " -0.02363718015592986,\n",
       " -0.05299950488963627,\n",
       " 0.016677008465589865,\n",
       " 0.03508746931148296,\n",
       " 0.04282930412873032,\n",
       " 0.015827294888087123,\n",
       " 0.027440047113958144,\n",
       " 0.017998785141705276,\n",
       " 0.027817697592848245,\n",
       " 0.029705949987298835,\n",
       " 0.028572998550628476,\n",
       " 0.006480445535556795,\n",
       " 0.03508746931148296,\n",
       " 0.03508746931148296,\n",
       " -0.11776656201929092,\n",
       " 0.027817697592848245,\n",
       " 0.03508746931148296,\n",
       " 0.0008156883522050656]"
      ]
     },
     "execution_count": 76,
     "metadata": {},
     "output_type": "execute_result"
    }
   ],
   "source": [
    "predicted_values = []\n",
    "pv = 0 \n",
    "for u in temp: \n",
    "    pv = (m*u) + b\n",
    "    predicted_values.append(pv)\n",
    "    pv = 0\n",
    "predicted_values"
   ]
  },
  {
   "cell_type": "code",
   "execution_count": 71,
   "metadata": {},
   "outputs": [],
   "source": [
    "prev = np.array(predicted_values)\n",
    "abu = np.array(abundance)"
   ]
  },
  {
   "cell_type": "code",
   "execution_count": 74,
   "metadata": {},
   "outputs": [],
   "source": [
    "diff = prev - abu"
   ]
  },
  {
   "cell_type": "code",
   "execution_count": 83,
   "metadata": {},
   "outputs": [
    {
     "data": {
      "text/plain": [
       "[<matplotlib.lines.Line2D at 0x10565ecc50>]"
      ]
     },
     "execution_count": 83,
     "metadata": {},
     "output_type": "execute_result"
    },
    {
     "data": {
      "image/png": "[encoded data removed]",
      "text/plain": [
       "<Figure size 648x432 with 1 Axes>"
      ]
     },
     "metadata": {
      "needs_background": "light"
     },
     "output_type": "display_data"
    }
   ],
   "source": [
    "plt.scatter(temp, diff)\n",
    "mb = find_m_b(temp, diff, error)    \n",
    "plot_xs = np.arange(0, 1750, .1)\n",
    "plt.plot(plot_xs, (mb[0]) * plot_xs + (mb[1]), color='teal') "
   ]
  },
  {
   "cell_type": "code",
   "execution_count": 90,
   "metadata": {},
   "outputs": [],
   "source": [
    "def abudiff(star): \n",
    "    for i, txt in enumerate(t['star_name']):\n",
    "        if txt == star:\n",
    "            tbl = t[i] #inputted star's row\n",
    "            tbl\n",
    "\n",
    "    star_elements =[]\n",
    "    elnames = tbl.columns[3:64]\n",
    "    for n in elnames:\n",
    "        if len(n) < 3 :\n",
    "            star_elements.append(n)\n",
    "            star_elements #list of elements in that star\n",
    "            \n",
    "    star_abundance = []\n",
    "    for n in star_elements:\n",
    "        star_abundance.append(tbl[n])\n",
    "        star_abundance #list of element abundances\n",
    "        \n",
    "    star_con_temp = []\n",
    "    for n in star_elements:\n",
    "        star_con_temp.append(tc_map[n])\n",
    "        star_con_temp #condensation temperatures for stellar elements\n",
    "    new=np.array(star_con_temp)\n",
    "    \n",
    "    star_error_elements = []\n",
    "    for r in elnames:\n",
    "        if len(r) > 3 :\n",
    "            star_error_elements.append(r)\n",
    "\n",
    "    el_error = []\n",
    "    for k in star_error_elements:\n",
    "        el_error.append(tbl[k])\n",
    "        el_error #list of error values for elements\n",
    "    \n",
    "    for x, txt in enumerate(star_abundance):\n",
    "        if (math.isnan(txt) == True):\n",
    "            del star_elements[x]\n",
    "            del star_abundance[x]\n",
    "            del star_con_temp[x]\n",
    "            del el_error[x]\n",
    "    \n",
    "    predicted_values = []\n",
    "    pv = 0 \n",
    "    for u in star_con_temp: \n",
    "        pv = (m*u) + b\n",
    "        predicted_values.append(pv)\n",
    "        pv = 0\n",
    "\n",
    "    prev = np.array(predicted_values)\n",
    "    abu = np.array(star_abundance)\n",
    "    diff = prev - abu\n",
    "    \n",
    "    star_table = Table([star_elements, star_abundance, el_error, star_con_temp], names=('Element', 'Abundance',\n",
    "        'Abundance Error','Condensation Temp'))\n",
    "        \n",
    "    plt.scatter(star_con_temp, diff)\n",
    "    plt.xlabel('Tc',fontsize='xx-large', family='sans-serif')\n",
    "    plt.ylabel('Abundance, No Tc Effect', fontsize='xx-large', family='sans-serif')\n",
    "    plt.title('Temperature vs Corrected Element Abundance for {0}'.format(star), fontsize= 'xx-large', family='sans-serif')\n",
    "\n",
    "    #point labels\n",
    "    for i, txt in enumerate(star_elements):\n",
    "            plt.annotate(txt, xy=(star_con_temp[i], diff[i]), xytext=(-13,-6), \n",
    "                textcoords='offset points', ha='center', va='bottom')\n",
    "            \n",
    "    jk= jackknifemb(star_con_temp, diff, el_error)\n",
    "    for i, txt in enumerate (jk[0]):\n",
    "        plt.scatter(star_con_temp, diff)\n",
    "        plt.xlabel('Tc',fontsize='xx-large', family='sans-serif')\n",
    "        plt.ylabel('Abundance, No Tc Effect', fontsize='xx-large', family='sans-serif')\n",
    "        plt.title('Temperature vs Corrected Element Abundance', fontsize= 'xx-large', family='sans-serif')\n",
    "\n",
    "        plot_xs = np.arange(0, 1750, .1)\n",
    "        plt.plot(plot_xs, jk[0][i] * plot_xs + (jk[1][i]), color = 'lightgray', linewidth=0.1)\n",
    "    \n",
    "    #error bars\n",
    "    plt.errorbar(star_con_temp, diff, yerr= el_error, fmt='o', color='black',\n",
    "                 ecolor='lightsteelblue', elinewidth=3,capsize=0)\n",
    "    \n",
    "    #line of best fit m,b values\n",
    "    mb = find_m_b(star_con_temp, diff, el_error)    \n",
    "    plot_xs = np.arange(0, 1750, .1)\n",
    "    plt.plot(plot_xs, (mb[0]) * plot_xs + (mb[1]), color='teal') \n",
    "    plt.savefig(star+'diff.png')\n",
    "    plt.close()"
   ]
  },
  {
   "cell_type": "code",
   "execution_count": 91,
   "metadata": {},
   "outputs": [
    {
     "data": {
      "image/png": "[encoded data removed]",
      "text/plain": [
       "<Figure size 648x432 with 1 Axes>"
      ]
     },
     "metadata": {
      "needs_background": "light"
     },
     "output_type": "display_data"
    }
   ],
   "source": [
    "abudiff('HIP10175')"
   ]
  },
  {
   "cell_type": "code",
   "execution_count": 84,
   "metadata": {},
   "outputs": [
    {
     "data": {
      "text/html": [
       "<i>Table length=79</i>\n",
       "<table id=\"table69102239640\" class=\"table-striped table-bordered table-condensed\">\n",
       "<thead><tr><th>star_name</th><th>age</th><th>age_err</th><th>Fe</th><th>Fe_err</th><th>O</th><th>O_err</th><th>Na</th><th>Na_err</th><th>Mg</th><th>Mg_err</th><th>Al</th><th>Al_err</th><th>Si</th><th>Si_err</th><th>S</th><th>S_err</th><th>Ca</th><th>Ca_err</th><th>V</th><th>V_err</th><th>Mn</th><th>Mn_err</th><th>Co</th><th>Co_err</th><th>Ni</th><th>Ni_err</th><th>Cu</th><th>Cu_err</th><th>Zn</th><th>Zn_err</th><th>Sr</th><th>Sr_err</th><th>Y</th><th>Y_err</th><th>Zr</th><th>Zr_err</th><th>Ba</th><th>Ba_err</th><th>La</th><th>La_err</th><th>Ce</th><th>Ce_err</th><th>Pr</th><th>Pr_err</th><th>Nd</th><th>Nd_err</th><th>Sm</th><th>Sm_err</th><th>Eu</th><th>Eu_err</th><th>Gd</th><th>Gd_err</th><th>Dy</th><th>Dy_err</th><th>C</th><th>C_err</th><th>Ti</th><th>Ti_err</th><th>Sc</th><th>Sc_err</th><th>Cr</th><th>Cr_err</th></tr></thead>\n",
       "<thead><tr><th>bytes9</th><th>float64</th><th>float64</th><th>float64</th><th>float64</th><th>float64</th><th>float64</th><th>float64</th><th>float64</th><th>float64</th><th>float64</th><th>float64</th><th>float64</th><th>float64</th><th>float64</th><th>float64</th><th>float64</th><th>float64</th><th>float64</th><th>float64</th><th>float64</th><th>float64</th><th>float64</th><th>float64</th><th>float64</th><th>float64</th><th>float64</th><th>float64</th><th>float64</th><th>float64</th><th>float64</th><th>float64</th><th>float64</th><th>float64</th><th>float64</th><th>float64</th><th>float64</th><th>float64</th><th>float64</th><th>float64</th><th>float64</th><th>float64</th><th>float64</th><th>float64</th><th>float64</th><th>float64</th><th>float64</th><th>float64</th><th>float64</th><th>float64</th><th>float64</th><th>float64</th><th>float64</th><th>float64</th><th>float64</th><th>float64</th><th>float64</th><th>float64</th><th>float64</th><th>float64</th><th>float64</th><th>float64</th><th>float64</th></tr></thead>\n",
       "<tr><td>HIP10175</td><td>3.2</td><td>0.4</td><td>-0.028</td><td>0.002</td><td>0.024</td><td>0.009</td><td>-0.051000000000000004</td><td>0.022</td><td>-0.006000000000000002</td><td>0.007</td><td>-0.034</td><td>0.008</td><td>-0.009999999999999998</td><td>0.003</td><td>0.0020000000000000018</td><td>0.012</td><td>0.023</td><td>0.005</td><td>-0.0019999999999999983</td><td>0.004</td><td>-0.029</td><td>0.005</td><td>-0.028</td><td>0.004</td><td>-0.04100000000000001</td><td>0.003</td><td>-0.05600000000000001</td><td>0.013</td><td>-0.048</td><td>0.006</td><td>0.081</td><td>0.005</td><td>0.066</td><td>0.007</td><td>0.087</td><td>0.012</td><td>0.11599999999999999</td><td>0.005</td><td>0.118</td><td>0.029</td><td>0.104</td><td>0.016</td><td>0.16999999999999998</td><td>0.008</td><td>0.127</td><td>0.01</td><td>0.057</td><td>0.013</td><td>0.089</td><td>0.005</td><td>0.08</td><td>0.005</td><td>0.065</td><td>0.005</td><td>-0.05176923076923076</td><td>0.013000000000000001</td><td>0.012</td><td>0.01</td><td>-0.019000000000000003</td><td>0.020999999999999998</td><td>0.007750000000000001</td><td>0.012</td></tr>\n",
       "<tr><td>HIP101905</td><td>1.2</td><td>0.3</td><td>0.088</td><td>0.004</td><td>-0.06899999999999999</td><td>0.014</td><td>-0.093</td><td>0.012</td><td>-0.025999999999999995</td><td>0.008</td><td>-0.033999999999999996</td><td>0.002</td><td>-0.024999999999999994</td><td>0.004</td><td>-0.104</td><td>0.027</td><td>0.024000000000000007</td><td>0.005</td><td>0.0050000000000000044</td><td>0.009</td><td>-0.04599999999999999</td><td>0.006</td><td>-0.03799999999999999</td><td>0.005</td><td>-0.03799999999999999</td><td>0.005</td><td>-0.08499999999999999</td><td>0.031</td><td>-0.09699999999999999</td><td>0.016</td><td>0.097</td><td>0.006</td><td>0.08100000000000002</td><td>0.011</td><td>0.08499999999999999</td><td>0.01</td><td>0.14</td><td>0.01</td><td>0.10200000000000001</td><td>0.031</td><td>0.119</td><td>0.012</td><td>0.094</td><td>0.014</td><td>0.131</td><td>0.01</td><td>0.05399999999999999</td><td>0.021</td><td>0.07600000000000001</td><td>0.014</td><td>0.049000000000000016</td><td>0.006</td><td>0.066</td><td>0.066</td><td>-0.11374193548387096</td><td>0.031</td><td>0.009076923076923078</td><td>0.013000000000000001</td><td>-0.008058823529411757</td><td>0.017</td><td>-0.004749999999999994</td><td>0.016</td></tr>\n",
       "<tr><td>HIP102040</td><td>2.4</td><td>0.4</td><td>-0.08</td><td>0.003</td><td>0.022</td><td>0.006</td><td>-0.071</td><td>0.008</td><td>0.0020000000000000018</td><td>0.003</td><td>-0.021000000000000005</td><td>0.008</td><td>-0.0040000000000000036</td><td>0.005</td><td>-0.06499999999999999</td><td>0.014</td><td>0.034</td><td>0.005</td><td>0.0</td><td>0.006</td><td>-0.06299999999999999</td><td>0.005</td><td>-0.012999999999999998</td><td>0.007</td><td>-0.03799999999999999</td><td>0.004</td><td>-0.06599999999999999</td><td>0.034</td><td>-0.077</td><td>0.02</td><td>0.062</td><td>0.005</td><td>0.054000000000000006</td><td>0.007</td><td>0.081</td><td>0.011</td><td>0.128</td><td>0.012</td><td>0.118</td><td>0.018</td><td>0.14900000000000002</td><td>0.016</td><td>0.158</td><td>0.01</td><td>0.165</td><td>0.011</td><td>0.113</td><td>0.023</td><td>0.14600000000000002</td><td>0.017</td><td>0.094</td><td>0.006</td><td>0.108</td><td>0.028</td><td>-0.019789473684210527</td><td>0.056999999999999995</td><td>0.029545454545454552</td><td>0.011</td><td>0.0178</td><td>0.034999999999999996</td><td>-0.007249999999999993</td><td>0.016</td></tr>\n",
       "<tr><td>HIP102152</td><td>8.6</td><td>0.3</td><td>-0.016</td><td>0.003</td><td>0.051000000000000004</td><td>0.01</td><td>-0.027999999999999997</td><td>0.014</td><td>0.031</td><td>0.01</td><td>0.026000000000000002</td><td>0.004</td><td>0.003000000000000001</td><td>0.003</td><td>-0.012</td><td>0.022</td><td>0.006</td><td>0.005</td><td>-0.009000000000000001</td><td>0.006</td><td>-0.026999999999999996</td><td>0.005</td><td>-0.018000000000000002</td><td>0.008</td><td>-0.017</td><td>0.004</td><td>0.002</td><td>0.004</td><td>0.004</td><td>0.011</td><td>-0.11</td><td>0.005</td><td>-0.104</td><td>0.007</td><td>-0.094</td><td>0.012</td><td>-0.049</td><td>0.009</td><td>-0.062</td><td>0.019</td><td>-0.023</td><td>0.013</td><td>0.0</td><td>0.017</td><td>0.0010000000000000009</td><td>0.009</td><td>0.015</td><td>0.01</td><td>0.023</td><td>0.019</td><td>0.028</td><td>0.005</td><td>-0.031</td><td>0.027</td><td>0.001285714285714285</td><td>0.014</td><td>0.0035454545454545456</td><td>0.011</td><td>-0.00975</td><td>0.016</td><td>-0.002230769230769232</td><td>0.013</td></tr>\n",
       "<tr><td>HIP10303</td><td>5.8</td><td>0.4</td><td>0.104</td><td>0.003</td><td>-0.022999999999999993</td><td>0.007</td><td>-0.0020000000000000018</td><td>0.012</td><td>0.017</td><td>0.005</td><td>0.033000000000000015</td><td>0.004</td><td>0.0040000000000000036</td><td>0.002</td><td>-0.023999999999999994</td><td>0.014</td><td>0.0050000000000000044</td><td>0.003</td><td>0.015</td><td>0.006</td><td>0.019000000000000003</td><td>0.004</td><td>0.0</td><td>0.005</td><td>0.020000000000000004</td><td>0.004</td><td>0.013999999999999999</td><td>0.021</td><td>0.0040000000000000036</td><td>0.02</td><td>0.032000000000000015</td><td>0.005</td><td>0.019000000000000003</td><td>0.006</td><td>0.0040000000000000036</td><td>0.014</td><td>-0.01999999999999999</td><td>0.008</td><td>-0.031</td><td>0.006</td><td>-0.027999999999999997</td><td>0.015</td><td>0.008000000000000007</td><td>0.012</td><td>-0.013999999999999999</td><td>0.007</td><td>-0.010999999999999996</td><td>0.016</td><td>0.01100000000000001</td><td>0.013</td><td>0.030000000000000013</td><td>0.005</td><td>-0.0049999999999999906</td><td>0.021</td><td>-0.033571428571428565</td><td>0.007</td><td>0.009727272727272737</td><td>0.011</td><td>0.005250000000000009</td><td>0.016</td><td>0.00758333333333334</td><td>0.012</td></tr>\n",
       "<tr><td>HIP104045</td><td>4.5</td><td>0.5</td><td>0.051</td><td>0.003</td><td>-0.015999999999999993</td><td>0.008</td><td>-0.024999999999999998</td><td>0.009</td><td>-0.010999999999999996</td><td>0.004</td><td>-0.012999999999999998</td><td>0.004</td><td>-0.005999999999999998</td><td>0.002</td><td>-0.006999999999999999</td><td>0.028</td><td>0.008</td><td>0.005</td><td>-0.008999999999999994</td><td>0.005</td><td>-0.005999999999999998</td><td>0.004</td><td>-0.013999999999999999</td><td>0.004</td><td>-0.0029999999999999957</td><td>0.003</td><td>-0.019999999999999997</td><td>0.006</td><td>-0.028999999999999998</td><td>0.01</td><td>0.01800000000000001</td><td>0.005</td><td>0.015000000000000006</td><td>0.008</td><td>0.020999999999999998</td><td>0.006</td><td>0.010000000000000002</td><td>0.008</td><td>-0.037</td><td>0.026</td><td>0.014000000000000005</td><td>0.009</td><td>0.038</td><td>0.018</td><td>0.031000000000000007</td><td>0.013</td><td>-0.019999999999999997</td><td>0.013</td><td>0.07800000000000001</td><td>0.008</td><td>0.091</td><td>0.023</td><td>0.01900000000000001</td><td>0.007</td><td>-0.042466666666666666</td><td>0.015</td><td>-0.00736363636363636</td><td>0.011</td><td>-0.015789473684210527</td><td>0.019</td><td>0.0030000000000000053</td><td>0.01</td></tr>\n",
       "<tr><td>HIP105184</td><td>0.7</td><td>0.4</td><td>0.003</td><td>0.004</td><td>-0.005</td><td>0.013</td><td>-0.063</td><td>0.013</td><td>-0.009000000000000001</td><td>0.009</td><td>-0.038000000000000006</td><td>0.013</td><td>-0.013999999999999999</td><td>0.004</td><td>-0.047</td><td>0.016</td><td>0.039</td><td>0.005</td><td>0.005</td><td>0.008</td><td>-0.053000000000000005</td><td>0.005</td><td>-0.039</td><td>0.005</td><td>-0.054</td><td>0.005</td><td>-0.084</td><td>0.028</td><td>-0.079</td><td>0.013</td><td>0.113</td><td>0.007</td><td>0.097</td><td>0.008</td><td>0.111</td><td>0.01</td><td>0.195</td><td>0.007</td><td>0.147</td><td>0.023</td><td>0.184</td><td>0.012</td><td>0.154</td><td>0.012</td><td>0.187</td><td>0.01</td><td>0.095</td><td>0.031</td><td>0.092</td><td>0.007</td><td>0.06799999999999999</td><td>0.006</td><td>0.11499999999999999</td><td>0.06</td><td>-0.0871904761904762</td><td>0.020999999999999998</td><td>0.018076923076923077</td><td>0.013000000000000001</td><td>-0.007705882352941177</td><td>0.017</td><td>0.009666666666666665</td><td>0.018000000000000002</td></tr>\n",
       "<tr><td>HIP108158</td><td>8.1</td><td>0.3</td><td>0.055</td><td>0.003</td><td>0.14300000000000002</td><td>0.011</td><td>0.032999999999999995</td><td>0.008</td><td>0.138</td><td>0.011</td><td>0.155</td><td>0.012</td><td>0.063</td><td>0.002</td><td>0.096</td><td>0.022</td><td>0.04699999999999999</td><td>0.005</td><td>0.07800000000000001</td><td>0.008</td><td>-0.022</td><td>0.004</td><td>0.07300000000000001</td><td>0.004</td><td>0.027000000000000003</td><td>0.005</td><td>0.10900000000000001</td><td>0.026</td><td>0.136</td><td>0.017</td><td>-0.079</td><td>0.006</td><td>-0.082</td><td>0.011</td><td>-0.069</td><td>0.02</td><td>-0.052</td><td>0.007</td><td>-0.045</td><td>0.006</td><td>-0.022</td><td>0.018</td><td>0.10800000000000001</td><td>0.013</td><td>0.019999999999999997</td><td>0.011</td><td>0.061000000000000006</td><td>0.014</td><td>0.097</td><td>0.007</td><td>0.07700000000000001</td><td>0.006</td><td>0.10700000000000001</td><td>0.009</td><td>0.0653076923076923</td><td>0.013000000000000001</td><td>0.10450000000000001</td><td>0.012</td><td>0.09322222222222222</td><td>0.018000000000000002</td><td>0.018047619047619045</td><td>0.021</td></tr>\n",
       "<tr><td>HIP108468</td><td>7.0</td><td>0.3</td><td>-0.096</td><td>0.004</td><td>0.055</td><td>0.008</td><td>-0.044999999999999984</td><td>0.008</td><td>0.037000000000000005</td><td>0.01</td><td>0.034</td><td>0.004</td><td>0.007000000000000006</td><td>0.002</td><td>-0.011999999999999997</td><td>0.012</td><td>0.018000000000000002</td><td>0.005</td><td>-0.008999999999999994</td><td>0.006</td><td>-0.05299999999999999</td><td>0.005</td><td>-0.011999999999999997</td><td>0.004</td><td>-0.028999999999999998</td><td>0.004</td><td>-0.021999999999999992</td><td>0.024</td><td>-0.034</td><td>0.009</td><td>-0.11599999999999999</td><td>0.004</td><td>-0.121</td><td>0.006</td><td>-0.07400000000000001</td><td>0.015</td><td>-0.024999999999999994</td><td>0.011</td><td>-0.009999999999999995</td><td>0.016</td><td>0.015</td><td>0.017</td><td>0.10200000000000001</td><td>0.01</td><td>0.055</td><td>0.006</td><td>0.038</td><td>0.018</td><td>0.07400000000000001</td><td>0.012</td><td>0.051000000000000004</td><td>0.006</td><td>0.079</td><td>0.016</td><td>0.0006250000000000041</td><td>0.016</td><td>0.018272727272727274</td><td>0.011</td><td>0.005999999999999998</td><td>0.014</td><td>-0.0011538461538461511</td><td>0.013</td></tr>\n",
       "<tr><td>HIP109821</td><td>8.9</td><td>0.3</td><td>-0.108</td><td>0.004</td><td>0.123</td><td>0.013</td><td>-0.03899999999999999</td><td>0.011</td><td>0.082</td><td>0.007</td><td>0.098</td><td>0.004</td><td>0.035</td><td>0.004</td><td>0.033</td><td>0.014</td><td>0.047</td><td>0.005</td><td>0.016</td><td>0.006</td><td>-0.078</td><td>0.005</td><td>0.007999999999999993</td><td>0.004</td><td>-0.02800000000000001</td><td>0.004</td><td>0.010999999999999996</td><td>0.012</td><td>0.010999999999999996</td><td>0.005</td><td>-0.09000000000000001</td><td>0.005</td><td>-0.09200000000000001</td><td>0.007</td><td>-0.041999999999999996</td><td>0.009</td><td>-0.021000000000000005</td><td>0.007</td><td>0.020000000000000004</td><td>0.009</td><td>0.044</td><td>0.013</td><td>0.105</td><td>0.012</td><td>0.08499999999999999</td><td>0.007</td><td>0.086</td><td>0.014</td><td>0.08399999999999999</td><td>0.016</td><td>0.087</td><td>0.005</td><td>0.112</td><td>0.011</td><td>0.08114285714285714</td><td>0.028</td><td>0.0745</td><td>0.012</td><td>0.039999999999999994</td><td>0.018000000000000002</td><td>-0.005499999999999998</td><td>0.01</td></tr>\n",
       "<tr><td>...</td><td>...</td><td>...</td><td>...</td><td>...</td><td>...</td><td>...</td><td>...</td><td>...</td><td>...</td><td>...</td><td>...</td><td>...</td><td>...</td><td>...</td><td>...</td><td>...</td><td>...</td><td>...</td><td>...</td><td>...</td><td>...</td><td>...</td><td>...</td><td>...</td><td>...</td><td>...</td><td>...</td><td>...</td><td>...</td><td>...</td><td>...</td><td>...</td><td>...</td><td>...</td><td>...</td><td>...</td><td>...</td><td>...</td><td>...</td><td>...</td><td>...</td><td>...</td><td>...</td><td>...</td><td>...</td><td>...</td><td>...</td><td>...</td><td>...</td><td>...</td><td>...</td><td>...</td><td>...</td><td>...</td><td>...</td><td>...</td><td>...</td><td>...</td><td>...</td><td>...</td><td>...</td><td>...</td></tr>\n",
       "<tr><td>HIP79672</td><td>4.0</td><td>0.4</td><td>0.041</td><td>0.003</td><td>-0.0040000000000000036</td><td>0.006</td><td>-0.02</td><td>0.009</td><td>0.0049999999999999975</td><td>0.009</td><td>-0.013000000000000001</td><td>0.002</td><td>0.0</td><td>0.002</td><td>-0.025</td><td>0.003</td><td>0.012999999999999998</td><td>0.004</td><td>-0.005999999999999998</td><td>0.004</td><td>-0.005999999999999998</td><td>0.004</td><td>-0.02</td><td>0.004</td><td>-0.009000000000000001</td><td>0.003</td><td>-0.012</td><td>0.012</td><td>-0.019000000000000003</td><td>0.006</td><td>0.043000000000000003</td><td>0.005</td><td>0.043000000000000003</td><td>0.007</td><td>0.054</td><td>0.006</td><td>0.039</td><td>0.006</td><td>0.036</td><td>0.009</td><td>0.060000000000000005</td><td>0.011</td><td>0.088</td><td>0.011</td><td>0.08299999999999999</td><td>0.009</td><td>0.067</td><td>0.016</td><td>0.11499999999999999</td><td>0.014</td><td>0.087</td><td>0.004</td><td>0.118</td><td>0.005</td><td>-0.056916666666666664</td><td>0.012</td><td>0.006111111111111109</td><td>0.009000000000000001</td><td>-0.014352941176470591</td><td>0.017</td><td>0.007363636363636365</td><td>0.011</td></tr>\n",
       "<tr><td>HIP81746</td><td>8.1</td><td>0.3</td><td>-0.091</td><td>0.003</td><td>0.066</td><td>0.013</td><td>-0.009000000000000008</td><td>0.01</td><td>0.055999999999999994</td><td>0.006</td><td>0.073</td><td>0.006</td><td>0.040999999999999995</td><td>0.003</td><td>0.034999999999999996</td><td>0.022</td><td>0.04</td><td>0.004</td><td>0.03</td><td>0.005</td><td>-0.04000000000000001</td><td>0.004</td><td>0.026999999999999996</td><td>0.004</td><td>0.0030000000000000027</td><td>0.003</td><td>0.017</td><td>0.004</td><td>-0.0050000000000000044</td><td>0.011</td><td>-0.092</td><td>0.004</td><td>-0.10300000000000001</td><td>0.007</td><td>-0.061</td><td>0.012</td><td>-0.04300000000000001</td><td>0.009</td><td>-0.037000000000000005</td><td>0.009</td><td>-0.0030000000000000027</td><td>0.013</td><td>0.077</td><td>0.019</td><td>0.013999999999999999</td><td>0.01</td><td>0.044</td><td>0.014</td><td>0.056999999999999995</td><td>0.018</td><td>0.010999999999999996</td><td>0.005</td><td>0.046</td><td>0.021</td><td>0.006857142857142852</td><td>0.020999999999999998</td><td>0.04959999999999999</td><td>0.01</td><td>0.032499999999999994</td><td>0.014</td><td>-0.0037272727272727314</td><td>0.011</td></tr>\n",
       "<tr><td>HIP83276</td><td>7.4</td><td>0.3</td><td>-0.093</td><td>0.005</td><td>0.072</td><td>0.01</td><td>-0.04200000000000001</td><td>0.008</td><td>0.020000000000000004</td><td>0.006</td><td>0.022000000000000006</td><td>0.01</td><td>0.016</td><td>0.004</td><td>0.062</td><td>0.033</td><td>0.022000000000000006</td><td>0.007</td><td>-0.016</td><td>0.011</td><td>-0.066</td><td>0.007</td><td>-0.021000000000000005</td><td>0.008</td><td>-0.032</td><td>0.006</td><td>-0.019000000000000003</td><td>0.028</td><td>-0.04300000000000001</td><td>0.01</td><td>-0.135</td><td>0.006</td><td>-0.142</td><td>0.01</td><td>-0.088</td><td>0.015</td><td>-0.04500000000000001</td><td>0.007</td><td>-0.026999999999999996</td><td>0.025</td><td>0.012999999999999998</td><td>0.021</td><td>0.08</td><td>0.026</td><td>0.022000000000000006</td><td>0.017</td><td>0.019000000000000003</td><td>0.02</td><td>0.059</td><td>0.018</td><td>0.038</td><td>0.006</td><td>0.066</td><td>0.008</td><td>0.0235</td><td>0.02</td><td>0.019571428571428573</td><td>0.014</td><td>0.015130434782608693</td><td>0.023</td><td>-0.004705882352941176</td><td>0.017</td></tr>\n",
       "<tr><td>HIP85042</td><td>7.8</td><td>0.3</td><td>0.03</td><td>0.003</td><td>0.025</td><td>0.016</td><td>-0.020999999999999998</td><td>0.013</td><td>0.031</td><td>0.005</td><td>0.05500000000000001</td><td>0.01</td><td>0.0</td><td>0.002</td><td>-0.027</td><td>0.021</td><td>0.019000000000000003</td><td>0.004</td><td>0.017</td><td>0.005</td><td>-0.020999999999999998</td><td>0.004</td><td>0.0020000000000000018</td><td>0.007</td><td>0.011000000000000003</td><td>0.004</td><td>0.012999999999999998</td><td>0.008</td><td>-0.008999999999999998</td><td>0.013</td><td>-0.020999999999999998</td><td>0.005</td><td>-0.036</td><td>0.011</td><td>-0.03</td><td>0.016</td><td>-0.032</td><td>0.008</td><td>-0.027999999999999997</td><td>0.016</td><td>-0.006999999999999999</td><td>0.017</td><td>0.078</td><td>0.01</td><td>0.024</td><td>0.009</td><td>0.013999999999999999</td><td>0.008</td><td>0.038000000000000006</td><td>0.016</td><td>0.037000000000000005</td><td>0.005</td><td>0.054000000000000006</td><td>0.023</td><td>-0.04466666666666667</td><td>0.012</td><td>0.024333333333333332</td><td>0.009000000000000001</td><td>0.036307692307692305</td><td>0.039</td><td>-0.0028888888888888875</td><td>0.009000000000000001</td></tr>\n",
       "<tr><td>HIP8507</td><td>4.8</td><td>0.5</td><td>-0.099</td><td>0.003</td><td>0.018000000000000002</td><td>0.009</td><td>-0.046999999999999986</td><td>0.013</td><td>0.015</td><td>0.007</td><td>0.009000000000000008</td><td>0.001</td><td>-0.0010000000000000009</td><td>0.003</td><td>-0.027999999999999997</td><td>0.028</td><td>0.034</td><td>0.003</td><td>0.015</td><td>0.006</td><td>-0.04899999999999999</td><td>0.006</td><td>-0.017</td><td>0.005</td><td>-0.026999999999999996</td><td>0.003</td><td>-0.044999999999999984</td><td>0.022</td><td>-0.046999999999999986</td><td>0.008</td><td>0.049</td><td>0.004</td><td>0.04000000000000001</td><td>0.006</td><td>0.07400000000000001</td><td>0.01</td><td>0.07300000000000001</td><td>0.015</td><td>0.122</td><td>0.027</td><td>0.128</td><td>0.017</td><td>0.169</td><td>0.017</td><td>0.14300000000000002</td><td>0.012</td><td>0.09000000000000001</td><td>0.009</td><td>0.08</td><td>0.022</td><td>0.057</td><td>0.005</td><td>0.10700000000000001</td><td>0.021</td><td>-0.0755</td><td>0.018</td><td>0.030909090909090914</td><td>0.011</td><td>-0.0014090909090909009</td><td>0.022</td><td>0.0066363636363636425</td><td>0.011</td></tr>\n",
       "<tr><td>HIP87769</td><td>4.6</td><td>0.6</td><td>0.072</td><td>0.004</td><td>-0.0059999999999999915</td><td>0.015</td><td>0.023000000000000007</td><td>0.01</td><td>0.01100000000000001</td><td>0.008</td><td>0.009000000000000008</td><td>0.004</td><td>0.0</td><td>0.003</td><td>0.024000000000000007</td><td>0.01</td><td>0.020000000000000004</td><td>0.004</td><td>0.016</td><td>0.007</td><td>0.008000000000000007</td><td>0.005</td><td>-0.001999999999999988</td><td>0.005</td><td>0.008000000000000007</td><td>0.004</td><td>-0.0049999999999999906</td><td>0.004</td><td>0.01100000000000001</td><td>0.006</td><td>0.037000000000000005</td><td>0.005</td><td>0.013999999999999999</td><td>0.01</td><td>0.013000000000000012</td><td>0.009</td><td>-0.001999999999999988</td><td>0.007</td><td>0.034</td><td>0.044</td><td>-0.021999999999999992</td><td>0.01</td><td>0.09500000000000001</td><td>0.01</td><td>-0.022999999999999993</td><td>0.008</td><td>0.021000000000000005</td><td>0.02</td><td>0.04200000000000001</td><td>0.023</td><td>0.01200000000000001</td><td>0.005</td><td>0.009000000000000008</td><td>0.008</td><td>-0.011599999999999994</td><td>0.02</td><td>0.0030000000000000027</td><td>0.01</td><td>0.01100000000000001</td><td>0.024</td><td>0.01150000000000001</td><td>0.01</td></tr>\n",
       "<tr><td>HIP89650</td><td>4.6</td><td>0.5</td><td>-0.015</td><td>0.003</td><td>0.047</td><td>0.014</td><td>0.032</td><td>0.009</td><td>0.036000000000000004</td><td>0.011</td><td>0.023</td><td>0.003</td><td>0.015</td><td>0.004</td><td>0.033</td><td>0.024</td><td>0.0</td><td>0.004</td><td>0.012</td><td>0.005</td><td>-0.005000000000000001</td><td>0.005</td><td>0.03</td><td>0.004</td><td>0.008</td><td>0.004</td><td>0.027999999999999997</td><td>0.004</td><td>0.019</td><td>0.007</td><td>-0.046</td><td>0.004</td><td>-0.046</td><td>0.011</td><td>-0.022</td><td>0.013</td><td>-0.025</td><td>0.007</td><td>0.064</td><td>0.052</td><td>0.018</td><td>0.013</td><td>0.127</td><td>0.011</td><td>0.027</td><td>0.01</td><td>0.034</td><td>0.006</td><td>0.111</td><td>0.008</td><td>0.0009999999999999992</td><td>0.005</td><td>0.034</td><td>0.066</td><td>0.03511111111111111</td><td>0.009000000000000001</td><td>0.0057777777777777775</td><td>0.009000000000000001</td><td>0.025769230769230766</td><td>0.013000000000000001</td><td>0.0007272727272727271</td><td>0.011</td></tr>\n",
       "<tr><td>HIP9349</td><td>0.7</td><td>0.4</td><td>-0.006</td><td>0.005</td><td>0.003</td><td>0.011</td><td>-0.042</td><td>0.012</td><td>-0.034</td><td>0.015</td><td>-0.048</td><td>0.004</td><td>-0.023</td><td>0.003</td><td>-0.017</td><td>0.013</td><td>0.023</td><td>0.006</td><td>0.003</td><td>0.008</td><td>-0.013</td><td>0.008</td><td>-0.038</td><td>0.007</td><td>-0.047</td><td>0.006</td><td>-0.078</td><td>0.033</td><td>-0.058</td><td>0.012</td><td>0.084</td><td>0.007</td><td>0.063</td><td>0.008</td><td>0.07300000000000001</td><td>0.01</td><td>0.137</td><td>0.007</td><td>0.07200000000000001</td><td>0.033</td><td>0.11</td><td>0.014</td><td>0.14300000000000002</td><td>0.011</td><td>0.11</td><td>0.01</td><td>0.06</td><td>0.034</td><td>0.052</td><td>0.012</td><td>0.036</td><td>0.005</td><td>0.043</td><td>0.03</td><td>-0.0395</td><td>0.014</td><td>-0.005076923076923077</td><td>0.013000000000000001</td><td>-0.010000000000000002</td><td>0.024</td><td>0.0098125</td><td>0.016</td></tr>\n",
       "<tr><td>HIP95962</td><td>6.0</td><td>0.3</td><td>0.029</td><td>0.003</td><td>0.0019999999999999983</td><td>0.004</td><td>0.030999999999999996</td><td>0.013</td><td>0.015999999999999997</td><td>0.005</td><td>0.021</td><td>0.006</td><td>0.009999999999999998</td><td>0.003</td><td>0.022999999999999996</td><td>0.008</td><td>0.008999999999999998</td><td>0.005</td><td>0.005000000000000001</td><td>0.004</td><td>0.012</td><td>0.004</td><td>0.009999999999999998</td><td>0.005</td><td>0.014999999999999996</td><td>0.003</td><td>0.028</td><td>0.005</td><td>0.006999999999999996</td><td>0.009</td><td>-0.018000000000000002</td><td>0.004</td><td>-0.026000000000000002</td><td>0.006</td><td>-0.033</td><td>0.007</td><td>-0.026000000000000002</td><td>0.005</td><td>-0.026000000000000002</td><td>0.016</td><td>-0.027000000000000003</td><td>0.007</td><td>0.07</td><td>0.005</td><td>-0.025</td><td>0.011</td><td>-0.017</td><td>0.006</td><td>-0.019000000000000003</td><td>0.012</td><td>0.0019999999999999983</td><td>0.004</td><td>-0.014000000000000002</td><td>0.019</td><td>0.018750000000000003</td><td>0.008</td><td>0.0037777777777777775</td><td>0.009000000000000001</td><td>0.009333333333333334</td><td>0.020999999999999998</td><td>-0.004</td><td>0.008</td></tr>\n",
       "<tr><td>HIP96160</td><td>2.6</td><td>0.5</td><td>-0.036</td><td>0.003</td><td>0.023</td><td>0.007</td><td>-0.015</td><td>0.014</td><td>0.0</td><td>0.01</td><td>-0.015</td><td>0.003</td><td>0.000999999999999994</td><td>0.004</td><td>0.016999999999999998</td><td>0.013</td><td>0.023999999999999997</td><td>0.005</td><td>0.009999999999999998</td><td>0.007</td><td>-0.019000000000000003</td><td>0.004</td><td>-0.009000000000000001</td><td>0.006</td><td>-0.031000000000000007</td><td>0.004</td><td>-0.04900000000000001</td><td>0.013</td><td>-0.028000000000000004</td><td>0.008</td><td>0.053</td><td>0.005</td><td>0.046</td><td>0.009</td><td>0.066</td><td>0.011</td><td>0.07100000000000001</td><td>0.005</td><td>0.10699999999999998</td><td>0.02</td><td>0.095</td><td>0.016</td><td>0.185</td><td>0.016</td><td>0.098</td><td>0.008</td><td>0.046</td><td>0.03</td><td>0.099</td><td>0.009</td><td>0.051</td><td>0.006</td><td>0.074</td><td>0.019</td><td>-0.0325</td><td>0.008</td><td>0.009727272727272723</td><td>0.011</td><td>0.0014999999999999974</td><td>0.018</td><td>0.009999999999999998</td><td>0.013000000000000001</td></tr>\n",
       "</table>"
      ],
      "text/plain": [
       "<Table length=79>\n",
       "star_name   age   age_err ...           Cr                  Cr_err       \n",
       "  bytes9  float64 float64 ...        float64               float64       \n",
       "--------- ------- ------- ... ---------------------- --------------------\n",
       " HIP10175     3.2     0.4 ...   0.007750000000000001                0.012\n",
       "HIP101905     1.2     0.3 ...  -0.004749999999999994                0.016\n",
       "HIP102040     2.4     0.4 ...  -0.007249999999999993                0.016\n",
       "HIP102152     8.6     0.3 ...  -0.002230769230769232                0.013\n",
       " HIP10303     5.8     0.4 ...    0.00758333333333334                0.012\n",
       "HIP104045     4.5     0.5 ...  0.0030000000000000053                 0.01\n",
       "HIP105184     0.7     0.4 ...   0.009666666666666665 0.018000000000000002\n",
       "HIP108158     8.1     0.3 ...   0.018047619047619045                0.021\n",
       "HIP108468     7.0     0.3 ... -0.0011538461538461511                0.013\n",
       "HIP109821     8.9     0.3 ...  -0.005499999999999998                 0.01\n",
       "      ...     ...     ... ...                    ...                  ...\n",
       " HIP79672     4.0     0.4 ...   0.007363636363636365                0.011\n",
       " HIP81746     8.1     0.3 ... -0.0037272727272727314                0.011\n",
       " HIP83276     7.4     0.3 ...  -0.004705882352941176                0.017\n",
       " HIP85042     7.8     0.3 ... -0.0028888888888888875 0.009000000000000001\n",
       "  HIP8507     4.8     0.5 ...  0.0066363636363636425                0.011\n",
       " HIP87769     4.6     0.6 ...    0.01150000000000001                 0.01\n",
       " HIP89650     4.6     0.5 ...  0.0007272727272727271                0.011\n",
       "  HIP9349     0.7     0.4 ...              0.0098125                0.016\n",
       " HIP95962     6.0     0.3 ...                 -0.004                0.008\n",
       " HIP96160     2.6     0.5 ...   0.009999999999999998 0.013000000000000001"
      ]
     },
     "execution_count": 84,
     "metadata": {},
     "output_type": "execute_result"
    }
   ],
   "source": [
    "t"
   ]
  },
  {
   "cell_type": "code",
   "execution_count": null,
   "metadata": {},
   "outputs": [],
   "source": [
    "def stellar_abundance_plot(star):\n",
    "    for i, txt in enumerate(t['star_name']):\n",
    "        if txt == star:\n",
    "            tbl = t[i] #inputted star's row                                                                                                                                                                \n",
    "\n",
    "    star_elements =[]\n",
    "    elnames = tbl.columns[3:64]\n",
    "    for n in elnames:\n",
    "        if len(n) < 3 :\n",
    "            star_elements.append(n)\n",
    "            star_elements #list of elements in that star                                                                                                                                                   \\\n",
    "                                                                                                                                                                                                            \n",
    "\n",
    "    star_abundance = []\n",
    "    for n in star_elements:\n",
    "        star_abundance.append(tbl[n])\n",
    "        star_abundance #list of element abundances                                                                                                                                                         \\\n",
    "                                                                                                                                                                                                            \n",
    "\n",
    "    star_con_temp = []\n",
    "    for n in star_elements:\n",
    "        star_con_temp.append(tc_map[n])\n",
    "        star_con_temp #condensation temperatures for stellar elements                                                                                                                                      \\\n",
    "                                                                                                                                                                                                            \n",
    "    new=np.array(star_con_temp)\n",
    "\n",
    "    star_error_elements = []\n",
    "    for r in elnames:\n",
    "        if len(r) > 3 :\n",
    "            star_error_elements.append(r)\n",
    "\n",
    "    el_error = []\n",
    "    for k in star_error_elements:\n",
    "        el_error.append(tbl[k])\n",
    "        el_error #list of error values for elements                                                                                                                                                         \n",
    "\n",
    "    for x, txt in enumerate(star_abundance):\n",
    "        if (math.isnan(txt) == True):\n",
    "            del star_elements[x]\n",
    "            del star_abundance[x]\n",
    "            del star_con_temp[x]\n",
    "            del el_error[x]\n",
    "\n",
    "    star_table = Table([star_elements, star_abundance, el_error, star_con_temp], names=('Element', 'Abundance',\n",
    "        'Abundance Error','Condensation Temp'))\n",
    "\n",
    "    plt.ioff()\n",
    "    fig, ax = plt.subplots()\n",
    "\n",
    "    ax.scatter(star_con_temp, star_abundance)\n",
    "    ax.set_xlabel('Tc',fontsize='xx-large', family='sans-serif')\n",
    "    ax.set_ylabel('Element Abundance', fontsize='xx-large', family='sans-serif')\n",
    "    ax.set_title('Temperature vs Element Abundance for {0}'.format(star), fontsize= 'xx-large', family='sans-serif')\n",
    "\n",
    "    #point labels                                                                                                                                                                                          \\\n",
    "                                                                                                                                                                                                            \n",
    "    for i, txt in enumerate(star_elements):\n",
    "            ax.annotate(txt, xy=(star_con_temp[i], star_abundance[i]), xytext=(-13,-6),\n",
    "                textcoords='offset points', ha='center', va='bottom')\n",
    "\n",
    "    jk= jackknifemb(star_con_temp, star_abundance, el_error)\n",
    "    for i, txt in enumerate (jk[0]):\n",
    "        plot_xs = np.arange(0, 1750, .1)\n",
    "        ax.plot(plot_xs, jk[0][i] * plot_xs + (jk[1][i]), color = 'lightgray', linewidth=0.1)\n",
    "\n",
    "    #error bars                                                                                                                                                                                            \\\n",
    "                                                                                                                                                                                                            \n",
    "    ax.errorbar(star_con_temp, star_abundance, yerr= el_error, fmt='o', color='black',\n",
    "                 ecolor='lightsteelblue', elinewidth=3,capsize=0)\n",
    "\n",
    "    #line of best fit m,b values                                                                                                                                                                           \\\n",
    "                                                                                                                                                                                                            \n",
    "    mb = find_m_b(star_con_temp, star_abundance, el_error)\n",
    "    plot_xs = np.arange(0, 1750, .1)\n",
    "    ax.plot(plot_xs, (mb[0]) * plot_xs + (mb[1]), color='teal')\n",
    "\n",
    "    fig.savefig(star+'.png')\n",
    "    plt.close(fig)"
   ]
  }
 ],
 "metadata": {
  "kernelspec": {
   "display_name": "Python 3",
   "language": "python",
   "name": "python3"
  },
  "language_info": {
   "codemirror_mode": {
    "name": "ipython",
    "version": 3
   },
   "file_extension": ".py",
   "mimetype": "text/x-python",
   "name": "python",
   "nbconvert_exporter": "python",
   "pygments_lexer": "ipython3",
   "version": "3.7.0"
  }
 },
 "nbformat": 4,
 "nbformat_minor": 2
}
