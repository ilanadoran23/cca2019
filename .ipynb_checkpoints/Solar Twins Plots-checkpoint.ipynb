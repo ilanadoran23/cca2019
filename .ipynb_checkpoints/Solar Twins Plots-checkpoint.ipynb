{
 "cells": [
  {
   "cell_type": "markdown",
   "metadata": {},
   "source": [
    "from astropy.table import Table\n",
    "%matplotlib inline  \n",
    "import matplotlib.pyplot as plt\n",
    "import numpy as np\n",
    "import random\n",
    "import math\n",
    "import statistics\n",
    "import scipy \n",
    "from condensation_temperature import * \n",
    "\n",
    "fig_size = plt.rcParams[\"figure.figsize\"]\n",
    "fig_size[0] = 9\n",
    "fig_size[1] = 6\n",
    "plt.rcParams[\"figure.figsize\"] = fig_size"
   ]
  },
  {
   "cell_type": "markdown",
   "metadata": {},
   "source": [
    "t= Table.read('solar_twins_data.fits') #fits file as table "
   ]
  },
  {
   "cell_type": "markdown",
   "metadata": {},
   "source": [
    "def find_stellar_abundances(star):\n",
    "    for i, txt in enumerate(t['star_name']):\n",
    "        if txt == star:\n",
    "            tbl = t[i] #inputted star's row\n",
    "            tbl\n",
    "\n",
    "    star_elements =[]\n",
    "    elnames = tbl.columns[3:64]\n",
    "    for n in elnames:\n",
    "        if len(n) < 3 :\n",
    "            star_elements.append(n)\n",
    "            star_elements #list of elements in that star\n",
    "    \n",
    "    star_abundance = []\n",
    "    for n in star_elements:\n",
    "        star_abundance.append(tbl[n])\n",
    "        star_abundance #list of element abundances\n",
    "        \n",
    "    star_con_temp = []\n",
    "    for n in star_elements:\n",
    "        star_con_temp.append(tc_map[n])\n",
    "        star_con_temp #condensation temperatures for stellar elements\n",
    "    \n",
    "    star_error_elements = []\n",
    "    for r in elnames:\n",
    "        if len(r) > 3 :\n",
    "            star_error_elements.append(r) #list of elements recorded in star\n",
    "\n",
    "    el_error = []\n",
    "    for k in star_error_elements:\n",
    "        el_error.append(tbl[k])\n",
    "        el_error #list of error values for elements\n",
    "    \n",
    "    star_table = Table([star_elements, star_abundance, el_error, star_con_temp], names=('Element', 'Abundance',\n",
    "        'Abundance Error','Condensation Temp')) #table of temperature vs abundance for elements \n",
    "    return star_table"
   ]
  },
  {
   "cell_type": "markdown",
   "metadata": {},
   "source": [
    "#function for returning the best slope and intercept using linear algebra\n",
    "#[m b] = [A^T C^-1 A]^-1 [A^T C^-1 Y]\n",
    "def find_m_b(x,y,err):\n",
    "    errorsq = np.square(err)\n",
    "    C = np.diag(errorsq)\n",
    "    xb = ([1] * len(x))\n",
    "    mata = []\n",
    "        \n",
    "    for z, txt in enumerate(x):\n",
    "        mata.append(x[z])\n",
    "        mata.append(xb[z])\n",
    "            \n",
    "    A= np.matrix(mata).reshape((len(x), 2))\n",
    "    At = np.transpose(A)\n",
    "    invC = np.linalg.inv(C)\n",
    "    pt1 = np.dot(At, np.dot(invC,A))\n",
    "    invpt1= np.linalg.inv(pt1)\n",
    "    pt2 = np.dot(At, np.dot(invC, y)).T\n",
    "    cov = np.dot(invpt1, pt2)\n",
    "        \n",
    "    m_= float(cov[0])\n",
    "    b_= float(cov[1])\n",
    "    return m_,b_ "
   ]
  },
  {
   "cell_type": "markdown",
   "metadata": {},
   "source": [
    "#jackknife method for determining other possible values of m and b \n",
    "def jackknifemb(_tp,_ab,_er):\n",
    "    N=1000\n",
    "    l=list(np.copy(_tp))\n",
    "    k=list(np.copy(_ab))\n",
    "    s=list(np.copy(_er))\n",
    "    jackm= []\n",
    "    jackb= [] \n",
    "    h=0\n",
    "    \n",
    "    #leaving out one point from data set and calculating m, b for each instance\n",
    "    while h<N:\n",
    "        w = random.randint(0, 29)\n",
    "        del l[w]\n",
    "        del k[w]\n",
    "        del s[w] #removing one data set from lists \n",
    "    \n",
    "        jk_mb = find_m_b(l,k,s)\n",
    "        jk_m = jk_mb[0]\n",
    "        jk_b = jk_mb[1]\n",
    "\n",
    "        jackm.append(jk_m)\n",
    "        jackb.append(jk_b)\n",
    "            \n",
    "        l=list(np.copy(_tp))\n",
    "        k=list(np.copy(_ab))\n",
    "        s=list(np.copy(_er))\n",
    "        h=h+1 \n",
    "        \n",
    "    return jackm, jackb"
   ]
  },
  {
   "cell_type": "markdown",
   "metadata": {},
   "source": [
    "def stellar_abundance_plot(star): \n",
    "    for i, txt in enumerate(t['star_name']):\n",
    "        if txt == star:\n",
    "            tbl = t[i] #inputted star's row\n",
    "            tbl\n",
    "\n",
    "    star_elements =[]\n",
    "    elnames = tbl.columns[3:64]\n",
    "    for n in elnames:\n",
    "        if len(n) < 3 :\n",
    "            star_elements.append(n)\n",
    "            star_elements #list of elements in that star\n",
    "    \n",
    "    star_abundance = []\n",
    "    for n in star_elements:\n",
    "        star_abundance.append(tbl[n])\n",
    "        star_abundance #list of element abundances\n",
    "        \n",
    "    star_con_temp = []\n",
    "    for n in star_elements:\n",
    "        star_con_temp.append(tc_map[n])\n",
    "        star_con_temp #condensation temperatures for stellar elements\n",
    "    new=np.array(star_con_temp)\n",
    "    \n",
    "    star_error_elements = []\n",
    "    for r in elnames:\n",
    "        if len(r) > 3 :\n",
    "            star_error_elements.append(r)\n",
    "\n",
    "    el_error = []\n",
    "    for k in star_error_elements:\n",
    "        el_error.append(tbl[k])\n",
    "        el_error #list of error values for elements\n",
    "    \n",
    "    star_table = Table([star_elements, star_abundance, el_error, star_con_temp], names=('Element', 'Abundance',\n",
    "        'Abundance Error','Condensation Temp'))\n",
    "\n",
    "    plt.scatter(star_con_temp, star_abundance)\n",
    "    plt.xlabel('Tc',fontsize='xx-large', family='sans-serif')\n",
    "    plt.ylabel('Element Abundance', fontsize='xx-large', family='sans-serif')\n",
    "    plt.title('Temperature vs Element Abundance for {0}'.format(star), fontsize= 'xx-large', family='sans-serif')\n",
    "\n",
    "    #point labels\n",
    "    for i, txt in enumerate(star_elements):\n",
    "            plt.annotate(txt, xy=(star_con_temp[i], star_abundance[i]), xytext=(-13,-6), \n",
    "                textcoords='offset points', ha='center', va='bottom')\n",
    "            \n",
    "    jk= jackknifemb(star_con_temp, star_abundance, el_error)\n",
    "    for i, txt in enumerate (jk[0]):\n",
    "        plt.scatter(star_con_temp, star_abundance)\n",
    "        plt.xlabel('Tc',fontsize='xx-large', family='sans-serif')\n",
    "        plt.ylabel('Element Abundance', fontsize='xx-large', family='sans-serif')\n",
    "        plt.title('Temperature vs Element Abundance', fontsize= 'xx-large', family='sans-serif')\n",
    "\n",
    "        temparray=np.array(star_con_temp)\n",
    "        plot_xs = np.arange(0, 1750, .1)\n",
    "        plt.plot(plot_xs, jk[0][i] * plot_xs + (jk[1][i]), color = 'lightgray', linewidth=0.1)\n",
    "    \n",
    "    #error bars\n",
    "    plt.errorbar(star_con_temp, star_abundance, yerr= el_error, fmt='o', color='black',\n",
    "                 ecolor='lightsteelblue', elinewidth=3,capsize=0)\n",
    "    \n",
    "    #line of best fit m,b values\n",
    "\n",
    "    mb = find_m_b(star_con_temp, star_abundance, el_error)    \n",
    "    plot_xs = np.arange(1750)\n",
    "    plt.plot(plot_xs, (mb[0]) * plot_xs + (mb[1]), color='teal') \n",
    "    plt.savefig(star+'.png')"
   ]
  },
  {
   "cell_type": "markdown",
   "metadata": {},
   "source": [
    "#chi squared :  [Y - AX]^T C^-1 [Y - AX]\n",
    "def chisquared(param, x, y, erro): \n",
    "    ab = ([1] * len(x))\n",
    "    Amat = []\n",
    "    for z, txt in enumerate(x):\n",
    "        Amat.append(x[z])\n",
    "        Amat.append(ab[z])  \n",
    "    A= np.array(Amat).reshape((len(x), 2))\n",
    "\n",
    "    errorsq = np.square(erro)\n",
    "    C = np.diag(errorsq)\n",
    "    invsC = np.linalg.inv(C)\n",
    "\n",
    "    AT= np.transpose(A)\n",
    "    part1 = np.dot(AT, np.dot(invsC, A))\n",
    "    invprt1= np.linalg.inv(part1)\n",
    "    part2 = np.dot(AT, np.dot(invsC, y)).T\n",
    "    X = np.dot(invprt1, part2)\n",
    "    [X[0], X[1]] = param\n",
    "    AX = np.dot(A,X)\n",
    "    \n",
    "    yax = (y - AX)\n",
    "    yaxT = np.transpose(yax)\n",
    "    yaxTinvsC = np.dot(yaxT, invsC)\n",
    "\n",
    "    chisq = (np.dot(yaxTinvsC, yax))\n",
    "    return (chisq)"
   ]
  },
  {
   "cell_type": "markdown",
   "metadata": {},
   "source": [
    "def standardslopeerror(tem, abund, err):\n",
    "    errorsq = np.square(err)\n",
    "    errorC = np.diag(errorsq)\n",
    "    abu = ([1] * len(tem))\n",
    "    atemper = np.copy(tem)\n",
    "    matri = []\n",
    "        \n",
    "    for z, txt in enumerate(atemper):\n",
    "        matri.append(atemper[z])\n",
    "        matri.append(abu[z])\n",
    "            \n",
    "    aa= np.matrix(matri).reshape((len(tem), 2))\n",
    "    Att = np.transpose(aa)\n",
    "    inverrorC = np.linalg.inv(errorC)\n",
    "    prt1 = np.dot(Att, np.dot(inverrorC,aa))\n",
    "    invt1= np.linalg.inv(prt1)\n",
    "    prt2 = np.dot(Att, np.dot(inverrorC, abund)).T\n",
    "    covar = np.dot(invt1, prt2)\n",
    "        \n",
    "    _m_= float(covar[0])\n",
    "    _b_= float(covar[1]) #standard slope, intercept values found with linalg \n",
    "    \n",
    "    inbrackets = np.dot(Att, np.dot(inverrorC, aa))\n",
    "    sserror = np.linalg.inv(inbrackets)\n",
    "    #sserror = [σ^2m, σmb, σmb, σ^2b]\n",
    "    sse = np.sqrt(sserror[0,0]) #standard slope error\n",
    "    return sse"
   ]
  },
  {
   "cell_type": "markdown",
   "metadata": {},
   "source": [
    "def standardintercepterror(tem, abund, err):\n",
    "    errorsq = np.square(err)\n",
    "    errorC = np.diag(errorsq)\n",
    "    abu = ([1] * len(tem))\n",
    "    atemper = np.copy(tem)\n",
    "    matri = []\n",
    "        \n",
    "    for z, txt in enumerate(atemper):\n",
    "        matri.append(atemper[z])\n",
    "        matri.append(abu[z])\n",
    "            \n",
    "    aa= np.matrix(matri).reshape((len(tem), 2))\n",
    "    Att = np.transpose(aa)\n",
    "    inverrorC = np.linalg.inv(errorC)\n",
    "    prt1 = np.dot(Att, np.dot(inverrorC,aa))\n",
    "    invt1= np.linalg.inv(prt1)\n",
    "    prt2 = np.dot(Att, np.dot(inverrorC, abund)).T\n",
    "    covar = np.dot(invt1, prt2)\n",
    "        \n",
    "    _m_= float(covar[0])\n",
    "    _b_= float(covar[1]) #standard slope, intercept values found with linalg \n",
    "    \n",
    "    inbrackets = np.dot(Att, np.dot(inverrorC, aa))\n",
    "    sserror = np.linalg.inv(inbrackets)\n",
    "    #sserror = [σ^2m, σmb, σmb, σ^2b]\n",
    "    sie = np.sqrt(sserror[1,1]) #standard slope error\n",
    "    return sie"
   ]
  },
  {
   "cell_type": "markdown",
   "metadata": {},
   "source": [
    "def error_star_table(tp, ab, er):\n",
    "    N=1000\n",
    "    l=list(np.copy(tp))\n",
    "    k=list(np.copy(ab))\n",
    "    s=list(np.copy(er))\n",
    "    jackm= []\n",
    "    jackb= [] \n",
    "    h=0\n",
    "    \n",
    "    #leaving out one point from data set and calculating m, b for each instance\n",
    "    while h<N:\n",
    "        w = random.randint(0, 29)\n",
    "        del l[w]\n",
    "        del k[w]\n",
    "        del s[w] #removing one data set from lists \n",
    "    \n",
    "        jk_mb = find_m_b(l,k,s)\n",
    "        jk_m = jk_mb[0]\n",
    "        jk_b = jk_mb[1]\n",
    "\n",
    "        jackm.append(jk_m)\n",
    "        jackb.append(jk_b)\n",
    "            \n",
    "        l=list(np.copy(tp))\n",
    "        k=list(np.copy(ab))\n",
    "        s=list(np.copy(er))\n",
    "        h=h+1 \n",
    "    jackm\n",
    "    jackb\n",
    "    slopeer = standardslopeerror(tp,ab,er)\n",
    "    interer= standardintercepterror(tp,ab,er)\n",
    "    slopeintercept = find_m_b(tp,ab,er)\n",
    "    \n",
    "    error_type = ['slope', 'intercept']\n",
    "    a = [slopeintercept[0], slopeintercept[1]]\n",
    "    c = [statistics.stdev(jackm),statistics.stdev(jackb)]\n",
    "    d = [slopeer, interer]\n",
    "    tab = Table([error_type,a, c, d], names=('error type', 'value','standard dev', \n",
    "                                              'linear algebra uncertainty'))\n",
    "    return tab"
   ]
  },
  {
   "cell_type": "code",
   "execution_count": 217,
   "metadata": {},
   "outputs": [
    {
     "data": {
      "text/plain": [
       "      fun: 2416.247135631966\n",
       " hess_inv: array([[ 8.19974706e-12, -1.11252441e-08],\n",
       "       [-1.11252441e-08,  1.55673432e-05]])\n",
       "      jac: array([33.89880371, -2.70437622])\n",
       "  message: 'Desired error not necessarily achieved due to precision loss.'\n",
       "     nfev: 308\n",
       "      nit: 2\n",
       "     njev: 74\n",
       "   status: 2\n",
       "  success: False\n",
       "        x: array([ 9.41978671e-05, -1.21252981e-01])"
      ]
     },
     "execution_count": 217,
     "metadata": {},
     "output_type": "execute_result"
    }
   ],
   "source": [
    "x0 = [9e-5,.1]\n",
    "res = scipy.optimize.minimize(chisquared, x0, args=(temp, abundance, error))\n",
    "res"
   ]
  },
  {
   "cell_type": "markdown",
   "metadata": {},
   "source": [
    "mbvalues = []\n",
    "jackknifevalues = []\n",
    "x0 = [9e-5,.1]\n",
    "chivalues = []\n",
    "\n",
    "for i, txt in enumerate(t['star_name']):\n",
    "    tabl = find_stellar_abundances(txt)\n",
    "    \n",
    "    temperature= tabl.columns[3]\n",
    "    elementab = tabl.columns[1]\n",
    "    aberrors =tabl.columns[2]\n",
    "    \n",
    "    mbvalues.append(find_m_b(temperature,elementab, aberrors))\n",
    "    jackknifevalues.append(jackknifemb(temperature, elementab, aberrors))\n",
    "    chivalues.append(chisquared(x0, temperature, elementab, aberrors))\n",
    "    print(txt)\n",
    "    print(error_star_table(temperature, elementab, aberrors))\n",
    "    \n",
    "print(mbvalues)\n",
    "print(jackknifevalues)\n",
    "print(chivalues)"
   ]
  },
  {
   "cell_type": "code",
   "execution_count": 273,
   "metadata": {},
   "outputs": [
    {
     "name": "stdout",
     "output_type": "stream",
     "text": [
      "[(9.441261972252866e-05, -0.12154306680819207), (2.927457895436128e-05, -0.04285991386147406), (6.368249462356181e-05, -0.08685829672533484), (-1.8445067987356295e-05, 0.014050812933841583), (2.3274808013430356e-05, -0.0131944058129142), (2.505431908707452e-05, -0.030779295893577058), (0.0001575979705541044, -0.19404098289481952), (-3.431694803068992e-05, 0.09087679403606153), (1.8754708698635859e-06, -0.016599129150157987), (4.870679888575749e-05, -0.06066141013146903), (nan, nan), (0.00010302974510284952, -0.11931052962859534), (-4.153639115862416e-05, 0.09624934603763946), (-2.828882433842289e-05, 0.05597923857757092), (-2.9870808510502076e-05, 0.04726073238867223), (-2.774737577513802e-05, 0.030206992736821675), (2.6121817129743294e-05, -0.040618425449989656), (-3.805039282462957e-05, 0.08246774006912838), (2.725157629918701e-05, -0.031844118914919936), (-4.508547857267763e-06, -0.017034940545975874), (-1.5089199208855985e-05, 0.036637450968081464), (3.468519492335837e-05, -0.0453118867706055), (0.00015332990811225568, -0.2009452436810627), (3.073662465823552e-05, -0.030137282761884793), (2.430414068735993e-05, 0.03546151382373819), (4.2218279590021404e-05, -0.06231554937884218), (0.000110499327477343, -0.14598856483290076), (6.664604208216204e-06, -0.0051290557363181805), (3.0819525198529703e-05, -0.02536851943334617), (-1.1911184886695013e-06, 0.021885203664102737), (2.7440719416584486e-05, -0.04393504569281953), (0.00013411991620709682, -0.17457767214397107), (-3.9442099036845774e-05, 0.10656335217040214), (1.3465434015311233e-05, -0.025896602809725278), (3.458574171590393e-07, -0.017286599032573347), (8.279180508361387e-05, -0.1180535583885836), (4.593910185282676e-05, -0.05795220209966495), (1.1750751809319485e-05, 0.01760019919754985), (7.171666159916908e-06, -0.011202641281847198), (7.70604925253813e-05, -0.10843185046861455), (9.473119921383111e-05, -0.11328806770799404), (-3.082052615844678e-05, 0.03675504266961019), (1.2889346942638008e-05, 0.002309129086060069), (3.890105493677758e-05, -0.059065278267028204), (0.00019750492271408964, -0.25377843750861506), (1.4519455561021579e-05, -0.007439803898094899), (7.601923427021356e-07, -0.013940260726743092), (0.00013451386542167958, -0.17898206671400096), (9.895264204283342e-06, 0.0023401903689949655), (8.140176408840376e-06, -0.02129620929234549), (-2.147248193169342e-05, 0.04819400452914824), (9.976502402237586e-05, -0.13193829428933673), (8.551271004494042e-05, -0.08004533182714502), (-3.320413334215588e-05, 0.047294538879336497), (2.512960821957835e-05, -0.036082712475539194), (-1.808231156760862e-05, 0.07290642293065841), (-6.600794142759526e-06, 0.027906366346413636), (-3.0118486493819166e-05, 0.049505819610509774), (2.647663357105472e-05, -0.022447667053957066), (3.1555848232936424e-05, -0.007983808885271615), (-1.9788729732043307e-05, 0.02956324887631278), (8.929816388526053e-05, -0.10609385280821654), (-5.486593096179233e-06, 0.0666348341902343), (7.298797293824033e-05, -0.0846270097084243), (-1.803382455390647e-05, 0.025159838281344486), (7.448640808299515e-05, -0.09516791632104393), (-5.967778837084284e-05, 0.08082454162027027), (4.581516333359832e-05, -0.05154491921058868), (-3.0496776003828362e-05, 0.0420432412564042), (4.360575237922251e-05, -0.04919901131385654), (-8.544135301504462e-06, 0.006456249690376753), (-1.2486238110412655e-05, -0.0038114887663719954), (3.9309207168216676e-05, -0.04460032198829389), (7.135031299783349e-05, -0.10480326301416307), (9.614562739093788e-06, 0.0008098665743972999), (-1.541545220648752e-05, 0.030547720937635525), (4.9767979423243124e-05, -0.06457682094213596), (-7.14978349739295e-06, 0.017481065884217564), (2.898908954735395e-05, -0.03454152794629879)]\n",
      "[]\n",
      "[51550.12981156721, 40006.96023571154, 35260.14403924877, 42302.47731055932, 44775.08566264967, 51250.543012740556, 22299.34309513471, 27794.510059498338, 52245.6692524119, 37562.942325690434, nan, 24508.148587372438, 36576.98177392084, 47760.776599636265, 43447.94311696831, 47393.64874504214, 52214.91826513008, 39760.51761277682, 33738.83586541339, 59109.91631887948, 46652.16861593288, 63153.1168426149, 20090.362322617795, 42094.773999689656, 39322.61966089871, 57228.48947748907, 11461.411804526517, 28794.71447649529, 49627.39790189484, 39214.28964341132, 45894.35948446783, 15182.744121728596, 11533.746393333662, 37382.9570037474, 93681.2039053693, 11817.961143286659, 15072.759903823162, 38555.82778334484, 59530.71099513621, 22735.568829458156, 34930.76300648039, 50668.63058757187, 37351.44080611605, 51611.12808217574, 14694.807486650712, 45499.664862625854, 43940.087470280705, 25200.172886294917, 32875.481547194184, 33128.9313481211, 32360.980095142637, 15215.1888984921, 46775.73683754693, 30461.64244576045, 35083.412189050905, 22945.932262837887, 35010.64910153006, 35712.31563938777, 51983.0192822071, 19685.364522320353, 68758.61334470205, 38016.90364794714, 17499.08815905373, 47985.15151162773, 53939.36775928733, 49695.41496204349, 41470.67469019084, 45186.546720553844, 37167.09153333951, 67718.24578192327, 50146.75984668969, 25363.378843802144, 40600.05470421333, 99769.48707020603, 35192.507150190424, 42944.81143968845, 26251.08344577113, 50478.43757498617, 37410.504789927596]\n"
     ]
    }
   ],
   "source": [
    "run solartwins.py"
   ]
  },
  {
   "cell_type": "code",
   "execution_count": 265,
   "metadata": {},
   "outputs": [],
   "source": [
    "from solartwins import find_stellar_abundances"
   ]
  },
  {
   "cell_type": "code",
   "execution_count": 272,
   "metadata": {},
   "outputs": [
    {
     "data": {
      "text/html": [
       "<i>Table length=30</i>\n",
       "<table id=\"table73468933344\" class=\"table-striped table-bordered table-condensed\">\n",
       "<thead><tr><th>Element</th><th>Abundance</th><th>Abundance Error</th><th>Condensation Temp</th></tr></thead>\n",
       "<thead><tr><th>str2</th><th>float64</th><th>float64</th><th>float64</th></tr></thead>\n",
       "<tr><td>Fe</td><td>-0.017</td><td>0.004</td><td>1334.0</td></tr>\n",
       "<tr><td>O</td><td>nan</td><td>nan</td><td>180.0</td></tr>\n",
       "<tr><td>Na</td><td>0.034</td><td>0.003</td><td>958.0</td></tr>\n",
       "<tr><td>Mg</td><td>0.029</td><td>0.009</td><td>1336.0</td></tr>\n",
       "<tr><td>Al</td><td>0.036000000000000004</td><td>0.002</td><td>1653.0</td></tr>\n",
       "<tr><td>Si</td><td>0.024</td><td>0.004</td><td>1310.0</td></tr>\n",
       "<tr><td>S</td><td>0.07500000000000001</td><td>0.013</td><td>664.0</td></tr>\n",
       "<tr><td>Ca</td><td>0.010000000000000002</td><td>0.005</td><td>1517.0</td></tr>\n",
       "<tr><td>V</td><td>0.013000000000000001</td><td>0.005</td><td>1429.0</td></tr>\n",
       "<tr><td>Mn</td><td>0.006000000000000002</td><td>0.004</td><td>1158.0</td></tr>\n",
       "<tr><td>...</td><td>...</td><td>...</td><td>...</td></tr>\n",
       "<tr><td>Pr</td><td>0.051000000000000004</td><td>0.012</td><td>1582.0</td></tr>\n",
       "<tr><td>Nd</td><td>0.009000000000000001</td><td>0.015</td><td>1602.0</td></tr>\n",
       "<tr><td>Sm</td><td>-0.006999999999999999</td><td>0.011</td><td>1590.0</td></tr>\n",
       "<tr><td>Eu</td><td>0.07300000000000001</td><td>0.015</td><td>1356.0</td></tr>\n",
       "<tr><td>Gd</td><td>-0.013999999999999999</td><td>0.006</td><td>1659.0</td></tr>\n",
       "<tr><td>Dy</td><td>0.061</td><td>0.013</td><td>1659.0</td></tr>\n",
       "<tr><td>C</td><td>0.07144444444444444</td><td>0.027000000000000003</td><td>40.0</td></tr>\n",
       "<tr><td>Ti</td><td>0.014090909090909095</td><td>0.011</td><td>1582.0</td></tr>\n",
       "<tr><td>Sc</td><td>0.028857142857142862</td><td>0.014</td><td>1659.0</td></tr>\n",
       "<tr><td>Cr</td><td>0.016666666666666666</td><td>0.015</td><td>1296.0</td></tr>\n",
       "</table>"
      ],
      "text/plain": [
       "<Table length=30>\n",
       "Element       Abundance         Abundance Error    Condensation Temp\n",
       "  str2         float64              float64             float64     \n",
       "------- --------------------- -------------------- -----------------\n",
       "     Fe                -0.017                0.004            1334.0\n",
       "      O                   nan                  nan             180.0\n",
       "     Na                 0.034                0.003             958.0\n",
       "     Mg                 0.029                0.009            1336.0\n",
       "     Al  0.036000000000000004                0.002            1653.0\n",
       "     Si                 0.024                0.004            1310.0\n",
       "      S   0.07500000000000001                0.013             664.0\n",
       "     Ca  0.010000000000000002                0.005            1517.0\n",
       "      V  0.013000000000000001                0.005            1429.0\n",
       "     Mn  0.006000000000000002                0.004            1158.0\n",
       "    ...                   ...                  ...               ...\n",
       "     Pr  0.051000000000000004                0.012            1582.0\n",
       "     Nd  0.009000000000000001                0.015            1602.0\n",
       "     Sm -0.006999999999999999                0.011            1590.0\n",
       "     Eu   0.07300000000000001                0.015            1356.0\n",
       "     Gd -0.013999999999999999                0.006            1659.0\n",
       "     Dy                 0.061                0.013            1659.0\n",
       "      C   0.07144444444444444 0.027000000000000003              40.0\n",
       "     Ti  0.014090909090909095                0.011            1582.0\n",
       "     Sc  0.028857142857142862                0.014            1659.0\n",
       "     Cr  0.016666666666666666                0.015            1296.0"
      ]
     },
     "execution_count": 272,
     "metadata": {},
     "output_type": "execute_result"
    }
   ],
   "source": [
    "find_stellar_abundances('HIP114328')"
   ]
  },
  {
   "cell_type": "code",
   "execution_count": 220,
   "metadata": {},
   "outputs": [
    {
     "name": "stdout",
     "output_type": "stream",
     "text": [
      "(9.441261972252866e-05, -0.12154306680819207)\n"
     ]
    },
    {
     "data": {
      "text/plain": [
       "<module 'matplotlib.pyplot' from '/Users/ilanadoran/anaconda3/lib/python3.7/site-packages/matplotlib/pyplot.py'>"
      ]
     },
     "execution_count": 220,
     "metadata": {},
     "output_type": "execute_result"
    },
    {
     "data": {
      "image/png": "[encoded data removed]",
      "text/plain": [
       "<Figure size 648x432 with 1 Axes>"
      ]
     },
     "metadata": {
      "needs_background": "light"
     },
     "output_type": "display_data"
    }
   ],
   "source": [
    "#test for HIP10175, HIP102152\n",
    "m_b = find_m_b(temp,abundance,error)\n",
    "print(m_b)\n",
    "stellar_abundance_plot('HIP102152')"
   ]
  },
  {
   "cell_type": "code",
   "execution_count": null,
   "metadata": {},
   "outputs": [],
   "source": []
  }
 ],
 "metadata": {
  "kernelspec": {
   "display_name": "Python 3",
   "language": "python",
   "name": "python3"
  },
  "language_info": {
   "codemirror_mode": {
    "name": "ipython",
    "version": 3
   },
   "file_extension": ".py",
   "mimetype": "text/x-python",
   "name": "python",
   "nbconvert_exporter": "python",
   "pygments_lexer": "ipython3",
   "version": "3.7.0"
  }
 },
 "nbformat": 4,
 "nbformat_minor": 2
}
