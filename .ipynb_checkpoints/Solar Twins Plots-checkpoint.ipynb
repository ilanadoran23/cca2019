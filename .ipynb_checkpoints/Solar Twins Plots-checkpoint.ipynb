{
 "cells": [
  {
   "cell_type": "code",
   "execution_count": 672,
   "metadata": {},
   "outputs": [],
   "source": [
    "from astropy.table import Table\n",
    "%matplotlib inline  \n",
    "import matplotlib.pyplot as plt\n",
    "import numpy as np\n",
    "from statistics import mean\n",
    "import random\n",
    "import math\n",
    "from random import randint\n",
    "\n",
    "fig_size = plt.rcParams[\"figure.figsize\"]\n",
    "fig_size[0] = 12\n",
    "fig_size[1] = 9\n",
    "plt.rcParams[\"figure.figsize\"] = fig_size"
   ]
  },
  {
   "cell_type": "code",
   "execution_count": 673,
   "metadata": {},
   "outputs": [],
   "source": [
    "t= Table.read('solar_twins_data.fits') #fits file as table "
   ]
  },
  {
   "cell_type": "code",
   "execution_count": 674,
   "metadata": {},
   "outputs": [
    {
     "data": {
      "text/plain": [
       "[<matplotlib.lines.Line2D at 0x81ec3a550>]"
      ]
     },
     "execution_count": 674,
     "metadata": {},
     "output_type": "execute_result"
    },
    {
     "data": {
      "image/png": "[encoded data removed]",
      "text/plain": [
       "<Figure size 864x648 with 1 Axes>"
      ]
     },
     "metadata": {
      "needs_background": "light"
     },
     "output_type": "display_data"
    }
   ],
   "source": [
    "#plot of star age vs Mg abundance from above table\n",
    "plt.scatter(t['age'], t['Mg'], c='r')  \n",
    "plt.xlabel('Age',fontsize='xx-large')\n",
    "plt.ylabel('Mg/Fe', fontsize='xx-large')\n",
    "plt.title('Mg Abundance vs. Stellar Age', fontsize='xx-large')\n",
    "plt.plot(np.unique(t['age']), np.poly1d(np.polyfit(t['age'], t['Mg'], 1))(np.unique(t['age'])), color='black')"
   ]
  },
  {
   "cell_type": "code",
   "execution_count": 675,
   "metadata": {},
   "outputs": [],
   "source": [
    "#importing all data from condensation_temperature\n",
    "from condensation_temperature import * "
   ]
  },
  {
   "cell_type": "code",
   "execution_count": 676,
   "metadata": {},
   "outputs": [],
   "source": [
    "#function that returns temp when given an element\n",
    "get_tc('O');"
   ]
  },
  {
   "cell_type": "code",
   "execution_count": 677,
   "metadata": {},
   "outputs": [],
   "source": [
    "#tc_map is a dictionary of elements : condensation temp\n",
    "#accessing temp from element with tc_map\n",
    "tc_map['O'];"
   ]
  },
  {
   "cell_type": "code",
   "execution_count": 678,
   "metadata": {},
   "outputs": [],
   "source": [
    "#creating a table of only one selected star\n",
    "HIP10175_tbl = t[0] \n",
    "HIP10175_tbl;"
   ]
  },
  {
   "cell_type": "code",
   "execution_count": 679,
   "metadata": {},
   "outputs": [],
   "source": [
    "#accessing only the element columns in the selected star's table and adding them to a list\n",
    "elements =[]\n",
    "tablenames = HIP10175_tbl.columns[3:64]\n",
    "for n in tablenames:\n",
    "    if len(n) < 3 :\n",
    "        elements.append(n)\n",
    "    elements"
   ]
  },
  {
   "cell_type": "code",
   "execution_count": 680,
   "metadata": {},
   "outputs": [],
   "source": [
    "#list of abundances, in the same order as the elements list\n",
    "abundance = []\n",
    "for n in elements:\n",
    "    abundance.append(HIP10175_tbl[n])\n",
    "abundance;"
   ]
  },
  {
   "cell_type": "code",
   "execution_count": 681,
   "metadata": {},
   "outputs": [
    {
     "data": {
      "text/plain": [
       "[1334.0,\n",
       " 180.0,\n",
       " 958.0,\n",
       " 1336.0,\n",
       " 1653.0,\n",
       " 1310.0,\n",
       " 664.0,\n",
       " 1517.0,\n",
       " 1429.0,\n",
       " 1158.0,\n",
       " 1352.0,\n",
       " 1353.0,\n",
       " 1037.0,\n",
       " 726.0,\n",
       " 1464.0,\n",
       " 1659.0,\n",
       " 1741.0,\n",
       " 1455.0,\n",
       " 1578.0,\n",
       " 1478.0,\n",
       " 1582.0,\n",
       " 1602.0,\n",
       " 1590.0,\n",
       " 1356.0,\n",
       " 1659.0,\n",
       " 1659.0,\n",
       " 40.0,\n",
       " 1582.0,\n",
       " 1659.0,\n",
       " 1296.0]"
      ]
     },
     "execution_count": 681,
     "metadata": {},
     "output_type": "execute_result"
    }
   ],
   "source": [
    "#list of condensation temps, in the same order as the elements list\n",
    "temp = []\n",
    "for n in elements:\n",
    "    temp.append(tc_map[n])\n",
    "temp"
   ]
  },
  {
   "cell_type": "code",
   "execution_count": 682,
   "metadata": {},
   "outputs": [
    {
     "name": "stdout",
     "output_type": "stream",
     "text": [
      "30\n"
     ]
    }
   ],
   "source": [
    "print(len(temp))"
   ]
  },
  {
   "cell_type": "code",
   "execution_count": 683,
   "metadata": {},
   "outputs": [],
   "source": [
    "#list of element_err\n",
    "error_elements = []\n",
    "for r in tablenames:\n",
    "    if len(r) > 3 :\n",
    "        error_elements.append(r)"
   ]
  },
  {
   "cell_type": "code",
   "execution_count": 684,
   "metadata": {},
   "outputs": [
    {
     "data": {
      "text/plain": [
       "[0.002,\n",
       " 0.009,\n",
       " 0.022,\n",
       " 0.007,\n",
       " 0.008,\n",
       " 0.003,\n",
       " 0.012,\n",
       " 0.005,\n",
       " 0.004,\n",
       " 0.005,\n",
       " 0.004,\n",
       " 0.003,\n",
       " 0.013,\n",
       " 0.006,\n",
       " 0.005,\n",
       " 0.007,\n",
       " 0.012,\n",
       " 0.005,\n",
       " 0.029,\n",
       " 0.016,\n",
       " 0.008,\n",
       " 0.01,\n",
       " 0.013,\n",
       " 0.005,\n",
       " 0.005,\n",
       " 0.005,\n",
       " 0.013000000000000001,\n",
       " 0.01,\n",
       " 0.020999999999999998,\n",
       " 0.012]"
      ]
     },
     "execution_count": 684,
     "metadata": {},
     "output_type": "execute_result"
    }
   ],
   "source": [
    "#list of error values for elements\n",
    "error = []\n",
    "for k in error_elements:\n",
    "    error.append(HIP10175_tbl[k])\n",
    "error"
   ]
  },
  {
   "cell_type": "code",
   "execution_count": 685,
   "metadata": {},
   "outputs": [],
   "source": [
    "#table of element, abundance and temperature\n",
    "from astropy.table import Table\n",
    "HIP10175_table = Table([elements, abundance, error, temp], names=('Element', 'Abundance',\n",
    "        'Abundance Error','Condensation Temp'))"
   ]
  },
  {
   "cell_type": "code",
   "execution_count": 686,
   "metadata": {},
   "outputs": [],
   "source": [
    "def find_m_b(x,y,err):\n",
    "    errsq = np.square(err)\n",
    "    errC = np.diag(errsq)\n",
    "    ab = ([1] * len(x))\n",
    "    atemp = x\n",
    "    mat = []\n",
    "        \n",
    "    for z, txt in enumerate(atemp):\n",
    "        mat.append(atemp[z])\n",
    "        mat.append(ab[z])\n",
    "            \n",
    "    a= np.matrix(mat).reshape((len(x), 2))\n",
    "    At = np.transpose(a)\n",
    "    inverrC = np.linalg.inv(errC)\n",
    "    pt1 = np.dot(At, np.dot(inverrC,a))\n",
    "    inv1= np.linalg.inv(pt1)\n",
    "    pt2 = np.dot(At, np.dot(inverrC, y)).T\n",
    "        \n",
    "    cov = np.dot(inv1, pt2)\n",
    "        \n",
    "    m_= float(cov[0])\n",
    "    b_= float(cov[1])\n",
    "    return m_,b_ "
   ]
  },
  {
   "cell_type": "code",
   "execution_count": 687,
   "metadata": {},
   "outputs": [
    {
     "name": "stdout",
     "output_type": "stream",
     "text": [
      "(9.441261972252866e-05, -0.12154306680819207)\n"
     ]
    }
   ],
   "source": [
    "m_b = find_m_b(temp,abundance,error)\n",
    "print(m_b)"
   ]
  },
  {
   "cell_type": "code",
   "execution_count": 688,
   "metadata": {},
   "outputs": [
    {
     "data": {
      "text/plain": [
       "[<matplotlib.lines.Line2D at 0x81ec55c50>]"
      ]
     },
     "execution_count": 688,
     "metadata": {},
     "output_type": "execute_result"
    },
    {
     "data": {
      "image/png": "[encoded data removed]",
      "text/plain": [
       "<Figure size 864x648 with 1 Axes>"
      ]
     },
     "metadata": {
      "needs_background": "light"
     },
     "output_type": "display_data"
    }
   ],
   "source": [
    "#plotting values for star temp and abundance\n",
    "plt.scatter(temp, abundance)\n",
    "plt.xlabel('Tc',fontsize='xx-large', family='sans-serif')\n",
    "plt.ylabel('Element Abundance', fontsize='xx-large', family='sans-serif')\n",
    "plt.title('Temperature vs Element Abundance', fontsize= 'xx-large', family='sans-serif')\n",
    "    \n",
    "#point labels\n",
    "for i, txt in enumerate(elements):\n",
    "    if txt == 'Y' :\n",
    "        plt.annotate(txt, xy=(temp[i], abundance[i]), xytext=(13,-6), \n",
    "           textcoords='offset points', ha='center', va='bottom')\n",
    "    elif txt == 'Co' :\n",
    "        plt.annotate(txt, xy=(temp[i], abundance[i]), xytext=(13,-6), \n",
    "            textcoords='offset points', ha='center', va='bottom') \n",
    "    else : \n",
    "        plt.annotate(txt, xy=(temp[i], abundance[i]), xytext=(-13,-6), \n",
    "            textcoords='offset points', ha='center', va='bottom')\n",
    "\n",
    "#error bars\n",
    "plt.errorbar(temp, abundance, yerr= error, fmt='o', color='black',\n",
    "                 ecolor='lightgray', elinewidth=3,capsize=0)\n",
    "m= m_b[0]\n",
    "b= m_b[1]\n",
    "\n",
    "temparray=np.array(temp)\n",
    "plot_xs = np.arange(1750)\n",
    "plt.plot(plot_xs, m * plot_xs + b, color='teal')"
   ]
  },
  {
   "cell_type": "code",
   "execution_count": 689,
   "metadata": {},
   "outputs": [
    {
     "name": "stdout",
     "output_type": "stream",
     "text": [
      "9.441261972252866e-05\n"
     ]
    }
   ],
   "source": [
    "print(m)"
   ]
  },
  {
   "cell_type": "code",
   "execution_count": 690,
   "metadata": {},
   "outputs": [],
   "source": [
    "#function that returns an table with an inputted star's elements, abundance, error and temp\n",
    "def find_stellar_abundances(star):\n",
    "    for i, txt in enumerate(t['star_name']):\n",
    "        if txt == star:\n",
    "            tbl = t[i] #inputted star's row\n",
    "            tbl\n",
    "\n",
    "    star_elements =[]\n",
    "    elnames = tbl.columns[3:64]\n",
    "    for n in elnames:\n",
    "        if len(n) < 3 :\n",
    "            star_elements.append(n)\n",
    "            star_elements #list of elements in that star\n",
    "    \n",
    "    star_abundance = []\n",
    "    for n in star_elements:\n",
    "        star_abundance.append(tbl[n])\n",
    "        star_abundance #list of element abundances\n",
    "        \n",
    "    star_con_temp = []\n",
    "    for n in star_elements:\n",
    "        star_con_temp.append(tc_map[n])\n",
    "        star_con_temp #condensation temperatures for stellar elements\n",
    "    \n",
    "    star_error_elements = []\n",
    "    for r in elnames:\n",
    "        if len(r) > 3 :\n",
    "            star_error_elements.append(r)\n",
    "\n",
    "    el_error = []\n",
    "    for k in star_error_elements:\n",
    "        el_error.append(tbl[k])\n",
    "        el_error #list of error values for elements\n",
    "    \n",
    "    star_table = Table([star_elements, star_abundance, el_error, star_con_temp], names=('Element', 'Abundance',\n",
    "        'Abundance Error','Condensation Temp'))\n",
    "    return star_table"
   ]
  },
  {
   "cell_type": "code",
   "execution_count": 691,
   "metadata": {},
   "outputs": [],
   "source": [
    "#function that returns a plot of an inputted star's temperature vs element abundance\n",
    "def stellar_abundance_plot(star): \n",
    "    for i, txt in enumerate(t['star_name']):\n",
    "        if txt == star:\n",
    "            tbl = t[i] #inputted star's row\n",
    "            tbl\n",
    "\n",
    "    star_elements =[]\n",
    "    elnames = tbl.columns[3:64]\n",
    "    for n in elnames:\n",
    "        if len(n) < 3 :\n",
    "            star_elements.append(n)\n",
    "            star_elements #list of elements in that star\n",
    "    \n",
    "    star_abundance = []\n",
    "    for n in star_elements:\n",
    "        star_abundance.append(tbl[n])\n",
    "        star_abundance #list of element abundances\n",
    "        \n",
    "    star_con_temp = []\n",
    "    for n in star_elements:\n",
    "        star_con_temp.append(tc_map[n])\n",
    "        star_con_temp #condensation temperatures for stellar elements\n",
    "    new=np.array(star_con_temp)\n",
    "    \n",
    "    star_error_elements = []\n",
    "    for r in elnames:\n",
    "        if len(r) > 3 :\n",
    "            star_error_elements.append(r)\n",
    "\n",
    "    el_error = []\n",
    "    for k in star_error_elements:\n",
    "        el_error.append(tbl[k])\n",
    "        el_error #list of error values for elements\n",
    "    \n",
    "    star_table = Table([star_elements, star_abundance, el_error, star_con_temp], names=('Element', 'Abundance',\n",
    "        'Abundance Error','Condensation Temp'))\n",
    "\n",
    "    plt.scatter(star_con_temp, star_abundance)\n",
    "    plt.xlabel('Tc',fontsize='xx-large', family='sans-serif')\n",
    "    plt.ylabel('Element Abundance', fontsize='xx-large', family='sans-serif')\n",
    "    plt.title('Temperature vs Element Abundance', fontsize= 'xx-large', family='sans-serif')\n",
    "\n",
    "    #point labels\n",
    "    for i, txt in enumerate(elements):\n",
    "            plt.annotate(txt, xy=(star_con_temp[i], star_abundance[i]), xytext=(-13,-6), \n",
    "                textcoords='offset points', ha='center', va='bottom')\n",
    "\n",
    "    #error bars\n",
    "    plt.errorbar(star_con_temp, star_abundance, yerr= el_error, fmt='o', color='black',\n",
    "                 ecolor='lightgray', elinewidth=3,capsize=0)\n",
    "    \n",
    "    #line of best fit m,b values\n",
    "    mb = find_m_b(star_con_temp, star_abundance, el_error)    \n",
    "    plot_xs = np.arange(1750)\n",
    "    plt.plot(plot_xs, (mb[0]) * plot_xs + (mb[1]), color='teal')\n",
    "    return plt"
   ]
  },
  {
   "cell_type": "code",
   "execution_count": null,
   "metadata": {},
   "outputs": [],
   "source": []
  },
  {
   "cell_type": "code",
   "execution_count": 692,
   "metadata": {},
   "outputs": [],
   "source": [
    "#standard slope error : [A^T C^-1 A]^-1\n",
    "#inbrackets = np.dot(AT, np.dot(invC,A))\n",
    "#sserror = np.linalg.inv(inbrackets)\n",
    "#print(sserror[1,1])"
   ]
  },
  {
   "cell_type": "markdown",
   "metadata": {},
   "source": [
    "def jackknife(_tp,_ab,_er):\n",
    "    N= 1000\n",
    "    C= (N-1)/(N)\n",
    "    jackknife = 0\n",
    "    l=_tp\n",
    "    k=_ab\n",
    "    s=_er\n",
    "    jackm= []\n",
    "    jackb= [] \n",
    "    h=0\n",
    "    jackknife_m= 0\n",
    "    jackknife_b =0\n",
    "\n",
    "    #leaving out one point from data set and calculating covariance for each instance\n",
    "    while h<N:\n",
    "        w = randint(0, 29)\n",
    "        del l[w]\n",
    "        del k[w]\n",
    "        del s[w] #removing one data set from lists \n",
    "    \n",
    "        jk_mb = find_m_b(l,k,s)\n",
    "        jk_m = jk_mb[0]\n",
    "        jk_b = jk_mb[1]\n",
    "        \n",
    "        vm = (jk_m - m)\n",
    "        vb = (jk_b - b)\n",
    "        \n",
    "        jackm.append(vm)\n",
    "        jackb.append(vb)\n",
    "        \n",
    "        #jackknife_m = jackknife_m + vm\n",
    "        #jackknife_b = jackknife_b + vb\n",
    "       \n",
    "        l=_tp\n",
    "        k=_ab\n",
    "        s=_er\n",
    "        h=h+1\n",
    "        \n",
    "    jackknife_m = jackknife_m*C \n",
    "    jackknife_b = jackknife_b*C   \n",
    "\n",
    "    return jackm, jackb #value of σ^2?"
   ]
  },
  {
   "cell_type": "code",
   "execution_count": null,
   "metadata": {},
   "outputs": [],
   "source": []
  },
  {
   "cell_type": "code",
   "execution_count": 693,
   "metadata": {},
   "outputs": [],
   "source": [
    "#jackknife(temp,abundance,error)"
   ]
  },
  {
   "cell_type": "markdown",
   "metadata": {},
   "source": [
    "#bootstrap\n",
    "bootstrap=0\n",
    "N = len(temp)\n",
    "M= (1/N)\n",
    "q=0\n",
    "t=0\n",
    "p=0\n",
    "tdata = []\n",
    "adata = []\n",
    "edata = []\n",
    "\n",
    "while q < N:\n",
    "    while t < len(temp):  #a random list of length len(temp)-1 generated from temp list\n",
    "        rand= randint(0,len(temp))#pick a random number between 0 and len temp and then index from that #\n",
    "        adata.append(abundance[rand])\n",
    "        edata.append(error[rand])\n",
    "        tdata.append(temp[rand])\n",
    "        t=t+1\n",
    "   \n",
    "    mandb = find_m_b(tdata,adata,edata)\n",
    "    u =  (mandb[0] - m)\n",
    "    bootstrap = bootstrap + u\n",
    "    q=q+1\n",
    "\n",
    "    tdata = []\n",
    "    adata = []\n",
    "    edata = []\n",
    "     \n",
    "bootstrap= bootstrap*M    \n",
    "print(bootstrap)"
   ]
  },
  {
   "cell_type": "code",
   "execution_count": null,
   "metadata": {},
   "outputs": [],
   "source": []
  },
  {
   "cell_type": "code",
   "execution_count": null,
   "metadata": {},
   "outputs": [],
   "source": []
  },
  {
   "cell_type": "code",
   "execution_count": null,
   "metadata": {},
   "outputs": [],
   "source": []
  },
  {
   "cell_type": "code",
   "execution_count": null,
   "metadata": {},
   "outputs": [],
   "source": [
    "N= 1000\n",
    "C= (N-1)/(N)\n",
    "jackknife = 0\n",
    "l=temp\n",
    "k=abundance\n",
    "s=error\n",
    "jackm= []\n",
    "jackb= [] \n",
    "h=0\n",
    "jackknife_m= 0\n",
    "jackknife_b =0\n",
    "\n",
    "#leaving out one point from data set and calculating covariance for each instance\n",
    "while h<N:\n",
    "    w = randint(0, 29)\n",
    "    del l[w]\n",
    "    del k[w]\n",
    "    del s[w] #removing one data set from lists \n",
    "    \n",
    "    print(len(l))\n",
    "    print(len(k))\n",
    "    print(len(s))\n",
    "    jk_mb = find_m_b(l,k,s)\n",
    "    jk_m = jk_mb[0]\n",
    "    jk_b = jk_mb[1]\n",
    "        \n",
    "    vm = (jk_m - m)\n",
    "    vb = (jk_b - b)\n",
    "        \n",
    "    jackm.append(vm)\n",
    "    jackb.append(vb)\n",
    "        \n",
    "    #jackknife_m = jackknife_m + vm\n",
    "    #jackknife_b = jackknife_b + vb\n",
    "    \n",
    "    l=temp\n",
    "    k=abundance\n",
    "    s=error\n",
    "    h=h+1\n",
    "        \n",
    "jackknife_m = jackknife_m*C \n",
    "jackknife_b = jackknife_b*C   \n",
    "\n",
    "print (jackm, jackb) #value of σ^2?"
   ]
  },
  {
   "cell_type": "code",
   "execution_count": null,
   "metadata": {},
   "outputs": [],
   "source": [
    "def find_m_b(x,y,err):\n",
    "    errsq = np.square(err)\n",
    "    errC = np.diag(errsq)\n",
    "    ab = ([1] * len(x))\n",
    "    atemp = x\n",
    "    mat = []\n",
    "        \n",
    "    for z, txt in enumerate(atemp):\n",
    "        mat.append(atemp[z])\n",
    "        mat.append(ab[z])\n",
    "            \n",
    "    a= np.matrix(mat).reshape((len(x), 2))\n",
    "    At = np.transpose(a)\n",
    "    inverrC = np.linalg.inv(errC)\n",
    "    pt1 = np.dot(At, np.dot(inverrC,a))\n",
    "    inv1= np.linalg.inv(pt1)\n",
    "    pt2 = np.dot(At, np.dot(inverrC, y)).T\n",
    "        \n",
    "    cov = np.dot(inv1, pt2)\n",
    "        \n",
    "    m_= float(cov[0])\n",
    "    b_= float(cov[1])\n",
    "    return m_,b_ "
   ]
  },
  {
   "cell_type": "code",
   "execution_count": null,
   "metadata": {},
   "outputs": [],
   "source": [
    "r=[1,2,4,67,43]\n",
    "rt=[.5,8,42,68,4]\n",
    "re=[.5,.6,1.2,7,3.4]\n",
    "\n",
    "find_m_b(r,rt,re)"
   ]
  },
  {
   "cell_type": "code",
   "execution_count": null,
   "metadata": {},
   "outputs": [],
   "source": []
  },
  {
   "cell_type": "code",
   "execution_count": null,
   "metadata": {},
   "outputs": [],
   "source": []
  }
 ],
 "metadata": {
  "kernelspec": {
   "display_name": "Python 3",
   "language": "python",
   "name": "python3"
  },
  "language_info": {
   "codemirror_mode": {
    "name": "ipython",
    "version": 3
   },
   "file_extension": ".py",
   "mimetype": "text/x-python",
   "name": "python",
   "nbconvert_exporter": "python",
   "pygments_lexer": "ipython3",
   "version": "3.7.0"
  }
 },
 "nbformat": 4,
 "nbformat_minor": 2
}
