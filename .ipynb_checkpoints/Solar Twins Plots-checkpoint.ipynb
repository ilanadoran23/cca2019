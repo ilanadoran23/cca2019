{
 "cells": [
  {
   "cell_type": "code",
   "execution_count": 95,
   "metadata": {},
   "outputs": [],
   "source": [
    "from astropy.table import Table\n",
    "%matplotlib inline  \n",
    "import matplotlib.pyplot as plt\n",
    "import numpy as np\n",
    "import random\n",
    "import math\n",
    "import statistics\n",
    "from scipy import optimize\n",
    "import scipy\n",
    "from condensation_temperature import * \n",
    "\n",
    "fig_size = plt.rcParams[\"figure.figsize\"]\n",
    "fig_size[0] = 9\n",
    "fig_size[1] = 6\n",
    "plt.rcParams[\"figure.figsize\"] = fig_size"
   ]
  },
  {
   "cell_type": "code",
   "execution_count": 96,
   "metadata": {},
   "outputs": [],
   "source": [
    "t= Table.read('solar_twins_data.fits') #fits file as table "
   ]
  },
  {
   "cell_type": "code",
   "execution_count": 97,
   "metadata": {},
   "outputs": [],
   "source": [
    "#importing all data from condensation_temperature\n",
    "from condensation_temperature import * \n",
    "\n",
    "get_tc('O'); #function that returns temp when given an element\n",
    "\n",
    "#tc_map is a dictionary of elements : condensation temp\n",
    "tc_map['O']; #accessing temp from element with tc_map"
   ]
  },
  {
   "cell_type": "code",
   "execution_count": 98,
   "metadata": {},
   "outputs": [
    {
     "data": {
      "text/plain": [
       "[<matplotlib.lines.Line2D at 0x105a5ebf98>]"
      ]
     },
     "execution_count": 98,
     "metadata": {},
     "output_type": "execute_result"
    },
    {
     "data": {
      "image/png": "[encoded data removed]",
      "text/plain": [
       "<Figure size 648x432 with 1 Axes>"
      ]
     },
     "metadata": {
      "needs_background": "light"
     },
     "output_type": "display_data"
    }
   ],
   "source": [
    "#plot of star age vs Mg abundance from above table - before removing temp trends\n",
    "plt.scatter(t['age'], t['Mg'], c='r') \n",
    "plt.xlabel('Age',fontsize='xx-large')\n",
    "plt.ylabel('Mg/Fe', fontsize='xx-large')\n",
    "plt.title('Mg Abundance vs. Stellar Age', fontsize='xx-large')\n",
    "plt.plot(np.unique(t['age']), np.poly1d(np.polyfit(t['age'], t['Mg'], 1))(np.unique(t['age'])), color='black')"
   ]
  },
  {
   "cell_type": "code",
   "execution_count": 99,
   "metadata": {},
   "outputs": [],
   "source": [
    "def find_stellar_abundances(star):\n",
    "    for i, txt in enumerate(t['star_name']):\n",
    "        if txt == star:\n",
    "            tbl = t[i] #inputted star's row\n",
    "            tbl\n",
    "\n",
    "    star_elements =[]\n",
    "    elnames = tbl.columns[3:64]\n",
    "    for n in elnames:\n",
    "        if len(n) < 3 :\n",
    "            star_elements.append(n)\n",
    "            star_elements #list of elements in that star\n",
    "    \n",
    "    star_abundance = []\n",
    "    for n in star_elements:\n",
    "        star_abundance.append(tbl[n])\n",
    "        star_abundance #list of element abundances\n",
    "        \n",
    "    star_con_temp = []\n",
    "    for n in star_elements:\n",
    "        star_con_temp.append(tc_map[n])\n",
    "        star_con_temp #condensation temperatures for stellar elements\n",
    "    \n",
    "    star_error_elements = []\n",
    "    for r in elnames:\n",
    "        if len(r) > 3 :\n",
    "            star_error_elements.append(r) #list of elements recorded in star\n",
    "\n",
    "    el_error = []\n",
    "    for k in star_error_elements:\n",
    "        el_error.append(tbl[k])\n",
    "        el_error #list of error values for elements\n",
    "        \n",
    "    for x, txt in enumerate(star_abundance):\n",
    "        if (math.isnan(txt) == True):\n",
    "            del star_elements[x]\n",
    "            del star_abundance[x]\n",
    "            del star_con_temp[x]\n",
    "            del el_error[x]\n",
    "    \n",
    "    star_table = Table([star_elements, star_abundance, el_error, star_con_temp], names=('Element', 'Abundance',\n",
    "        'Abundance Error','Condensation Temp')) #table of temperature vs abundance for elements \n",
    "    return star_table"
   ]
  },
  {
   "cell_type": "code",
   "execution_count": 100,
   "metadata": {},
   "outputs": [],
   "source": [
    "#function for returning the best slope and intercept using linear algebra\n",
    "#[m b] = [A^T C^-1 A]^-1 [A^T C^-1 Y]\n",
    "def find_m_b(x,y,err): \n",
    "    errorsq = np.square(err)\n",
    "    C = np.diag(errorsq)\n",
    "    xb = ([1] * len(x))\n",
    "    mata = []\n",
    "        \n",
    "    for z, txt in enumerate(x):\n",
    "        mata.append(x[z])\n",
    "        mata.append(xb[z])\n",
    "            \n",
    "    A= np.matrix(mata).reshape((len(x), 2))\n",
    "    At = np.transpose(A)\n",
    "    invC = np.linalg.inv(C)\n",
    "    pt1 = np.dot(At, np.dot(invC,A))\n",
    "    invpt1= np.linalg.inv(pt1)\n",
    "    pt2 = np.dot(At, np.dot(invC, y)).T\n",
    "    cov = np.dot(invpt1, pt2)\n",
    "        \n",
    "    m_= float(cov[0])\n",
    "    b_= float(cov[1])\n",
    "    return m_,b_ "
   ]
  },
  {
   "cell_type": "code",
   "execution_count": 101,
   "metadata": {},
   "outputs": [],
   "source": [
    "#jackknife method for determining other possible values of m and b \n",
    "def jackknifemb(_tp,_ab,_er):\n",
    "    N=1000\n",
    "    l=list(np.copy(_tp))\n",
    "    k=list(np.copy(_ab))\n",
    "    s=list(np.copy(_er))\n",
    "    jackm= []\n",
    "    jackb= [] \n",
    "    h=0\n",
    "    \n",
    "    #leaving out one point from data set and calculating m, b for each instance\n",
    "    while h<N:\n",
    "        w = random.randint(0, (len(_tp)-1))\n",
    "        del l[w]\n",
    "        del k[w]\n",
    "        del s[w] #removing one data set from lists \n",
    "    \n",
    "        jk_mb = find_m_b(l,k,s)\n",
    "        jk_m = jk_mb[0]\n",
    "        jk_b = jk_mb[1]\n",
    "\n",
    "        jackm.append(jk_m)\n",
    "        jackb.append(jk_b)\n",
    "            \n",
    "        l=list(np.copy(_tp))\n",
    "        k=list(np.copy(_ab))\n",
    "        s=list(np.copy(_er))\n",
    "        h=h+1 \n",
    "        \n",
    "    return jackm, jackb"
   ]
  },
  {
   "cell_type": "code",
   "execution_count": 102,
   "metadata": {},
   "outputs": [],
   "source": [
    "def stellar_abundance_plot(star): \n",
    "    for i, txt in enumerate(t['star_name']):\n",
    "        if txt == star:\n",
    "            tbl = t[i] #inputted star's row\n",
    "            tbl\n",
    "\n",
    "    star_elements =[]\n",
    "    elnames = tbl.columns[3:64]\n",
    "    for n in elnames:\n",
    "        if len(n) < 3 :\n",
    "            star_elements.append(n)\n",
    "            star_elements #list of elements in that star\n",
    "            \n",
    "    star_abundance = []\n",
    "    for n in star_elements:\n",
    "        star_abundance.append(tbl[n])\n",
    "        star_abundance #list of element abundances\n",
    "        \n",
    "    star_con_temp = []\n",
    "    for n in star_elements:\n",
    "        star_con_temp.append(tc_map[n])\n",
    "        star_con_temp #condensation temperatures for stellar elements\n",
    "    new=np.array(star_con_temp)\n",
    "    \n",
    "    star_error_elements = []\n",
    "    for r in elnames:\n",
    "        if len(r) > 3 :\n",
    "            star_error_elements.append(r)\n",
    "\n",
    "    el_error = []\n",
    "    for k in star_error_elements:\n",
    "        el_error.append(tbl[k])\n",
    "        el_error #list of error values for elements\n",
    "    \n",
    "    for x, txt in enumerate(star_abundance):\n",
    "        if (math.isnan(txt) == True):\n",
    "            del star_elements[x]\n",
    "            del star_abundance[x]\n",
    "            del star_con_temp[x]\n",
    "            del el_error[x]\n",
    "    \n",
    "    star_table = Table([star_elements, star_abundance, el_error, star_con_temp], names=('Element', 'Abundance',\n",
    "        'Abundance Error','Condensation Temp'))\n",
    "        \n",
    "    plt.scatter(star_con_temp, star_abundance)\n",
    "    plt.xlabel('Tc',fontsize='xx-large', family='sans-serif')\n",
    "    plt.ylabel('Element Abundance', fontsize='xx-large', family='sans-serif')\n",
    "    plt.title('Temperature vs Element Abundance for {0}'.format(star), fontsize= 'xx-large', family='sans-serif')\n",
    "\n",
    "    #point labels\n",
    "    for i, txt in enumerate(star_elements):\n",
    "            plt.annotate(txt, xy=(star_con_temp[i], star_abundance[i]), xytext=(-13,-6), \n",
    "                textcoords='offset points', ha='center', va='bottom')\n",
    "            \n",
    "    jk= jackknifemb(star_con_temp, star_abundance, el_error)\n",
    "    for i, txt in enumerate (jk[0]):\n",
    "        plt.scatter(star_con_temp, star_abundance)\n",
    "        plt.xlabel('Tc',fontsize='xx-large', family='sans-serif')\n",
    "        plt.ylabel('Element Abundance', fontsize='xx-large', family='sans-serif')\n",
    "        plt.title('Temperature vs Element Abundance', fontsize= 'xx-large', family='sans-serif')\n",
    "\n",
    "        plot_xs = np.arange(0, 1750, .1)\n",
    "        plt.plot(plot_xs, jk[0][i] * plot_xs + (jk[1][i]), color = 'lightgray', linewidth=0.1)\n",
    "    \n",
    "    #error bars\n",
    "    plt.errorbar(star_con_temp, star_abundance, yerr= el_error, fmt='o', color='black',\n",
    "                 ecolor='lightsteelblue', elinewidth=3,capsize=0)\n",
    "    \n",
    "    #line of best fit m,b values\n",
    "    mb = find_m_b(star_con_temp, star_abundance, el_error)    \n",
    "    plot_xs = np.arange(0, 1750, .1)\n",
    "    plt.plot(plot_xs, (mb[0]) * plot_xs + (mb[1]), color='teal') \n",
    "    plt.savefig(star+'.png')"
   ]
  },
  {
   "cell_type": "code",
   "execution_count": 103,
   "metadata": {},
   "outputs": [],
   "source": [
    "#chi squared :  [Y - AX]^T C^-1 [Y - AX]\n",
    "def chisquared(param, x, y, erro): \n",
    "    for h, txt in enumerate(y):\n",
    "        if (math.isnan(txt) == True):\n",
    "            del x[h]\n",
    "            del y[h]\n",
    "            del erro[h]\n",
    "            \n",
    "    ab = ([1] * len(x))\n",
    "    Amat = []\n",
    "    for z, txt in enumerate(x):\n",
    "        Amat.append(x[z])\n",
    "        Amat.append(ab[z])  \n",
    "    A= np.array(Amat).reshape((len(x), 2))\n",
    "\n",
    "    errorsq = np.square(erro)\n",
    "    C = np.diag(errorsq)\n",
    "    invsC = np.linalg.inv(C)\n",
    "\n",
    "    AT= np.transpose(A)\n",
    "    part1 = np.dot(AT, np.dot(invsC, A))\n",
    "    invprt1= np.linalg.inv(part1)\n",
    "    part2 = np.dot(AT, np.dot(invsC, y)).T\n",
    "    X = np.dot(invprt1, part2)\n",
    "    [X[0], X[1]] = param\n",
    "    AX = np.dot(A,X)\n",
    "    \n",
    "    yax = (y - AX)\n",
    "    yaxT = np.transpose(yax)\n",
    "    yaxTinvsC = np.dot(yaxT, invsC)\n",
    "\n",
    "    chisq = (np.dot(yaxTinvsC, yax))\n",
    "    return (chisq)"
   ]
  },
  {
   "cell_type": "code",
   "execution_count": 104,
   "metadata": {},
   "outputs": [],
   "source": [
    "def standardslopeerror(tem, abund, err):\n",
    "    for h, txt in enumerate(abund):\n",
    "        if (math.isnan(txt) == True):\n",
    "            del temp[h]\n",
    "            del abund[h]\n",
    "            del err[h]\n",
    "            \n",
    "    errorsq = np.square(err)\n",
    "    errorC = np.diag(errorsq)\n",
    "    abu = ([1] * len(tem))\n",
    "    atemper = np.copy(tem)\n",
    "    matri = []\n",
    "        \n",
    "    for z, txt in enumerate(atemper):\n",
    "        matri.append(atemper[z])\n",
    "        matri.append(abu[z])\n",
    "            \n",
    "    aa= np.matrix(matri).reshape((len(tem), 2))\n",
    "    Att = np.transpose(aa)\n",
    "    inverrorC = np.linalg.inv(errorC)\n",
    "    prt1 = np.dot(Att, np.dot(inverrorC,aa))\n",
    "    invt1= np.linalg.inv(prt1)\n",
    "    prt2 = np.dot(Att, np.dot(inverrorC, abund)).T\n",
    "    covar = np.dot(invt1, prt2)\n",
    "        \n",
    "    _m_= float(covar[0])\n",
    "    _b_= float(covar[1]) #standard slope, intercept values found with linalg \n",
    "    \n",
    "    inbrackets = np.dot(Att, np.dot(inverrorC, aa))\n",
    "    sserror = np.linalg.inv(inbrackets)\n",
    "    #sserror = [σ^2m, σmb, σmb, σ^2b]\n",
    "    sse = np.sqrt(sserror[0,0]) #standard slope error\n",
    "    return sse"
   ]
  },
  {
   "cell_type": "code",
   "execution_count": 105,
   "metadata": {},
   "outputs": [],
   "source": [
    "def standardintercepterror(tem, abund, err):\n",
    "    for h, txt in enumerate(abund):\n",
    "        if (math.isnan(txt) == True):\n",
    "            del temp[h]\n",
    "            del abund[h]\n",
    "            del err[h]\n",
    "            \n",
    "    errorsq = np.square(err)\n",
    "    errorC = np.diag(errorsq)\n",
    "    abu = ([1] * len(tem))\n",
    "    atemper = np.copy(tem)\n",
    "    matri = []\n",
    "        \n",
    "    for z, txt in enumerate(atemper):\n",
    "        matri.append(atemper[z])\n",
    "        matri.append(abu[z])\n",
    "            \n",
    "    aa= np.matrix(matri).reshape((len(tem), 2))\n",
    "    Att = np.transpose(aa)\n",
    "    inverrorC = np.linalg.inv(errorC)\n",
    "    prt1 = np.dot(Att, np.dot(inverrorC,aa))\n",
    "    invt1= np.linalg.inv(prt1)\n",
    "    prt2 = np.dot(Att, np.dot(inverrorC, abund)).T\n",
    "    covar = np.dot(invt1, prt2)\n",
    "        \n",
    "    _m_= float(covar[0])\n",
    "    _b_= float(covar[1]) #standard slope, intercept values found with linalg \n",
    "    \n",
    "    inbrackets = np.dot(Att, np.dot(inverrorC, aa))\n",
    "    sserror = np.linalg.inv(inbrackets)\n",
    "    #sserror = [σ^2m, σmb, σmb, σ^2b]\n",
    "    sie = np.sqrt(sserror[1,1]) #standard slope error\n",
    "    return sie"
   ]
  },
  {
   "cell_type": "code",
   "execution_count": 106,
   "metadata": {},
   "outputs": [],
   "source": [
    "def error_star_table(tp, ab, er):\n",
    "    for h, txt in enumerate(ab):\n",
    "        if (math.isnan(txt) == True):\n",
    "            del tp[h]\n",
    "            del ab[h]\n",
    "            del er[h]\n",
    "            \n",
    "    N=1000\n",
    "    l=list(np.copy(tp))\n",
    "    k=list(np.copy(ab))\n",
    "    s=list(np.copy(er))\n",
    "    jackm= []\n",
    "    jackb= [] \n",
    "    h=0\n",
    "    \n",
    "    #leaving out one point from data set and calculating m, b for each instance\n",
    "    while h<N:\n",
    "        w = random.randint(0, (len(tp)-1))\n",
    "        del l[w]\n",
    "        del k[w]\n",
    "        del s[w] #removing one data set from lists \n",
    "    \n",
    "        jk_mb = find_m_b(l,k,s)\n",
    "        jk_m = jk_mb[0]\n",
    "        jk_b = jk_mb[1]\n",
    "\n",
    "        jackm.append(jk_m)\n",
    "        jackb.append(jk_b)\n",
    "            \n",
    "        l=list(np.copy(tp))\n",
    "        k=list(np.copy(ab))\n",
    "        s=list(np.copy(er))\n",
    "        h=h+1 \n",
    "    jackm\n",
    "    jackb\n",
    "    slopeer = standardslopeerror(tp,ab,er)\n",
    "    interer= standardintercepterror(tp,ab,er)\n",
    "    slopeintercept = find_m_b(tp,ab,er)\n",
    "    \n",
    "    error_type = ['slope', 'intercept']\n",
    "    a = [slopeintercept[0], slopeintercept[1]]\n",
    "    c = [statistics.stdev(jackm),statistics.stdev(jackb)]\n",
    "    d = [slopeer, interer]\n",
    "    tab = Table([error_type,a, c, d], names=('error type', 'value','standard dev', \n",
    "                                              'linear algebra uncertainty'))\n",
    "    return tab"
   ]
  },
  {
   "cell_type": "code",
   "execution_count": 107,
   "metadata": {},
   "outputs": [
    {
     "data": {
      "text/plain": [
       "      fun: 2416.247135631966\n",
       " hess_inv: array([[ 8.19974706e-12, -1.11252441e-08],\n",
       "       [-1.11252441e-08,  1.55673432e-05]])\n",
       "      jac: array([33.89880371, -2.70437622])\n",
       "  message: 'Desired error not necessarily achieved due to precision loss.'\n",
       "     nfev: 308\n",
       "      nit: 2\n",
       "     njev: 74\n",
       "   status: 2\n",
       "  success: False\n",
       "        x: array([ 9.41978671e-05, -1.21252981e-01])"
      ]
     },
     "execution_count": 107,
     "metadata": {},
     "output_type": "execute_result"
    }
   ],
   "source": [
    "x0 = [9e-5,.1]\n",
    "res = scipy.optimize.minimize(chisquared, x0, args=(temp, abundance, error))\n",
    "res"
   ]
  },
  {
   "cell_type": "code",
   "execution_count": 108,
   "metadata": {},
   "outputs": [
    {
     "data": {
      "text/plain": [
       "(-2.64966691443829e-05, 0.05342405708622877)"
      ]
     },
     "execution_count": 108,
     "metadata": {},
     "output_type": "execute_result"
    }
   ],
   "source": [
    "hip114328 = find_stellar_abundances('HIP114328')\n",
    "xt= np.array(hip114328.columns[3])\n",
    "ya = np.array(hip114328.columns[1])\n",
    "ze = np.array(hip114328.columns[2])\n",
    "find_m_b(xt, ya, ze)"
   ]
  },
  {
   "cell_type": "code",
   "execution_count": 109,
   "metadata": {},
   "outputs": [
    {
     "data": {
      "image/png": "[encoded data removed]",
      "text/plain": [
       "<Figure size 648x432 with 1 Axes>"
      ]
     },
     "metadata": {
      "needs_background": "light"
     },
     "output_type": "display_data"
    }
   ],
   "source": [
    "stellar_abundance_plot('HIP114328')"
   ]
  },
  {
   "cell_type": "markdown",
   "metadata": {},
   "source": [
    "#point labels\n",
    "for i, txt in enumerate(elements):\n",
    "    if txt == 'Y' :\n",
    "        plt.annotate(txt, xy=(temp[i], abundance[i]), xytext=(13,-6), \n",
    "           textcoords='offset points', ha='center', va='bottom')\n",
    "    elif txt == 'Co' :\n",
    "        plt.annotate(txt, xy=(temp[i], abundance[i]), xytext=(13,-6), \n",
    "            textcoords='offset points', ha='center', va='bottom') \n",
    "    else : \n",
    "        plt.annotate(txt, xy=(temp[i], abundance[i]), xytext=(-13,-6), \n",
    "            textcoords='offset points', ha='center', va='bottom')"
   ]
  },
  {
   "cell_type": "code",
   "execution_count": 110,
   "metadata": {},
   "outputs": [],
   "source": [
    "HIP10175_tbl = t[0] \n",
    "\n",
    "elements =[]\n",
    "tablenames = HIP10175_tbl.columns[3:64]\n",
    "for n in tablenames:\n",
    "    if len(n) < 3 :\n",
    "        elements.append(n)\n",
    "    \n",
    "abundance = []\n",
    "for n in elements:\n",
    "    abundance.append(HIP10175_tbl[n])\n",
    "\n",
    "temp = []\n",
    "for n in elements:\n",
    "    temp.append(tc_map[n])\n",
    "\n",
    "error_elements = []\n",
    "for r in tablenames:\n",
    "    if len(r) > 3 :\n",
    "        error_elements.append(r)\n",
    "        \n",
    "error = []\n",
    "for k in error_elements:\n",
    "    error.append(HIP10175_tbl[k])"
   ]
  },
  {
   "cell_type": "code",
   "execution_count": 111,
   "metadata": {},
   "outputs": [
    {
     "name": "stdout",
     "output_type": "stream",
     "text": [
      "original value = -0.12154306680819207\n"
     ]
    },
    {
     "data": {
      "image/png": "[encoded data removed]",
      "text/plain": [
       "<Figure size 648x432 with 1 Axes>"
      ]
     },
     "metadata": {
      "needs_background": "light"
     },
     "output_type": "display_data"
    }
   ],
   "source": [
    "#histogram of the intercept values found with jackknife\n",
    "jk= jackknifemb(temp, abundance, error) \n",
    "b= find_m_b(temp, abundance, error)[1]\n",
    "x = jk[1]\n",
    "plt.hist(x, color = 'teal')\n",
    "plt.ylabel('weight')\n",
    "plt.xlabel('value')\n",
    "plt.title('intercept values')\n",
    "print('original value =', b)"
   ]
  },
  {
   "cell_type": "code",
   "execution_count": 112,
   "metadata": {},
   "outputs": [
    {
     "name": "stdout",
     "output_type": "stream",
     "text": [
      "original value =  9.441261972252866e-05\n"
     ]
    },
    {
     "data": {
      "image/png": "[encoded data removed]",
      "text/plain": [
       "<Figure size 648x432 with 1 Axes>"
      ]
     },
     "metadata": {
      "needs_background": "light"
     },
     "output_type": "display_data"
    }
   ],
   "source": [
    "#histogram of the slope values found with jackknife \n",
    "x = jk[0]\n",
    "m= find_m_b(temp, abundance, error)[0]\n",
    "plt.hist(x, color = 'green')\n",
    "plt.ylabel('weight')\n",
    "plt.xlabel('value')\n",
    "plt.title('slope values')\n",
    "print('original value = ', m)"
   ]
  },
  {
   "cell_type": "code",
   "execution_count": null,
   "metadata": {},
   "outputs": [],
   "source": []
  }
 ],
 "metadata": {
  "kernelspec": {
   "display_name": "Python 3",
   "language": "python",
   "name": "python3"
  },
  "language_info": {
   "codemirror_mode": {
    "name": "ipython",
    "version": 3
   },
   "file_extension": ".py",
   "mimetype": "text/x-python",
   "name": "python",
   "nbconvert_exporter": "python",
   "pygments_lexer": "ipython3",
   "version": "3.7.0"
  }
 },
 "nbformat": 4,
 "nbformat_minor": 2
}
