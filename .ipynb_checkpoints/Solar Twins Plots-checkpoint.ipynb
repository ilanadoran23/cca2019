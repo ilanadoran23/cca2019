{
 "cells": [
  {
   "cell_type": "code",
   "execution_count": 1,
   "metadata": {},
   "outputs": [],
   "source": [
    "from astropy.table import Table\n",
    "%matplotlib inline  \n",
    "import matplotlib.pyplot as plt\n",
    "import numpy as np\n",
    "import random\n",
    "import math\n",
    "import statistics\n",
    "from scipy import optimize\n",
    "\n",
    "fig_size = plt.rcParams[\"figure.figsize\"]\n",
    "fig_size[0] = 9\n",
    "fig_size[1] = 6\n",
    "plt.rcParams[\"figure.figsize\"] = fig_size"
   ]
  },
  {
   "cell_type": "code",
   "execution_count": 2,
   "metadata": {},
   "outputs": [],
   "source": [
    "t= Table.read('solar_twins_data.fits') #fits file as table "
   ]
  },
  {
   "cell_type": "code",
   "execution_count": 3,
   "metadata": {},
   "outputs": [],
   "source": [
    "#importing all data from condensation_temperature\n",
    "from condensation_temperature import * \n",
    "\n",
    "get_tc('O'); #function that returns temp when given an element\n",
    "\n",
    "#tc_map is a dictionary of elements : condensation temp\n",
    "tc_map['O']; #accessing temp from element with tc_map"
   ]
  },
  {
   "cell_type": "code",
   "execution_count": 4,
   "metadata": {},
   "outputs": [
    {
     "data": {
      "text/plain": [
       "[<matplotlib.lines.Line2D at 0x101d25af98>]"
      ]
     },
     "execution_count": 4,
     "metadata": {},
     "output_type": "execute_result"
    },
    {
     "data": {
      "image/png": "[encoded data removed]",
      "text/plain": [
       "<Figure size 432x288 with 1 Axes>"
      ]
     },
     "metadata": {
      "needs_background": "light"
     },
     "output_type": "display_data"
    }
   ],
   "source": [
    "#plot of star age vs Mg abundance from above table - before removing temp trends\n",
    "plt.scatter(t['age'], t['Mg'], c='r') \n",
    "plt.xlabel('Age',fontsize='xx-large')\n",
    "plt.ylabel('Mg/Fe', fontsize='xx-large')\n",
    "plt.title('Mg Abundance vs. Stellar Age', fontsize='xx-large')\n",
    "plt.plot(np.unique(t['age']), np.poly1d(np.polyfit(t['age'], t['Mg'], 1))(np.unique(t['age'])), color='black')"
   ]
  },
  {
   "cell_type": "code",
   "execution_count": 5,
   "metadata": {},
   "outputs": [],
   "source": [
    "#function that returns an table with an inputted star's elements, abundance, error and temp\n",
    "def find_stellar_abundances(star):\n",
    "    for i, txt in enumerate(t['star_name']):\n",
    "        if txt == star:\n",
    "            tbl = t[i] #inputted star's row\n",
    "            tbl\n",
    "\n",
    "    star_elements =[]\n",
    "    elnames = tbl.columns[3:64]\n",
    "    for n in elnames:\n",
    "        if len(n) < 3 :\n",
    "            star_elements.append(n)\n",
    "            star_elements #list of elements in that star\n",
    "    \n",
    "    star_abundance = []\n",
    "    for n in star_elements:\n",
    "        star_abundance.append(tbl[n])\n",
    "        star_abundance #list of element abundances\n",
    "        \n",
    "    star_con_temp = []\n",
    "    for n in star_elements:\n",
    "        star_con_temp.append(tc_map[n])\n",
    "        star_con_temp #condensation temperatures for stellar elements\n",
    "    \n",
    "    star_error_elements = []\n",
    "    for r in elnames:\n",
    "        if len(r) > 3 :\n",
    "            star_error_elements.append(r) #list of elements recorded in star\n",
    "\n",
    "    el_error = []\n",
    "    for k in star_error_elements:\n",
    "        el_error.append(tbl[k])\n",
    "        el_error #list of error values for elements\n",
    "    \n",
    "    star_table = Table([star_elements, star_abundance, el_error, star_con_temp], names=('Element', 'Abundance',\n",
    "        'Abundance Error','Condensation Temp')) #table of temperature vs abundance for elements \n",
    "    return star_table"
   ]
  },
  {
   "cell_type": "code",
   "execution_count": 6,
   "metadata": {},
   "outputs": [],
   "source": [
    "#function for returning the best slope and intercept using linear algebra\n",
    "#[m b] = [A^T C^-1 A]^-1 [A^T C^-1 Y]\n",
    "def find_m_b(x,y,err):\n",
    "    errorsq = np.square(err)\n",
    "    C = np.diag(errorsq)\n",
    "    xb = ([1] * len(x))\n",
    "    mata = []\n",
    "        \n",
    "    for z, txt in enumerate(x):\n",
    "        mata.append(x[z])\n",
    "        mata.append(xb[z])\n",
    "            \n",
    "    A= np.matrix(mata).reshape((len(x), 2))\n",
    "    At = np.transpose(A)\n",
    "    invC = np.linalg.inv(C)\n",
    "    pt1 = np.dot(At, np.dot(invC,A))\n",
    "    invpt1= np.linalg.inv(pt1)\n",
    "    pt2 = np.dot(At, np.dot(invC, y)).T\n",
    "    cov = np.dot(invpt1, pt2)\n",
    "        \n",
    "    m_= float(cov[0])\n",
    "    b_= float(cov[1])\n",
    "    return m_,b_ "
   ]
  },
  {
   "cell_type": "code",
   "execution_count": 7,
   "metadata": {},
   "outputs": [],
   "source": [
    "#jackknife method for determining other possible values of m and b \n",
    "def jackknifemb(_tp,_ab,_er):\n",
    "    N=1000\n",
    "    l=list(np.copy(_tp))\n",
    "    k=list(np.copy(_ab))\n",
    "    s=list(np.copy(_er))\n",
    "    jackm= []\n",
    "    jackb= [] \n",
    "    h=0\n",
    "    \n",
    "    #leaving out one point from data set and calculating m, b for each instance\n",
    "    while h<N:\n",
    "        w = random.randint(0, 29)\n",
    "        del l[w]\n",
    "        del k[w]\n",
    "        del s[w] #removing one data set from lists \n",
    "    \n",
    "        jk_mb = find_m_b(l,k,s)\n",
    "        jk_m = jk_mb[0]\n",
    "        jk_b = jk_mb[1]\n",
    "\n",
    "        jackm.append(jk_m)\n",
    "        jackb.append(jk_b)\n",
    "            \n",
    "        l=list(np.copy(_tp))\n",
    "        k=list(np.copy(_ab))\n",
    "        s=list(np.copy(_er))\n",
    "        h=h+1 \n",
    "        \n",
    "    return jackm, jackb"
   ]
  },
  {
   "cell_type": "code",
   "execution_count": 8,
   "metadata": {},
   "outputs": [],
   "source": [
    "def stellar_abundance_plot(star): \n",
    "    for i, txt in enumerate(t['star_name']):\n",
    "        if txt == star:\n",
    "            tbl = t[i] #inputted star's row\n",
    "            tbl\n",
    "\n",
    "    star_elements =[]\n",
    "    elnames = tbl.columns[3:64]\n",
    "    for n in elnames:\n",
    "        if len(n) < 3 :\n",
    "            star_elements.append(n)\n",
    "            star_elements #list of elements in that star\n",
    "    \n",
    "    star_abundance = []\n",
    "    for n in star_elements:\n",
    "        star_abundance.append(tbl[n])\n",
    "        star_abundance #list of element abundances\n",
    "        \n",
    "    star_con_temp = []\n",
    "    for n in star_elements:\n",
    "        star_con_temp.append(tc_map[n])\n",
    "        star_con_temp #condensation temperatures for stellar elements\n",
    "    new=np.array(star_con_temp)\n",
    "    \n",
    "    star_error_elements = []\n",
    "    for r in elnames:\n",
    "        if len(r) > 3 :\n",
    "            star_error_elements.append(r)\n",
    "\n",
    "    el_error = []\n",
    "    for k in star_error_elements:\n",
    "        el_error.append(tbl[k])\n",
    "        el_error #list of error values for elements\n",
    "    \n",
    "    star_table = Table([star_elements, star_abundance, el_error, star_con_temp], names=('Element', 'Abundance',\n",
    "        'Abundance Error','Condensation Temp'))\n",
    "\n",
    "    #plt.scatter(star_con_temp, star_abundance)\n",
    "    #plt.xlabel('Tc',fontsize='xx-large', family='sans-serif')\n",
    "    #plt.ylabel('Element Abundance', fontsize='xx-large', family='sans-serif')\n",
    "    #plt.title('Temperature vs Element Abundance for {0}'.format(star), fontsize= 'xx-large', family='sans-serif')\n",
    "\n",
    "    #point labels\n",
    "    for i, txt in enumerate(elements):\n",
    "            plt.annotate(txt, xy=(star_con_temp[i], star_abundance[i]), xytext=(-13,-6), \n",
    "                textcoords='offset points', ha='center', va='bottom')\n",
    "            \n",
    "    jk= jackknifemb(star_con_temp, star_abundance, el_error)\n",
    "    for i, txt in enumerate (jk[0]):\n",
    "        plt.scatter(temp, abundance)\n",
    "        plt.xlabel('Tc',fontsize='xx-large', family='sans-serif')\n",
    "        plt.ylabel('Element Abundance', fontsize='xx-large', family='sans-serif')\n",
    "        plt.title('Temperature vs Element Abundance', fontsize= 'xx-large', family='sans-serif')\n",
    "\n",
    "        temparray=np.array(temp)\n",
    "        plot_xs = np.arange(0, 1750, .1)\n",
    "        plt.plot(plot_xs, jk[0][i] * plot_xs + (jk[1][i]), color = 'lightgray', linewidth=0.1)\n",
    "    \n",
    "    #error bars\n",
    "    plt.errorbar(star_con_temp, star_abundance, yerr= el_error, fmt='o', color='black',\n",
    "                 ecolor='lightsteelblue', elinewidth=3,capsize=0)\n",
    "    \n",
    "    #line of best fit m,b values\n",
    "    errorsq = np.square(el_error)\n",
    "    C = np.diag(errorsq)\n",
    "    xb = ([1] * len(star_con_temp))\n",
    "    mata = []\n",
    "        \n",
    "    for z, txt in enumerate(star_con_temp):\n",
    "        mata.append(star_con_temp[z])\n",
    "        mata.append(xb[z])\n",
    "            \n",
    "    A= np.matrix(mata).reshape((len(star_con_temp), 2))\n",
    "    At = np.transpose(A)\n",
    "    invC = np.linalg.inv(C)\n",
    "    pt1 = np.dot(At, np.dot(invC,A))\n",
    "    invpt1= np.linalg.inv(pt1)\n",
    "    pt2 = np.dot(At, np.dot(invC, star_abundance)).T\n",
    "    mb = np.dot(invpt1, pt2)\n",
    "        \n",
    "    mb = find_m_b(star_con_temp, star_abundance, el_error)    \n",
    "    plot_xs = np.arange(1750)\n",
    "    plt.plot(plot_xs, (mb[0]) * plot_xs + (mb[1]), color='teal') \n",
    "    \n",
    "\n",
    "    return plt"
   ]
  },
  {
   "cell_type": "code",
   "execution_count": 9,
   "metadata": {},
   "outputs": [],
   "source": [
    "#chi squared :  [Y - AX]^T C^-1 [Y - AX]\n",
    "def chisquared(param, x, y, erro): \n",
    "    ab = ([1] * len(x))\n",
    "    Amat = []\n",
    "    for z, txt in enumerate(x):\n",
    "        Amat.append(x[z])\n",
    "        Amat.append(ab[z])  \n",
    "    A= np.array(Amat).reshape((len(x), 2))\n",
    "\n",
    "    errorsq = np.square(erro)\n",
    "    C = np.diag(errorsq)\n",
    "    invsC = np.linalg.inv(C)\n",
    "\n",
    "    AT= np.transpose(A)\n",
    "    part1 = np.dot(AT, np.dot(invsC, A))\n",
    "    invprt1= np.linalg.inv(part1)\n",
    "    part2 = np.dot(AT, np.dot(invsC, y)).T\n",
    "    X = np.dot(invprt1, part2)\n",
    "    [X[0], X[1]] = param\n",
    "    AX = np.dot(A,X)\n",
    "    \n",
    "    yax = (Y - AX)\n",
    "    yaxT = np.transpose(yax)\n",
    "    yaxTinvsC = np.dot(yaxT, invsC)\n",
    "\n",
    "    chisq = (np.dot(yaxTinvsC, yax))\n",
    "    return (chisq)"
   ]
  },
  {
   "cell_type": "code",
   "execution_count": 10,
   "metadata": {},
   "outputs": [],
   "source": [
    "#creating a table of only one selected star\n",
    "HIP10175_tbl = t[0] \n",
    "HIP10175_tbl;"
   ]
  },
  {
   "cell_type": "code",
   "execution_count": 11,
   "metadata": {},
   "outputs": [],
   "source": [
    "#accessing only the element columns in the selected star's table and adding them to a list\n",
    "elements =[]\n",
    "tablenames = HIP10175_tbl.columns[3:64]\n",
    "for n in tablenames:\n",
    "    if len(n) < 3 :\n",
    "        elements.append(n)\n",
    "    elements"
   ]
  },
  {
   "cell_type": "code",
   "execution_count": 12,
   "metadata": {},
   "outputs": [],
   "source": [
    "#list of abundances, in the same order as the elements list\n",
    "abundance = []\n",
    "for n in elements:\n",
    "    abundance.append(HIP10175_tbl[n])\n",
    "abundance;"
   ]
  },
  {
   "cell_type": "code",
   "execution_count": 13,
   "metadata": {},
   "outputs": [],
   "source": [
    "#list of condensation temps, in the same order as the elements list\n",
    "temp = []\n",
    "for n in elements:\n",
    "    temp.append(tc_map[n])\n",
    "temp;"
   ]
  },
  {
   "cell_type": "code",
   "execution_count": 14,
   "metadata": {},
   "outputs": [],
   "source": [
    "#list of element_err\n",
    "error_elements = []\n",
    "for r in tablenames:\n",
    "    if len(r) > 3 :\n",
    "        error_elements.append(r)"
   ]
  },
  {
   "cell_type": "code",
   "execution_count": 15,
   "metadata": {},
   "outputs": [],
   "source": [
    "#list of error values for elements\n",
    "error = []\n",
    "for k in error_elements:\n",
    "    error.append(HIP10175_tbl[k])\n",
    "error;"
   ]
  },
  {
   "cell_type": "code",
   "execution_count": 16,
   "metadata": {},
   "outputs": [],
   "source": [
    "#table of element, abundance and temperature\n",
    "from astropy.table import Table\n",
    "HIP10175_table = Table([elements, abundance, error, temp], names=('Element', 'Abundance',\n",
    "        'Abundance Error','Condensation Temp'))"
   ]
  },
  {
   "cell_type": "code",
   "execution_count": 17,
   "metadata": {},
   "outputs": [
    {
     "name": "stdout",
     "output_type": "stream",
     "text": [
      "(9.441261972252866e-05, -0.12154306680819207)\n"
     ]
    }
   ],
   "source": [
    "#test for HIP10175\n",
    "m_b = find_m_b(temp,abundance,error)\n",
    "print(m_b)"
   ]
  },
  {
   "cell_type": "markdown",
   "metadata": {},
   "source": [
    "#plotting values for star temp and abundance\n",
    "plt.scatter(temp, abundance)\n",
    "plt.xlabel('Tc',fontsize='xx-large', family='sans-serif')\n",
    "plt.ylabel('Element Abundance', fontsize='xx-large', family='sans-serif')\n",
    "plt.title('Temperature vs Element Abundance', fontsize= 'xx-large', family='sans-serif')\n",
    "    \n",
    "#point labels\n",
    "for i, txt in enumerate(elements):\n",
    "    if txt == 'Y' :\n",
    "        plt.annotate(txt, xy=(temp[i], abundance[i]), xytext=(13,-6), \n",
    "           textcoords='offset points', ha='center', va='bottom')\n",
    "    elif txt == 'Co' :\n",
    "        plt.annotate(txt, xy=(temp[i], abundance[i]), xytext=(13,-6), \n",
    "            textcoords='offset points', ha='center', va='bottom') \n",
    "    else : \n",
    "        plt.annotate(txt, xy=(temp[i], abundance[i]), xytext=(-13,-6), \n",
    "            textcoords='offset points', ha='center', va='bottom')\n",
    "\n",
    "#error bars\n",
    "plt.errorbar(temp, abundance, yerr= error, fmt='o', color='black',\n",
    "                 ecolor='lightgray', elinewidth=3,capsize=0)\n",
    "m= m_b[0]\n",
    "b= m_b[1]\n",
    "\n",
    "temparray=np.array(temp)\n",
    "plot_xs = np.arange(1750)\n",
    "plt.plot(plot_xs, m * plot_xs + b, color='teal')"
   ]
  },
  {
   "cell_type": "code",
   "execution_count": 22,
   "metadata": {},
   "outputs": [
    {
     "data": {
      "text/plain": [
       "[<matplotlib.lines.Line2D at 0x10455f0208>]"
      ]
     },
     "execution_count": 22,
     "metadata": {},
     "output_type": "execute_result"
    },
    {
     "data": {
      "image/png": "[encoded data removed]",
      "text/plain": [
       "<Figure size 432x288 with 1 Axes>"
      ]
     },
     "metadata": {
      "needs_background": "light"
     },
     "output_type": "display_data"
    }
   ],
   "source": [
    "#plotting the various lines of best fit found using the jackknife method\n",
    "jk= jackknifemb(temp, abundance, error)\n",
    "for i, txt in enumerate (jk[0]):\n",
    "    plt.scatter(temp, abundance)\n",
    "    plt.xlabel('Tc',fontsize='xx-large', family='sans-serif')\n",
    "    plt.ylabel('Element Abundance', fontsize='xx-large', family='sans-serif')\n",
    "    plt.title('Temperature vs Element Abundance', fontsize= 'xx-large', family='sans-serif')\n",
    "\n",
    "    temparray=np.array(temp)\n",
    "    plot_xs = np.arange(0, 1750, .1)\n",
    "    plt.plot(plot_xs, jk[0][i] * plot_xs + (jk[1][i]), color = 'lightgray', linewidth=0.1)\n",
    "\n",
    "for i, txt in enumerate(elements):\n",
    "    if txt == 'Y' :\n",
    "        plt.annotate(txt, xy=(temp[i], abundance[i]), xytext=(13,-6), \n",
    "            textcoords='offset points', ha='center', va='bottom')\n",
    "    elif txt == 'Co' :\n",
    "        plt.annotate(txt, xy=(temp[i], abundance[i]), xytext=(13,-6), \n",
    "            textcoords='offset points', ha='center', va='bottom') \n",
    "    else : \n",
    "        plt.annotate(txt, xy=(temp[i], abundance[i]), xytext=(-13,-6), \n",
    "            textcoords='offset points', ha='center', va='bottom')\n",
    "        \n",
    "mb= find_m_b(temp,abundance, error)\n",
    "m = mb[0]\n",
    "b= mb[1]\n",
    "\n",
    "#error bars\n",
    "plt.errorbar(temp, abundance, yerr= error, fmt='o', color='black',\n",
    "                    ecolor='lightsteelblue', elinewidth=3,capsize=0)\n",
    "plt.plot(plot_xs, m * plot_xs + b, color='black')"
   ]
  },
  {
   "cell_type": "code",
   "execution_count": null,
   "metadata": {},
   "outputs": [],
   "source": [
    "#histogram of the intercept values found with jackknife\n",
    "x = jk[1]\n",
    "plt.hist(x, color = 'teal')\n",
    "plt.ylabel('weight')\n",
    "plt.xlabel('value')\n",
    "plt.title('intercept values')\n",
    "print('original value =', b)"
   ]
  },
  {
   "cell_type": "code",
   "execution_count": null,
   "metadata": {},
   "outputs": [],
   "source": [
    "#histogram of the slope values found with jackknife \n",
    "x = jk[0]\n",
    "plt.hist(x, color = 'green')\n",
    "plt.ylabel('weight')\n",
    "plt.xlabel('value')\n",
    "plt.title('slope values')\n",
    "print('original value = ', m)"
   ]
  },
  {
   "cell_type": "code",
   "execution_count": null,
   "metadata": {},
   "outputs": [],
   "source": [
    "#standard slope error : [A^T C^-1 A]^-1\n",
    "errorsq = np.square(error)\n",
    "errorC = np.diag(errorsq)\n",
    "abu = ([1] * len(temp))\n",
    "atemper = np.copy(temp)\n",
    "matri = []\n",
    "        \n",
    "for z, txt in enumerate(atemper):\n",
    "    matri.append(atemper[z])\n",
    "    matri.append(abu[z])\n",
    "            \n",
    "aa= np.matrix(matri).reshape((len(temp), 2))\n",
    "Att = np.transpose(aa)\n",
    "inverrorC = np.linalg.inv(errorC)\n",
    "prt1 = np.dot(Att, np.dot(inverrorC,aa))\n",
    "invt1= np.linalg.inv(prt1)\n",
    "prt2 = np.dot(Att, np.dot(inverrorC, abundance)).T\n",
    "covar = np.dot(invt1, prt2)\n",
    "        \n",
    "_m_= float(covar[0])\n",
    "_b_= float(covar[1]) #standard slope, intercept values found with linalg \n",
    "    \n",
    "inbrackets = np.dot(Att, np.dot(inverrorC, aa))\n",
    "sserror = np.linalg.inv(inbrackets)\n",
    "#sserror = [σ^2m, σmb, σmb, σ^2b]\n",
    "sse = np.sqrt(sserror[0,0]) #standard slope error\n",
    "sie = np.sqrt(sserror[1,1]) #standard intercept error"
   ]
  },
  {
   "cell_type": "code",
   "execution_count": null,
   "metadata": {},
   "outputs": [],
   "source": [
    "#standard deviation without outliers\n",
    "m_nooutliers = []\n",
    "for p in jk[0]:\n",
    "    if p < 0.00013:\n",
    "        m_nooutliers.append(p)\n",
    "        \n",
    "b_nooutliers = []\n",
    "for p in jk[1]:\n",
    "    if p > -0.17:\n",
    "        b_nooutliers.append(p)"
   ]
  },
  {
   "cell_type": "code",
   "execution_count": null,
   "metadata": {},
   "outputs": [],
   "source": [
    "error_type = ['slope', 'intercept']\n",
    "a = [m, b]\n",
    "c = [statistics.stdev(jk[0]),statistics.stdev(jk[1])]\n",
    "bv = [statistics.stdev(m_nooutliers), statistics.stdev(b_nooutliers)]\n",
    "d = [np.sqrt(sserror[0,0]),np.sqrt(sserror[1,1])]\n",
    "z = Table([error_type,a, c, bv, d], names=('error type', 'value','standard dev with outliers', \n",
    "                                          'standard dev without outliers',  'linear algebra uncertainty'))\n",
    "z "
   ]
  },
  {
   "cell_type": "code",
   "execution_count": null,
   "metadata": {},
   "outputs": [],
   "source": [
    "x0 = [9e-5,.1]\n",
    "res = scipy.optimize.minimize(chisquared, x0, args=(temp, abundance, error))\n",
    "res"
   ]
  },
  {
   "cell_type": "markdown",
   "metadata": {},
   "source": [
    "for u in t['star_name']:\n",
    "    plt.figure()\n",
    "    stellar_abundance_plot(u)\n",
    "  #takes up too much computer space !!!!!!!!"
   ]
  },
  {
   "cell_type": "markdown",
   "metadata": {},
   "source": [
    "stellar abundance plot only needs t, star's name but has to be updated to include alternate values for m,b from jackknife \n",
    "\n",
    "error and chi squared need to be condensed into a singular readable format, probably in plot function , alternatively in list/table form separate from plot "
   ]
  }
 ],
 "metadata": {
  "kernelspec": {
   "display_name": "Python 3",
   "language": "python",
   "name": "python3"
  },
  "language_info": {
   "codemirror_mode": {
    "name": "ipython",
    "version": 3
   },
   "file_extension": ".py",
   "mimetype": "text/x-python",
   "name": "python",
   "nbconvert_exporter": "python",
   "pygments_lexer": "ipython3",
   "version": "3.7.0"
  }
 },
 "nbformat": 4,
 "nbformat_minor": 2
}
