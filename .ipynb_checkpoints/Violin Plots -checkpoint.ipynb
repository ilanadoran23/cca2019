{
 "cells": [
  {
   "cell_type": "code",
   "execution_count": 1,
   "metadata": {},
   "outputs": [],
   "source": [
    "from solartwins import *"
   ]
  },
  {
   "cell_type": "code",
   "execution_count": 2,
   "metadata": {},
   "outputs": [],
   "source": [
    "import plotly \n",
    "import plotly.figure_factory as ff\n",
    "from plotly.graph_objs import graph_objs\n",
    "from tqdm import tqdm\n",
    "import numpy as np\n",
    "import pandas as pd\n",
    "from scipy import stats\n",
    "from pandas import DataFrame\n",
    "import plotly.express as px"
   ]
  },
  {
   "cell_type": "code",
   "execution_count": 3,
   "metadata": {},
   "outputs": [],
   "source": [
    "table= t.copy()\n",
    "\n",
    "table.remove_column('O')\n",
    "table.remove_column('C')\n",
    "\n",
    "elements =[]\n",
    "elnames = table.columns[3:64]\n",
    "for n in elnames:\n",
    "    if len(n) < 3 :\n",
    "        elements.append(n)\n",
    "\n",
    "atomic_number = [26, 11, 12, 13, 14, 16, 20, 23, 25, 27, 28, 29, 30, 38, \n",
    "                39, 40, 56, 57, 58, 59, 60, 62, 63, 64, 66, 22, 21, 24]"
   ]
  },
  {
   "cell_type": "code",
   "execution_count": 4,
   "metadata": {},
   "outputs": [],
   "source": [
    "beforetc = []\n",
    "aftertc = []\n",
    "for index, element in enumerate(elements):\n",
    "    abundance_beforetc = np.array(table[element])\n",
    "    beforetc.append(stdev(abundance_beforetc))\n",
    "    \n",
    "    element_temp = []\n",
    "    for ob in t['star_name']:\n",
    "        abund = np.array(star_table(ob)['Abundance'])\n",
    "        con_temp = np.array(star_table(ob)['Condensation Temp'])\n",
    "        error = np.array(star_table(ob)['Abundance Error'])\n",
    "        residu = residuals(con_temp, abund, error)\n",
    "        element_temp.append(residu[index])\n",
    "    aftertc.append(np.std(element_temp))"
   ]
  },
  {
   "cell_type": "code",
   "execution_count": 5,
   "metadata": {},
   "outputs": [],
   "source": [
    "zero = np.zeros_like(beforetc)\n",
    "beforetc =np.array(beforetc)\n",
    "aftertc =np.array(aftertc)\n",
    "\n",
    "difference = beforetc - aftertc\n",
    "increase =[]\n",
    "for num in difference:\n",
    "    if num > 0:\n",
    "        increase.append('decreased')\n",
    "    elif num < 0:\n",
    "        increase.append('increased')"
   ]
  },
  {
   "cell_type": "code",
   "execution_count": null,
   "metadata": {},
   "outputs": [],
   "source": [
    "aftertc = {}\n",
    "for element in elements: \n",
    "    aftertc['aftertc' + element] = []\n",
    "\n",
    "beforetc_shuff = []\n",
    "for index, element in enumerate(elements):\n",
    "    abundance_beforetc = np.array(table[element])\n",
    "    beforetc_shuff.append(stdev(abundance_beforetc))\n",
    "\n",
    "\n",
    "for index, element in enumerate(elements):\n",
    "    limit = 1000\n",
    "    while limit > 0:\n",
    "        con_temp_shuffle = []\n",
    "        for n in elements:\n",
    "            con_temp_shuffle.append(tc_map[n])\n",
    "        np.random.shuffle(con_temp_shuffle)\n",
    "        \n",
    "        element_temp = []\n",
    "        for ob in t['star_name']:\n",
    "            abund = np.array(star_table(ob)['Abundance'])\n",
    "            con_temp_shuff = np.array(con_temp_shuffle)\n",
    "            error = np.array(star_table(ob)['Abundance Error'])\n",
    "            residu = residuals(con_temp_shuff, abund, error)\n",
    "            element_temp.append(residu[index])\n",
    "        aftertc['aftertc' + element].append(np.std(element_temp)) \n",
    "        limit = limit - 1 \n",
    "    np.savetxt(element + 'aftertc', aftertc['aftertc' + element])"
   ]
  },
  {
   "cell_type": "code",
   "execution_count": null,
   "metadata": {},
   "outputs": [],
   "source": [
    "aftertc['aftertcFe']"
   ]
  },
  {
   "cell_type": "code",
   "execution_count": null,
   "metadata": {},
   "outputs": [],
   "source": [
    "np.loadtxt('Feaftertc')"
   ]
  },
  {
   "cell_type": "code",
   "execution_count": null,
   "metadata": {},
   "outputs": [],
   "source": [
    "obj = {}\n",
    "for ind, e in enumerate(elements): \n",
    "    obj['difference' + e] = []\n",
    "    for index, each in enumerate(aftertc['aftertc' + e]):\n",
    "        diff = beforetc_shuff[ind] - each\n",
    "        obj['difference'+ e].append(diff)"
   ]
  },
  {
   "cell_type": "code",
   "execution_count": null,
   "metadata": {},
   "outputs": [],
   "source": [
    "obj"
   ]
  },
  {
   "cell_type": "code",
   "execution_count": null,
   "metadata": {},
   "outputs": [],
   "source": [
    "Test = {'Element' : elements[0] , 'Atomic Number': atomic_number[0], 'StDev': beforetc[0], \n",
    "        'StDev, Tc Removed': aftertc['aftertcFe'], 'Difference': obj['differenceFe'], 'Change': increase[0]}\n",
    "\n",
    "test = DataFrame (Test, columns = ['Element','Atomic Number', 'StDev', \n",
    "                                 'StDev, Tc Removed', 'Difference', 'Change'])\n",
    "print(test)\n",
    "\n",
    "fig = px.violin(test, y=\"Difference\", x=\"Element\", color=\"Change\", box=True, points=\"all\",\n",
    "          hover_data=test.columns)\n",
    "fig.show()"
   ]
  },
  {
   "cell_type": "code",
   "execution_count": null,
   "metadata": {},
   "outputs": [],
   "source": [
    "Test2 = {'Element' : elements[1] , 'Atomic Number': atomic_number[1], 'StDev': beforetc[1], \n",
    "        'StDev, Tc Removed': aftertc['aftertcNa'], 'Difference': obj['differenceNa'], 'Change': increase[1]}\n",
    "\n",
    "test2 = DataFrame (Test2, columns = ['Element','Atomic Number', 'StDev', \n",
    "                                 'StDev, Tc Removed', 'Difference', 'Change'])\n",
    "print(test2)\n",
    "\n",
    "fig = px.violin(test2, y=\"Difference\", x=\"Element\", color=\"Change\", box=True, points=\"all\",\n",
    "          hover_data=test2.columns)\n",
    "fig.show()"
   ]
  },
  {
   "cell_type": "code",
   "execution_count": null,
   "metadata": {},
   "outputs": [],
   "source": [
    "frames = [test, test2]\n",
    "\n",
    "result = pd.concat(frames)\n",
    "    \n",
    "#pd.concat(objs, axis=0, join='outer', ignore_index=False, keys=None,\n",
    "         # levels=None, names=None, verify_integrity=False, copy=True)\n",
    "    \n",
    "result"
   ]
  },
  {
   "cell_type": "code",
   "execution_count": null,
   "metadata": {},
   "outputs": [],
   "source": [
    "Data_1 = {'Element' : elements[0:5] , 'Atomic Number': atomic_number[0:5], 'StDev': beforetc[0:5], \n",
    "        'StDev, Tc Removed': aftertc[0:5], 'Difference': difference[0:5], 'Change': increase[0:5]}\n",
    "\n",
    "df_1 = DataFrame (Data_1, columns = ['Element','Atomic Number', 'StDev', \n",
    "                                 'StDev, Tc Removed', 'Difference', 'Change'])\n",
    "print(df_1)\n",
    "\n",
    "fig = px.violin(df_1, y=\"Difference\", x=\"Element\", color=\"Change\", box=True, points=\"all\",\n",
    "          hover_data=df_1.columns)\n",
    "fig.show()"
   ]
  },
  {
   "cell_type": "code",
   "execution_count": null,
   "metadata": {},
   "outputs": [],
   "source": [
    "Data_2 = {'Element' : elements[6:11] , 'Atomic Number': atomic_number[6:11], 'StDev': beforetc[6:11], \n",
    "        'StDev, Tc Removed': aftertc[6:11], 'Difference': difference[6:11], 'Change': increase[6:11]}\n",
    "\n",
    "df_2 = DataFrame (Data_2, columns = ['Element','Atomic Number', 'StDev', \n",
    "                                 'StDev, Tc Removed', 'Difference', 'Change'])\n",
    "print(df_2)\n",
    "\n",
    "fig = px.violin(df_2, y=\"Difference\", x=\"Element\", color=\"Change\", box=True, points=\"all\",\n",
    "          hover_data=df_2.columns)\n",
    "fig.show()"
   ]
  },
  {
   "cell_type": "code",
   "execution_count": null,
   "metadata": {},
   "outputs": [],
   "source": [
    "Data_3 = {'Element' : elements[12:17] , 'Atomic Number': atomic_number[12:17], 'StDev': beforetc[12:17], \n",
    "        'StDev, Tc Removed': aftertc[12:17], 'Difference': difference[12:17], 'Change': increase[12:17]}\n",
    "\n",
    "df_3 = DataFrame (Data_3, columns = ['Element','Atomic Number', 'StDev', \n",
    "                                 'StDev, Tc Removed', 'Difference', 'Change'])\n",
    "print(df_3)\n",
    "\n",
    "fig = px.violin(df_3, y=\"Difference\", x=\"Element\", color=\"Change\", box=True, points=\"all\",\n",
    "          hover_data=df_3.columns)\n",
    "fig.show()"
   ]
  },
  {
   "cell_type": "code",
   "execution_count": null,
   "metadata": {},
   "outputs": [],
   "source": [
    "Data_4 = {'Element' : elements[18:23] , 'Atomic Number': atomic_number[18:23], 'StDev': beforetc[18:23], \n",
    "        'StDev, Tc Removed': aftertc[18:23], 'Difference': difference[18:23], 'Change': increase[18:23]}\n",
    "\n",
    "df_4 = DataFrame (Data_4, columns = ['Element','Atomic Number', 'StDev', \n",
    "                                 'StDev, Tc Removed', 'Difference', 'Change'])\n",
    "print(df_4)\n",
    "\n",
    "fig = px.violin(df_4, y=\"Difference\", x=\"Element\", color=\"Change\", box=True, points=\"all\",\n",
    "          hover_data=df_4.columns)\n",
    "fig.show()"
   ]
  },
  {
   "cell_type": "code",
   "execution_count": null,
   "metadata": {},
   "outputs": [],
   "source": [
    "Data_5 = {'Element' : elements[24:29] , 'Atomic Number': atomic_number[24:29], 'StDev': beforetc[24:29], \n",
    "        'StDev, Tc Removed': aftertc[24:29], 'Difference': difference[24:29], 'Change': increase[24:29]}\n",
    "\n",
    "df_5 = DataFrame (Data_5, columns = ['Element','Atomic Number', 'StDev', \n",
    "                                 'StDev, Tc Removed', 'Difference', 'Change'])\n",
    "print(df_5)\n",
    "\n",
    "fig = px.violin(df_5, y=\"Difference\", x=\"Element\", color=\"Change\", box=True, points=\"all\",\n",
    "          hover_data=df_5.columns)\n",
    "fig.show()"
   ]
  },
  {
   "cell_type": "code",
   "execution_count": null,
   "metadata": {},
   "outputs": [],
   "source": []
  },
  {
   "cell_type": "code",
   "execution_count": null,
   "metadata": {},
   "outputs": [],
   "source": []
  }
 ],
 "metadata": {
  "kernelspec": {
   "display_name": "Python 3",
   "language": "python",
   "name": "python3"
  },
  "language_info": {
   "codemirror_mode": {
    "name": "ipython",
    "version": 3
   },
   "file_extension": ".py",
   "mimetype": "text/x-python",
   "name": "python",
   "nbconvert_exporter": "python",
   "pygments_lexer": "ipython3",
   "version": "3.7.0"
  }
 },
 "nbformat": 4,
 "nbformat_minor": 2
}
